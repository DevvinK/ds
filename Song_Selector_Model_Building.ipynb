{
  "nbformat": 4,
  "nbformat_minor": 0,
  "metadata": {
    "colab": {
      "name": "Song Selector Model Building",
      "provenance": [],
      "mount_file_id": "1renATL9nK7zlOqSJEDYTm1QwWx_rR92D",
      "authorship_tag": "ABX9TyMKxON9LSXDcqasbx8E+kam",
      "include_colab_link": true
    },
    "kernelspec": {
      "name": "python3",
      "display_name": "Python 3"
    },
    "accelerator": "GPU"
  },
  "cells": [
    {
      "cell_type": "markdown",
      "metadata": {
        "id": "view-in-github",
        "colab_type": "text"
      },
      "source": [
        "<a href=\"https://colab.research.google.com/github/bw-spotify2/ds/blob/master/Song_Selector_Model_Building.ipynb\" target=\"_parent\"><img src=\"https://colab.research.google.com/assets/colab-badge.svg\" alt=\"Open In Colab\"/></a>"
      ]
    },
    {
      "cell_type": "markdown",
      "metadata": {
        "id": "OjIh4HvACkMh",
        "colab_type": "text"
      },
      "source": [
        "## Initial building of the model."
      ]
    },
    {
      "cell_type": "markdown",
      "metadata": {
        "id": "V1fBFa7qAiwd",
        "colab_type": "text"
      },
      "source": [
        "### Load in the Dataset"
      ]
    },
    {
      "cell_type": "code",
      "metadata": {
        "id": "rtqee1org69e",
        "colab_type": "code",
        "colab": {
          "base_uri": "https://localhost:8080/",
          "height": 532
        },
        "outputId": "36f4bf59-7418-4b5e-d2f8-ff5cd3359b6a"
      },
      "source": [
        "import pandas as pd\n",
        "\n",
        "df = pd.read_csv('/content/drive/My Drive/Lambda/Unit 4/Sprint 4/SpotifyFeatures.csv')\n",
        "df.sample(10)"
      ],
      "execution_count": 1,
      "outputs": [
        {
          "output_type": "execute_result",
          "data": {
            "text/html": [
              "<div>\n",
              "<style scoped>\n",
              "    .dataframe tbody tr th:only-of-type {\n",
              "        vertical-align: middle;\n",
              "    }\n",
              "\n",
              "    .dataframe tbody tr th {\n",
              "        vertical-align: top;\n",
              "    }\n",
              "\n",
              "    .dataframe thead th {\n",
              "        text-align: right;\n",
              "    }\n",
              "</style>\n",
              "<table border=\"1\" class=\"dataframe\">\n",
              "  <thead>\n",
              "    <tr style=\"text-align: right;\">\n",
              "      <th></th>\n",
              "      <th>genre</th>\n",
              "      <th>artist_name</th>\n",
              "      <th>track_name</th>\n",
              "      <th>track_id</th>\n",
              "      <th>popularity</th>\n",
              "      <th>acousticness</th>\n",
              "      <th>danceability</th>\n",
              "      <th>duration_ms</th>\n",
              "      <th>energy</th>\n",
              "      <th>instrumentalness</th>\n",
              "      <th>key</th>\n",
              "      <th>liveness</th>\n",
              "      <th>loudness</th>\n",
              "      <th>mode</th>\n",
              "      <th>speechiness</th>\n",
              "      <th>tempo</th>\n",
              "      <th>time_signature</th>\n",
              "      <th>valence</th>\n",
              "    </tr>\n",
              "  </thead>\n",
              "  <tbody>\n",
              "    <tr>\n",
              "      <th>112651</th>\n",
              "      <td>Pop</td>\n",
              "      <td>Quavo</td>\n",
              "      <td>BUBBLE GUM</td>\n",
              "      <td>1t5lB6hvOMWdat5NKm29Qx</td>\n",
              "      <td>64</td>\n",
              "      <td>0.1140</td>\n",
              "      <td>0.799</td>\n",
              "      <td>196496</td>\n",
              "      <td>0.752</td>\n",
              "      <td>0.000000</td>\n",
              "      <td>B</td>\n",
              "      <td>0.1090</td>\n",
              "      <td>-3.734</td>\n",
              "      <td>Minor</td>\n",
              "      <td>0.2740</td>\n",
              "      <td>75.980</td>\n",
              "      <td>4/4</td>\n",
              "      <td>0.763</td>\n",
              "    </tr>\n",
              "    <tr>\n",
              "      <th>131818</th>\n",
              "      <td>Reggae</td>\n",
              "      <td>Sanchez</td>\n",
              "      <td>Never Dis Di Man</td>\n",
              "      <td>2ummQ4p7DvMtZZUqF58a4I</td>\n",
              "      <td>43</td>\n",
              "      <td>0.0434</td>\n",
              "      <td>0.708</td>\n",
              "      <td>240667</td>\n",
              "      <td>0.472</td>\n",
              "      <td>0.000000</td>\n",
              "      <td>F#</td>\n",
              "      <td>0.0729</td>\n",
              "      <td>-10.758</td>\n",
              "      <td>Minor</td>\n",
              "      <td>0.1530</td>\n",
              "      <td>159.901</td>\n",
              "      <td>4/4</td>\n",
              "      <td>0.742</td>\n",
              "    </tr>\n",
              "    <tr>\n",
              "      <th>53631</th>\n",
              "      <td>Blues</td>\n",
              "      <td>Black Diamond Heavies</td>\n",
              "      <td>Bidin' My Time</td>\n",
              "      <td>3C3FMupFEfOibl8Grn6W70</td>\n",
              "      <td>27</td>\n",
              "      <td>0.6250</td>\n",
              "      <td>0.300</td>\n",
              "      <td>316573</td>\n",
              "      <td>0.462</td>\n",
              "      <td>0.005010</td>\n",
              "      <td>G</td>\n",
              "      <td>0.1480</td>\n",
              "      <td>-11.367</td>\n",
              "      <td>Major</td>\n",
              "      <td>0.0264</td>\n",
              "      <td>147.932</td>\n",
              "      <td>3/4</td>\n",
              "      <td>0.296</td>\n",
              "    </tr>\n",
              "    <tr>\n",
              "      <th>114682</th>\n",
              "      <td>Rap</td>\n",
              "      <td>Speaker Knockerz</td>\n",
              "      <td>Lonely</td>\n",
              "      <td>0dbZ2iUuKvsm3FupBw6M9N</td>\n",
              "      <td>67</td>\n",
              "      <td>0.1260</td>\n",
              "      <td>0.802</td>\n",
              "      <td>186613</td>\n",
              "      <td>0.582</td>\n",
              "      <td>0.000000</td>\n",
              "      <td>C#</td>\n",
              "      <td>0.1610</td>\n",
              "      <td>-7.296</td>\n",
              "      <td>Minor</td>\n",
              "      <td>0.2350</td>\n",
              "      <td>150.002</td>\n",
              "      <td>4/4</td>\n",
              "      <td>0.338</td>\n",
              "    </tr>\n",
              "    <tr>\n",
              "      <th>145169</th>\n",
              "      <td>Indie</td>\n",
              "      <td>Nick Wilson</td>\n",
              "      <td>All I Ever Wanted Was You</td>\n",
              "      <td>2PyorPr6Hzdnmxm85lrohB</td>\n",
              "      <td>46</td>\n",
              "      <td>0.8940</td>\n",
              "      <td>0.613</td>\n",
              "      <td>220029</td>\n",
              "      <td>0.120</td>\n",
              "      <td>0.000000</td>\n",
              "      <td>G</td>\n",
              "      <td>0.0963</td>\n",
              "      <td>-14.099</td>\n",
              "      <td>Major</td>\n",
              "      <td>0.0328</td>\n",
              "      <td>100.044</td>\n",
              "      <td>3/4</td>\n",
              "      <td>0.137</td>\n",
              "    </tr>\n",
              "    <tr>\n",
              "      <th>92675</th>\n",
              "      <td>Hip-Hop</td>\n",
              "      <td>Guru Randhawa</td>\n",
              "      <td>Kaun Nachdi</td>\n",
              "      <td>7r8QeC6Uy3AbIXqH7W9y0K</td>\n",
              "      <td>54</td>\n",
              "      <td>0.0357</td>\n",
              "      <td>0.772</td>\n",
              "      <td>183373</td>\n",
              "      <td>0.830</td>\n",
              "      <td>0.000000</td>\n",
              "      <td>E</td>\n",
              "      <td>0.0419</td>\n",
              "      <td>-3.981</td>\n",
              "      <td>Minor</td>\n",
              "      <td>0.0455</td>\n",
              "      <td>127.999</td>\n",
              "      <td>4/4</td>\n",
              "      <td>0.753</td>\n",
              "    </tr>\n",
              "    <tr>\n",
              "      <th>173067</th>\n",
              "      <td>Comedy</td>\n",
              "      <td>Louis Katz</td>\n",
              "      <td>Chanukah</td>\n",
              "      <td>2UEZhTquCdtqf0UGWwVT0i</td>\n",
              "      <td>17</td>\n",
              "      <td>0.8170</td>\n",
              "      <td>0.557</td>\n",
              "      <td>189480</td>\n",
              "      <td>0.859</td>\n",
              "      <td>0.000000</td>\n",
              "      <td>E</td>\n",
              "      <td>0.8760</td>\n",
              "      <td>-5.275</td>\n",
              "      <td>Minor</td>\n",
              "      <td>0.7810</td>\n",
              "      <td>121.363</td>\n",
              "      <td>5/4</td>\n",
              "      <td>0.565</td>\n",
              "    </tr>\n",
              "    <tr>\n",
              "      <th>59835</th>\n",
              "      <td>R&amp;B</td>\n",
              "      <td>Little Mix</td>\n",
              "      <td>Motivate</td>\n",
              "      <td>1IKzLByg2KGGUlvCDQKVJv</td>\n",
              "      <td>63</td>\n",
              "      <td>0.1790</td>\n",
              "      <td>0.652</td>\n",
              "      <td>201720</td>\n",
              "      <td>0.790</td>\n",
              "      <td>0.000002</td>\n",
              "      <td>C#</td>\n",
              "      <td>0.0595</td>\n",
              "      <td>-5.122</td>\n",
              "      <td>Major</td>\n",
              "      <td>0.0675</td>\n",
              "      <td>145.992</td>\n",
              "      <td>4/4</td>\n",
              "      <td>0.616</td>\n",
              "    </tr>\n",
              "    <tr>\n",
              "      <th>5395</th>\n",
              "      <td>Alternative</td>\n",
              "      <td>Brent Faiyaz</td>\n",
              "      <td>Insecure</td>\n",
              "      <td>4t5Zj9I7WDYFaYlSif13lV</td>\n",
              "      <td>53</td>\n",
              "      <td>0.5090</td>\n",
              "      <td>0.436</td>\n",
              "      <td>245619</td>\n",
              "      <td>0.306</td>\n",
              "      <td>0.000000</td>\n",
              "      <td>B</td>\n",
              "      <td>0.5910</td>\n",
              "      <td>-11.337</td>\n",
              "      <td>Minor</td>\n",
              "      <td>0.0886</td>\n",
              "      <td>95.337</td>\n",
              "      <td>5/4</td>\n",
              "      <td>0.355</td>\n",
              "    </tr>\n",
              "    <tr>\n",
              "      <th>39448</th>\n",
              "      <td>Electronic</td>\n",
              "      <td>Seven Lions</td>\n",
              "      <td>Rush Over Me (EFL099)</td>\n",
              "      <td>4XxBGpebgw38vKRdyVhtj5</td>\n",
              "      <td>28</td>\n",
              "      <td>0.0461</td>\n",
              "      <td>0.481</td>\n",
              "      <td>267256</td>\n",
              "      <td>0.783</td>\n",
              "      <td>0.000000</td>\n",
              "      <td>A</td>\n",
              "      <td>0.5470</td>\n",
              "      <td>-6.638</td>\n",
              "      <td>Minor</td>\n",
              "      <td>0.0790</td>\n",
              "      <td>135.047</td>\n",
              "      <td>4/4</td>\n",
              "      <td>0.363</td>\n",
              "    </tr>\n",
              "  </tbody>\n",
              "</table>\n",
              "</div>"
            ],
            "text/plain": [
              "              genre            artist_name  ... time_signature valence\n",
              "112651          Pop                  Quavo  ...            4/4   0.763\n",
              "131818       Reggae                Sanchez  ...            4/4   0.742\n",
              "53631         Blues  Black Diamond Heavies  ...            3/4   0.296\n",
              "114682          Rap       Speaker Knockerz  ...            4/4   0.338\n",
              "145169        Indie            Nick Wilson  ...            3/4   0.137\n",
              "92675       Hip-Hop          Guru Randhawa  ...            4/4   0.753\n",
              "173067       Comedy             Louis Katz  ...            5/4   0.565\n",
              "59835           R&B             Little Mix  ...            4/4   0.616\n",
              "5395    Alternative           Brent Faiyaz  ...            5/4   0.355\n",
              "39448    Electronic            Seven Lions  ...            4/4   0.363\n",
              "\n",
              "[10 rows x 18 columns]"
            ]
          },
          "metadata": {
            "tags": []
          },
          "execution_count": 1
        }
      ]
    },
    {
      "cell_type": "code",
      "metadata": {
        "id": "umS4a1jXl3n4",
        "colab_type": "code",
        "colab": {
          "base_uri": "https://localhost:8080/",
          "height": 136
        },
        "outputId": "a2830c25-4d9e-4db9-a72f-626ddc95d3e9"
      },
      "source": [
        "# Connect to the API in case we need to look at it's output\n",
        "\n",
        "!pip install spotipy --upgrade\n",
        "import spotipy\n",
        "from spotipy.oauth2 import SpotifyClientCredentials\n",
        "import pandas as pd\n",
        "import time \n",
        "\n",
        "client_id = '14f59f665a094868921bdd76e420d7c0'\n",
        "client_secret = '5e16ddb0f2ed45a69949330bbd34351a'\n",
        "username = 'mahoryu'\n",
        "\n",
        "client_credentials_manager = SpotifyClientCredentials(client_id, client_secret)\n",
        "sp = spotipy.Spotify(client_credentials_manager=client_credentials_manager)"
      ],
      "execution_count": 2,
      "outputs": [
        {
          "output_type": "stream",
          "text": [
            "Requirement already up-to-date: spotipy in /usr/local/lib/python3.6/dist-packages (2.12.0)\n",
            "Requirement already satisfied, skipping upgrade: six>=1.10.0 in /usr/local/lib/python3.6/dist-packages (from spotipy) (1.12.0)\n",
            "Requirement already satisfied, skipping upgrade: requests>=2.20.0 in /usr/local/lib/python3.6/dist-packages (from spotipy) (2.23.0)\n",
            "Requirement already satisfied, skipping upgrade: idna<3,>=2.5 in /usr/local/lib/python3.6/dist-packages (from requests>=2.20.0->spotipy) (2.9)\n",
            "Requirement already satisfied, skipping upgrade: urllib3!=1.25.0,!=1.25.1,<1.26,>=1.21.1 in /usr/local/lib/python3.6/dist-packages (from requests>=2.20.0->spotipy) (1.24.3)\n",
            "Requirement already satisfied, skipping upgrade: chardet<4,>=3.0.2 in /usr/local/lib/python3.6/dist-packages (from requests>=2.20.0->spotipy) (3.0.4)\n",
            "Requirement already satisfied, skipping upgrade: certifi>=2017.4.17 in /usr/local/lib/python3.6/dist-packages (from requests>=2.20.0->spotipy) (2020.4.5.2)\n"
          ],
          "name": "stdout"
        }
      ]
    },
    {
      "cell_type": "markdown",
      "metadata": {
        "id": "Ve0nkowCA4Fp",
        "colab_type": "text"
      },
      "source": [
        "### Define the columns we want to use and make a df with it"
      ]
    },
    {
      "cell_type": "code",
      "metadata": {
        "id": "ZEI_TymE2pP0",
        "colab_type": "code",
        "colab": {}
      },
      "source": [
        "# define headers\n",
        "headers = ['popularity','acousticness','danceability','duration_ms','energy','instrumentalness','liveness','loudness','speechiness','tempo','valence']\n",
        "df_new = df[headers]"
      ],
      "execution_count": 3,
      "outputs": []
    },
    {
      "cell_type": "code",
      "metadata": {
        "id": "f-TkOd5gIEer",
        "colab_type": "code",
        "colab": {
          "base_uri": "https://localhost:8080/",
          "height": 204
        },
        "outputId": "dd008964-9e82-4262-f5a3-52e330cb55fe"
      },
      "source": [
        "df_new.head()"
      ],
      "execution_count": 4,
      "outputs": [
        {
          "output_type": "execute_result",
          "data": {
            "text/html": [
              "<div>\n",
              "<style scoped>\n",
              "    .dataframe tbody tr th:only-of-type {\n",
              "        vertical-align: middle;\n",
              "    }\n",
              "\n",
              "    .dataframe tbody tr th {\n",
              "        vertical-align: top;\n",
              "    }\n",
              "\n",
              "    .dataframe thead th {\n",
              "        text-align: right;\n",
              "    }\n",
              "</style>\n",
              "<table border=\"1\" class=\"dataframe\">\n",
              "  <thead>\n",
              "    <tr style=\"text-align: right;\">\n",
              "      <th></th>\n",
              "      <th>popularity</th>\n",
              "      <th>acousticness</th>\n",
              "      <th>danceability</th>\n",
              "      <th>duration_ms</th>\n",
              "      <th>energy</th>\n",
              "      <th>instrumentalness</th>\n",
              "      <th>liveness</th>\n",
              "      <th>loudness</th>\n",
              "      <th>speechiness</th>\n",
              "      <th>tempo</th>\n",
              "      <th>valence</th>\n",
              "    </tr>\n",
              "  </thead>\n",
              "  <tbody>\n",
              "    <tr>\n",
              "      <th>0</th>\n",
              "      <td>0</td>\n",
              "      <td>0.611</td>\n",
              "      <td>0.389</td>\n",
              "      <td>99373</td>\n",
              "      <td>0.910</td>\n",
              "      <td>0.000</td>\n",
              "      <td>0.3460</td>\n",
              "      <td>-1.828</td>\n",
              "      <td>0.0525</td>\n",
              "      <td>166.969</td>\n",
              "      <td>0.814</td>\n",
              "    </tr>\n",
              "    <tr>\n",
              "      <th>1</th>\n",
              "      <td>1</td>\n",
              "      <td>0.246</td>\n",
              "      <td>0.590</td>\n",
              "      <td>137373</td>\n",
              "      <td>0.737</td>\n",
              "      <td>0.000</td>\n",
              "      <td>0.1510</td>\n",
              "      <td>-5.559</td>\n",
              "      <td>0.0868</td>\n",
              "      <td>174.003</td>\n",
              "      <td>0.816</td>\n",
              "    </tr>\n",
              "    <tr>\n",
              "      <th>2</th>\n",
              "      <td>3</td>\n",
              "      <td>0.952</td>\n",
              "      <td>0.663</td>\n",
              "      <td>170267</td>\n",
              "      <td>0.131</td>\n",
              "      <td>0.000</td>\n",
              "      <td>0.1030</td>\n",
              "      <td>-13.879</td>\n",
              "      <td>0.0362</td>\n",
              "      <td>99.488</td>\n",
              "      <td>0.368</td>\n",
              "    </tr>\n",
              "    <tr>\n",
              "      <th>3</th>\n",
              "      <td>0</td>\n",
              "      <td>0.703</td>\n",
              "      <td>0.240</td>\n",
              "      <td>152427</td>\n",
              "      <td>0.326</td>\n",
              "      <td>0.000</td>\n",
              "      <td>0.0985</td>\n",
              "      <td>-12.178</td>\n",
              "      <td>0.0395</td>\n",
              "      <td>171.758</td>\n",
              "      <td>0.227</td>\n",
              "    </tr>\n",
              "    <tr>\n",
              "      <th>4</th>\n",
              "      <td>4</td>\n",
              "      <td>0.950</td>\n",
              "      <td>0.331</td>\n",
              "      <td>82625</td>\n",
              "      <td>0.225</td>\n",
              "      <td>0.123</td>\n",
              "      <td>0.2020</td>\n",
              "      <td>-21.150</td>\n",
              "      <td>0.0456</td>\n",
              "      <td>140.576</td>\n",
              "      <td>0.390</td>\n",
              "    </tr>\n",
              "  </tbody>\n",
              "</table>\n",
              "</div>"
            ],
            "text/plain": [
              "   popularity  acousticness  danceability  ...  speechiness    tempo  valence\n",
              "0           0         0.611         0.389  ...       0.0525  166.969    0.814\n",
              "1           1         0.246         0.590  ...       0.0868  174.003    0.816\n",
              "2           3         0.952         0.663  ...       0.0362   99.488    0.368\n",
              "3           0         0.703         0.240  ...       0.0395  171.758    0.227\n",
              "4           4         0.950         0.331  ...       0.0456  140.576    0.390\n",
              "\n",
              "[5 rows x 11 columns]"
            ]
          },
          "metadata": {
            "tags": []
          },
          "execution_count": 4
        }
      ]
    },
    {
      "cell_type": "code",
      "metadata": {
        "id": "wtbbJDcEN80U",
        "colab_type": "code",
        "colab": {
          "base_uri": "https://localhost:8080/",
          "height": 34
        },
        "outputId": "cf6c49e7-2e00-4edf-c1e6-54547cdda171"
      },
      "source": [
        "df_new.shape"
      ],
      "execution_count": 5,
      "outputs": [
        {
          "output_type": "execute_result",
          "data": {
            "text/plain": [
              "(232725, 11)"
            ]
          },
          "metadata": {
            "tags": []
          },
          "execution_count": 5
        }
      ]
    },
    {
      "cell_type": "markdown",
      "metadata": {
        "id": "kcY8_MocBA6l",
        "colab_type": "text"
      },
      "source": [
        "### Make the model"
      ]
    },
    {
      "cell_type": "code",
      "metadata": {
        "id": "vhbd0GflNQNz",
        "colab_type": "code",
        "colab": {
          "base_uri": "https://localhost:8080/",
          "height": 34
        },
        "outputId": "2a4524c5-a50e-42ad-92de-a76893458b53"
      },
      "source": [
        "# imports \n",
        "\n",
        "from keras.models import Model\n",
        "from keras.layers import Input, Dense\n",
        "from keras import regularizers\n",
        "from sklearn.preprocessing import MinMaxScaler\n",
        "import pandas as pd"
      ],
      "execution_count": 6,
      "outputs": [
        {
          "output_type": "stream",
          "text": [
            "Using TensorFlow backend.\n"
          ],
          "name": "stderr"
        }
      ]
    },
    {
      "cell_type": "code",
      "metadata": {
        "id": "KV7ntMqdNcnq",
        "colab_type": "code",
        "colab": {}
      },
      "source": [
        "# Normalise the data\n",
        "scaler = MinMaxScaler()\n",
        "data_scaled = scaler.fit_transform(df_new)"
      ],
      "execution_count": 77,
      "outputs": []
    },
    {
      "cell_type": "markdown",
      "metadata": {
        "id": "RW4pxtP0Gczz",
        "colab_type": "text"
      },
      "source": [
        "#### Pickle the Scaler"
      ]
    },
    {
      "cell_type": "code",
      "metadata": {
        "id": "uoqqun5YGfqO",
        "colab_type": "code",
        "colab": {
          "base_uri": "https://localhost:8080/",
          "height": 34
        },
        "outputId": "6b5610f7-e0fd-455e-ef53-191bd37cbf03"
      },
      "source": [
        "import pickle\n",
        "\n",
        "# Dump the trained classifier (autoencoder)  with Pickle\n",
        "pickle_filename_1 = 'scaler_model.pkl'\n",
        "pickled_model_1 = open(pickle_filename_1, 'wb')  # Open the file to save as pkl file\n",
        "pickle.dump(scaler, pickled_model_1)\n",
        "pickled_model_1.close() # Close the pickle instances\n",
        "\n",
        "# Loading the saved model\n",
        "model_pkl_1 = open(pickle_filename_1, 'rb')\n",
        "scaler_model = pickle.load(model_pkl_1)\n",
        "print (\"Loaded model :: \", scaler_model)  # print to verify"
      ],
      "execution_count": 79,
      "outputs": [
        {
          "output_type": "stream",
          "text": [
            "Loaded model ::  MinMaxScaler(copy=True, feature_range=(0, 1))\n"
          ],
          "name": "stdout"
        }
      ]
    },
    {
      "cell_type": "markdown",
      "metadata": {
        "id": "DAiAaodwHa_b",
        "colab_type": "text"
      },
      "source": [
        "#### Create actual Model"
      ]
    },
    {
      "cell_type": "code",
      "metadata": {
        "id": "-qwL_gFsOFw1",
        "colab_type": "code",
        "colab": {
          "base_uri": "https://localhost:8080/",
          "height": 204
        },
        "outputId": "62545e20-0aad-45aa-b45d-0c085ea5bec1"
      },
      "source": [
        "# set the scaled data to a new df\n",
        "df_scaled = pd.DataFrame(data_scaled,columns=headers)\n",
        "df_scaled.head()"
      ],
      "execution_count": 78,
      "outputs": [
        {
          "output_type": "execute_result",
          "data": {
            "text/html": [
              "<div>\n",
              "<style scoped>\n",
              "    .dataframe tbody tr th:only-of-type {\n",
              "        vertical-align: middle;\n",
              "    }\n",
              "\n",
              "    .dataframe tbody tr th {\n",
              "        vertical-align: top;\n",
              "    }\n",
              "\n",
              "    .dataframe thead th {\n",
              "        text-align: right;\n",
              "    }\n",
              "</style>\n",
              "<table border=\"1\" class=\"dataframe\">\n",
              "  <thead>\n",
              "    <tr style=\"text-align: right;\">\n",
              "      <th></th>\n",
              "      <th>popularity</th>\n",
              "      <th>acousticness</th>\n",
              "      <th>danceability</th>\n",
              "      <th>duration_ms</th>\n",
              "      <th>energy</th>\n",
              "      <th>instrumentalness</th>\n",
              "      <th>liveness</th>\n",
              "      <th>loudness</th>\n",
              "      <th>speechiness</th>\n",
              "      <th>tempo</th>\n",
              "      <th>valence</th>\n",
              "    </tr>\n",
              "  </thead>\n",
              "  <tbody>\n",
              "    <tr>\n",
              "      <th>0</th>\n",
              "      <td>0.00</td>\n",
              "      <td>0.613454</td>\n",
              "      <td>0.356292</td>\n",
              "      <td>0.015167</td>\n",
              "      <td>0.910909</td>\n",
              "      <td>0.000000</td>\n",
              "      <td>0.339614</td>\n",
              "      <td>0.900856</td>\n",
              "      <td>0.032070</td>\n",
              "      <td>0.642704</td>\n",
              "      <td>0.814</td>\n",
              "    </tr>\n",
              "    <tr>\n",
              "      <th>1</th>\n",
              "      <td>0.01</td>\n",
              "      <td>0.246988</td>\n",
              "      <td>0.571934</td>\n",
              "      <td>0.022029</td>\n",
              "      <td>0.737732</td>\n",
              "      <td>0.000000</td>\n",
              "      <td>0.142710</td>\n",
              "      <td>0.834469</td>\n",
              "      <td>0.068374</td>\n",
              "      <td>0.675801</td>\n",
              "      <td>0.816</td>\n",
              "    </tr>\n",
              "    <tr>\n",
              "      <th>2</th>\n",
              "      <td>0.03</td>\n",
              "      <td>0.955823</td>\n",
              "      <td>0.650252</td>\n",
              "      <td>0.027969</td>\n",
              "      <td>0.131113</td>\n",
              "      <td>0.000000</td>\n",
              "      <td>0.094241</td>\n",
              "      <td>0.686429</td>\n",
              "      <td>0.014818</td>\n",
              "      <td>0.325182</td>\n",
              "      <td>0.368</td>\n",
              "    </tr>\n",
              "    <tr>\n",
              "      <th>3</th>\n",
              "      <td>0.00</td>\n",
              "      <td>0.705823</td>\n",
              "      <td>0.196438</td>\n",
              "      <td>0.024747</td>\n",
              "      <td>0.326313</td>\n",
              "      <td>0.000000</td>\n",
              "      <td>0.089697</td>\n",
              "      <td>0.716695</td>\n",
              "      <td>0.018311</td>\n",
              "      <td>0.665238</td>\n",
              "      <td>0.227</td>\n",
              "    </tr>\n",
              "    <tr>\n",
              "      <th>4</th>\n",
              "      <td>0.04</td>\n",
              "      <td>0.953815</td>\n",
              "      <td>0.294067</td>\n",
              "      <td>0.012142</td>\n",
              "      <td>0.225209</td>\n",
              "      <td>0.123123</td>\n",
              "      <td>0.194208</td>\n",
              "      <td>0.557054</td>\n",
              "      <td>0.024767</td>\n",
              "      <td>0.518516</td>\n",
              "      <td>0.390</td>\n",
              "    </tr>\n",
              "  </tbody>\n",
              "</table>\n",
              "</div>"
            ],
            "text/plain": [
              "   popularity  acousticness  danceability  ...  speechiness     tempo  valence\n",
              "0        0.00      0.613454      0.356292  ...     0.032070  0.642704    0.814\n",
              "1        0.01      0.246988      0.571934  ...     0.068374  0.675801    0.816\n",
              "2        0.03      0.955823      0.650252  ...     0.014818  0.325182    0.368\n",
              "3        0.00      0.705823      0.196438  ...     0.018311  0.665238    0.227\n",
              "4        0.04      0.953815      0.294067  ...     0.024767  0.518516    0.390\n",
              "\n",
              "[5 rows x 11 columns]"
            ]
          },
          "metadata": {
            "tags": []
          },
          "execution_count": 78
        }
      ]
    },
    {
      "cell_type": "code",
      "metadata": {
        "id": "c9HkvN9iOwj9",
        "colab_type": "code",
        "colab": {
          "base_uri": "https://localhost:8080/",
          "height": 391
        },
        "outputId": "fdc84c3b-1bb2-4ed7-fa6f-d700f70800d6"
      },
      "source": [
        "# create the actual autoencoder\n",
        "\n",
        "# set the input dimentions to what is in the df_new\n",
        "input_dim = df_new.shape[1]  # 11\n",
        "\n",
        "# Number of neurons in each Layer [11, 7, 4, 2, ...] of encoders\n",
        "input_layer = Input(shape=(input_dim, ))\n",
        "encoder_layer_1 = Dense(7, activation=\"relu\", activity_regularizer=regularizers.l1(10e-5))(input_layer)\n",
        "encoder_layer_2 = Dense(4, activation=\"relu\")(encoder_layer_1)\n",
        "encoder_layer_3 = Dense(2, activation=\"relu\")(encoder_layer_2)\n",
        "\n",
        "# Crear encoder model\n",
        "encoder = Model(inputs=input_layer, outputs=encoder_layer_3)\n",
        "\n",
        "decoder_1 = Dense(4, activation='relu')(encoder_layer_3)\n",
        "decoder_2 = Dense(7, activation='relu')(decoder_1)\n",
        "decoder_output = Dense(input_dim, activation = 'softmax')(decoder_2)\n",
        "\n",
        "autoencoder = Model(input_layer, decoder_output)\n",
        "\n",
        "autoencoder.summary()"
      ],
      "execution_count": 9,
      "outputs": [
        {
          "output_type": "stream",
          "text": [
            "Model: \"model_2\"\n",
            "_________________________________________________________________\n",
            "Layer (type)                 Output Shape              Param #   \n",
            "=================================================================\n",
            "input_1 (InputLayer)         (None, 11)                0         \n",
            "_________________________________________________________________\n",
            "dense_1 (Dense)              (None, 7)                 84        \n",
            "_________________________________________________________________\n",
            "dense_2 (Dense)              (None, 4)                 32        \n",
            "_________________________________________________________________\n",
            "dense_3 (Dense)              (None, 2)                 10        \n",
            "_________________________________________________________________\n",
            "dense_4 (Dense)              (None, 4)                 12        \n",
            "_________________________________________________________________\n",
            "dense_5 (Dense)              (None, 7)                 35        \n",
            "_________________________________________________________________\n",
            "dense_6 (Dense)              (None, 11)                88        \n",
            "=================================================================\n",
            "Total params: 261\n",
            "Trainable params: 261\n",
            "Non-trainable params: 0\n",
            "_________________________________________________________________\n"
          ],
          "name": "stdout"
        }
      ]
    },
    {
      "cell_type": "code",
      "metadata": {
        "id": "hfuSytVTUiWi",
        "colab_type": "code",
        "colab": {
          "base_uri": "https://localhost:8080/",
          "height": 374
        },
        "outputId": "19df286e-f23e-48a1-8f71-5e8ddb10818b"
      },
      "source": [
        "# compile the autoencoder\n",
        "autoencoder.compile(optimizer='adam',\n",
        "                    loss='mean_squared_error',\n",
        "                    metrics=['accuracy'])\n",
        "\n",
        "# fit the model\n",
        "autoencoder.fit(df_scaled, df_scaled,\n",
        "                epochs=10,\n",
        "                batch_size=32)\n",
        "                # shuffle=True,\n",
        "                # validation_data=(x_test, x_test),\n",
        "                # verbose = 1,\n",
        "                # callbacks=[stop, tensorboard])"
      ],
      "execution_count": 10,
      "outputs": [
        {
          "output_type": "stream",
          "text": [
            "Epoch 1/10\n",
            "232725/232725 [==============================] - 27s 114us/step - loss: 0.1295 - accuracy: 0.6079\n",
            "Epoch 2/10\n",
            "232725/232725 [==============================] - 25s 109us/step - loss: 0.1233 - accuracy: 0.6873\n",
            "Epoch 3/10\n",
            "232725/232725 [==============================] - 25s 109us/step - loss: 0.1219 - accuracy: 0.6882\n",
            "Epoch 4/10\n",
            "232725/232725 [==============================] - 25s 108us/step - loss: 0.1216 - accuracy: 0.6907\n",
            "Epoch 5/10\n",
            "232725/232725 [==============================] - 25s 108us/step - loss: 0.1215 - accuracy: 0.6922\n",
            "Epoch 6/10\n",
            "232725/232725 [==============================] - 25s 109us/step - loss: 0.1215 - accuracy: 0.6910\n",
            "Epoch 7/10\n",
            "232725/232725 [==============================] - 25s 107us/step - loss: 0.1215 - accuracy: 0.6903\n",
            "Epoch 8/10\n",
            "232725/232725 [==============================] - 25s 108us/step - loss: 0.1214 - accuracy: 0.6916\n",
            "Epoch 9/10\n",
            "232725/232725 [==============================] - 25s 107us/step - loss: 0.1214 - accuracy: 0.6896\n",
            "Epoch 10/10\n",
            "232725/232725 [==============================] - 25s 106us/step - loss: 0.1214 - accuracy: 0.6893\n"
          ],
          "name": "stdout"
        },
        {
          "output_type": "execute_result",
          "data": {
            "text/plain": [
              "<keras.callbacks.callbacks.History at 0x7ff241a07048>"
            ]
          },
          "metadata": {
            "tags": []
          },
          "execution_count": 10
        }
      ]
    },
    {
      "cell_type": "code",
      "metadata": {
        "id": "4_6L7UvXPEKY",
        "colab_type": "code",
        "colab": {
          "base_uri": "https://localhost:8080/",
          "height": 204
        },
        "outputId": "9542b103-5e9f-4fed-82c3-9a64233b4a02"
      },
      "source": [
        "# Use the model to predict the factors which sum up the selected atributes of the songs,\n",
        "#   by making an encoded_data df.\n",
        "encoded_data = pd.DataFrame(encoder.predict(data_scaled))\n",
        "encoded_data.columns = ['x', 'y']\n",
        "encoded_data.head()"
      ],
      "execution_count": 11,
      "outputs": [
        {
          "output_type": "execute_result",
          "data": {
            "text/html": [
              "<div>\n",
              "<style scoped>\n",
              "    .dataframe tbody tr th:only-of-type {\n",
              "        vertical-align: middle;\n",
              "    }\n",
              "\n",
              "    .dataframe tbody tr th {\n",
              "        vertical-align: top;\n",
              "    }\n",
              "\n",
              "    .dataframe thead th {\n",
              "        text-align: right;\n",
              "    }\n",
              "</style>\n",
              "<table border=\"1\" class=\"dataframe\">\n",
              "  <thead>\n",
              "    <tr style=\"text-align: right;\">\n",
              "      <th></th>\n",
              "      <th>x</th>\n",
              "      <th>y</th>\n",
              "    </tr>\n",
              "  </thead>\n",
              "  <tbody>\n",
              "    <tr>\n",
              "      <th>0</th>\n",
              "      <td>1.072640</td>\n",
              "      <td>0.684552</td>\n",
              "    </tr>\n",
              "    <tr>\n",
              "      <th>1</th>\n",
              "      <td>1.081470</td>\n",
              "      <td>0.460850</td>\n",
              "    </tr>\n",
              "    <tr>\n",
              "      <th>2</th>\n",
              "      <td>0.299888</td>\n",
              "      <td>0.724743</td>\n",
              "    </tr>\n",
              "    <tr>\n",
              "      <th>3</th>\n",
              "      <td>0.333239</td>\n",
              "      <td>0.720351</td>\n",
              "    </tr>\n",
              "    <tr>\n",
              "      <th>4</th>\n",
              "      <td>0.206765</td>\n",
              "      <td>0.508934</td>\n",
              "    </tr>\n",
              "  </tbody>\n",
              "</table>\n",
              "</div>"
            ],
            "text/plain": [
              "          x         y\n",
              "0  1.072640  0.684552\n",
              "1  1.081470  0.460850\n",
              "2  0.299888  0.724743\n",
              "3  0.333239  0.720351\n",
              "4  0.206765  0.508934"
            ]
          },
          "metadata": {
            "tags": []
          },
          "execution_count": 11
        }
      ]
    },
    {
      "cell_type": "code",
      "metadata": {
        "id": "A5dj5gzZPbZO",
        "colab_type": "code",
        "colab": {
          "base_uri": "https://localhost:8080/",
          "height": 296
        },
        "outputId": "a71814fb-a182-45bd-aaec-74243da2eae7"
      },
      "source": [
        "# plot the x,y coordinates\n",
        "encoded_data.plot.scatter('x','y')"
      ],
      "execution_count": 12,
      "outputs": [
        {
          "output_type": "execute_result",
          "data": {
            "text/plain": [
              "<matplotlib.axes._subplots.AxesSubplot at 0x7ff1d5d1e5c0>"
            ]
          },
          "metadata": {
            "tags": []
          },
          "execution_count": 12
        },
        {
          "output_type": "display_data",
          "data": {
            "image/png": "[encoded data removed]",
            "text/plain": [
              "<Figure size 432x288 with 1 Axes>"
            ]
          },
          "metadata": {
            "tags": [],
            "needs_background": "light"
          }
        }
      ]
    },
    {
      "cell_type": "markdown",
      "metadata": {
        "id": "6SZBYnKI7ZU5",
        "colab_type": "text"
      },
      "source": [
        "#### Pickle the Model"
      ]
    },
    {
      "cell_type": "code",
      "metadata": {
        "id": "u3lSgxBh7D2-",
        "colab_type": "code",
        "colab": {
          "base_uri": "https://localhost:8080/",
          "height": 34
        },
        "outputId": "a5b7008e-7aec-484b-8e33-be588859d5c2"
      },
      "source": [
        "import pickle\n",
        "\n",
        "# Dump the trained classifier (autoencoder)  with Pickle\n",
        "pickle_filename = 'autoencoder_model.pkl'\n",
        "pickled_model = open(pickle_filename, 'wb')  # Open the file to save as pkl file\n",
        "pickle.dump(autoencoder, pickled_model)\n",
        "pickled_model.close() # Close the pickle instances\n",
        "\n",
        "# Loading the saved model\n",
        "model_pkl = open(pickle_filename, 'rb')\n",
        "autoencoder_model = pickle.load(model_pkl)\n",
        "print (\"Loaded model :: \", autoencoder_model)  # print to verify"
      ],
      "execution_count": 26,
      "outputs": [
        {
          "output_type": "stream",
          "text": [
            "Loaded model ::  <keras.engine.training.Model object at 0x7ff1d4cf5b70>\n"
          ],
          "name": "stdout"
        }
      ]
    },
    {
      "cell_type": "code",
      "metadata": {
        "id": "SxSetakZ9JUE",
        "colab_type": "code",
        "colab": {
          "base_uri": "https://localhost:8080/",
          "height": 80
        },
        "outputId": "ab4d224b-768d-4f56-b911-e0ecbd42d21d"
      },
      "source": [
        "# Get test data\n",
        "\n",
        "df_input = df_scaled[:1]\n",
        "encoded_data_test = pd.DataFrame(encoder.predict(df_input))\n",
        "encoded_data_test.columns = ['x', 'y']\n",
        "encoded_data_test.head()"
      ],
      "execution_count": 28,
      "outputs": [
        {
          "output_type": "execute_result",
          "data": {
            "text/html": [
              "<div>\n",
              "<style scoped>\n",
              "    .dataframe tbody tr th:only-of-type {\n",
              "        vertical-align: middle;\n",
              "    }\n",
              "\n",
              "    .dataframe tbody tr th {\n",
              "        vertical-align: top;\n",
              "    }\n",
              "\n",
              "    .dataframe thead th {\n",
              "        text-align: right;\n",
              "    }\n",
              "</style>\n",
              "<table border=\"1\" class=\"dataframe\">\n",
              "  <thead>\n",
              "    <tr style=\"text-align: right;\">\n",
              "      <th></th>\n",
              "      <th>x</th>\n",
              "      <th>y</th>\n",
              "    </tr>\n",
              "  </thead>\n",
              "  <tbody>\n",
              "    <tr>\n",
              "      <th>0</th>\n",
              "      <td>1.07264</td>\n",
              "      <td>0.684552</td>\n",
              "    </tr>\n",
              "  </tbody>\n",
              "</table>\n",
              "</div>"
            ],
            "text/plain": [
              "         x         y\n",
              "0  1.07264  0.684552"
            ]
          },
          "metadata": {
            "tags": []
          },
          "execution_count": 28
        }
      ]
    },
    {
      "cell_type": "code",
      "metadata": {
        "id": "GLht9w2M_P1s",
        "colab_type": "code",
        "colab": {}
      },
      "source": [
        "test_x = encoder.predict(df_input)[0][0]\n",
        "test_y = encoder.predict(df_input)[0][1]"
      ],
      "execution_count": 51,
      "outputs": []
    },
    {
      "cell_type": "markdown",
      "metadata": {
        "id": "DPXAZgkT780L",
        "colab_type": "text"
      },
      "source": [
        "### Get Distance"
      ]
    },
    {
      "cell_type": "code",
      "metadata": {
        "id": "tEgdoI73aGzD",
        "colab_type": "code",
        "colab": {}
      },
      "source": [
        "# example of euclidian distance\n",
        "from scipy.spatial import distance\n",
        "a = (1, 2, 3)\n",
        "b = (4, 5, 6)\n",
        "dst = distance.euclidean(a, b)"
      ],
      "execution_count": 29,
      "outputs": []
    },
    {
      "cell_type": "code",
      "metadata": {
        "id": "xu44DXcJ-deZ",
        "colab_type": "code",
        "colab": {
          "base_uri": "https://localhost:8080/",
          "height": 204
        },
        "outputId": "67e6f72f-ebd1-46be-d4e2-528bcc6730d3"
      },
      "source": [
        "encoded_data.head()"
      ],
      "execution_count": 30,
      "outputs": [
        {
          "output_type": "execute_result",
          "data": {
            "text/html": [
              "<div>\n",
              "<style scoped>\n",
              "    .dataframe tbody tr th:only-of-type {\n",
              "        vertical-align: middle;\n",
              "    }\n",
              "\n",
              "    .dataframe tbody tr th {\n",
              "        vertical-align: top;\n",
              "    }\n",
              "\n",
              "    .dataframe thead th {\n",
              "        text-align: right;\n",
              "    }\n",
              "</style>\n",
              "<table border=\"1\" class=\"dataframe\">\n",
              "  <thead>\n",
              "    <tr style=\"text-align: right;\">\n",
              "      <th></th>\n",
              "      <th>x</th>\n",
              "      <th>y</th>\n",
              "      <th>track_id</th>\n",
              "    </tr>\n",
              "  </thead>\n",
              "  <tbody>\n",
              "    <tr>\n",
              "      <th>0</th>\n",
              "      <td>1.072640</td>\n",
              "      <td>0.684552</td>\n",
              "      <td>0BRjO6ga9RKCKjfDqeFgWV</td>\n",
              "    </tr>\n",
              "    <tr>\n",
              "      <th>1</th>\n",
              "      <td>1.081470</td>\n",
              "      <td>0.460850</td>\n",
              "      <td>0BjC1NfoEOOusryehmNudP</td>\n",
              "    </tr>\n",
              "    <tr>\n",
              "      <th>2</th>\n",
              "      <td>0.299888</td>\n",
              "      <td>0.724743</td>\n",
              "      <td>0CoSDzoNIKCRs124s9uTVy</td>\n",
              "    </tr>\n",
              "    <tr>\n",
              "      <th>3</th>\n",
              "      <td>0.333239</td>\n",
              "      <td>0.720351</td>\n",
              "      <td>0Gc6TVm52BwZD07Ki6tIvf</td>\n",
              "    </tr>\n",
              "    <tr>\n",
              "      <th>4</th>\n",
              "      <td>0.206765</td>\n",
              "      <td>0.508934</td>\n",
              "      <td>0IuslXpMROHdEPvSl1fTQK</td>\n",
              "    </tr>\n",
              "  </tbody>\n",
              "</table>\n",
              "</div>"
            ],
            "text/plain": [
              "          x         y                track_id\n",
              "0  1.072640  0.684552  0BRjO6ga9RKCKjfDqeFgWV\n",
              "1  1.081470  0.460850  0BjC1NfoEOOusryehmNudP\n",
              "2  0.299888  0.724743  0CoSDzoNIKCRs124s9uTVy\n",
              "3  0.333239  0.720351  0Gc6TVm52BwZD07Ki6tIvf\n",
              "4  0.206765  0.508934  0IuslXpMROHdEPvSl1fTQK"
            ]
          },
          "metadata": {
            "tags": []
          },
          "execution_count": 30
        }
      ]
    },
    {
      "cell_type": "code",
      "metadata": {
        "id": "z8yQlRoy0ujX",
        "colab_type": "code",
        "colab": {
          "base_uri": "https://localhost:8080/",
          "height": 204
        },
        "outputId": "47eb0d80-e394-4de8-feed-b9e37c21c948"
      },
      "source": [
        "encoded_data['track_id'] = df['track_id']\n",
        "encoded_data.head()"
      ],
      "execution_count": 31,
      "outputs": [
        {
          "output_type": "execute_result",
          "data": {
            "text/html": [
              "<div>\n",
              "<style scoped>\n",
              "    .dataframe tbody tr th:only-of-type {\n",
              "        vertical-align: middle;\n",
              "    }\n",
              "\n",
              "    .dataframe tbody tr th {\n",
              "        vertical-align: top;\n",
              "    }\n",
              "\n",
              "    .dataframe thead th {\n",
              "        text-align: right;\n",
              "    }\n",
              "</style>\n",
              "<table border=\"1\" class=\"dataframe\">\n",
              "  <thead>\n",
              "    <tr style=\"text-align: right;\">\n",
              "      <th></th>\n",
              "      <th>x</th>\n",
              "      <th>y</th>\n",
              "      <th>track_id</th>\n",
              "    </tr>\n",
              "  </thead>\n",
              "  <tbody>\n",
              "    <tr>\n",
              "      <th>0</th>\n",
              "      <td>1.072640</td>\n",
              "      <td>0.684552</td>\n",
              "      <td>0BRjO6ga9RKCKjfDqeFgWV</td>\n",
              "    </tr>\n",
              "    <tr>\n",
              "      <th>1</th>\n",
              "      <td>1.081470</td>\n",
              "      <td>0.460850</td>\n",
              "      <td>0BjC1NfoEOOusryehmNudP</td>\n",
              "    </tr>\n",
              "    <tr>\n",
              "      <th>2</th>\n",
              "      <td>0.299888</td>\n",
              "      <td>0.724743</td>\n",
              "      <td>0CoSDzoNIKCRs124s9uTVy</td>\n",
              "    </tr>\n",
              "    <tr>\n",
              "      <th>3</th>\n",
              "      <td>0.333239</td>\n",
              "      <td>0.720351</td>\n",
              "      <td>0Gc6TVm52BwZD07Ki6tIvf</td>\n",
              "    </tr>\n",
              "    <tr>\n",
              "      <th>4</th>\n",
              "      <td>0.206765</td>\n",
              "      <td>0.508934</td>\n",
              "      <td>0IuslXpMROHdEPvSl1fTQK</td>\n",
              "    </tr>\n",
              "  </tbody>\n",
              "</table>\n",
              "</div>"
            ],
            "text/plain": [
              "          x         y                track_id\n",
              "0  1.072640  0.684552  0BRjO6ga9RKCKjfDqeFgWV\n",
              "1  1.081470  0.460850  0BjC1NfoEOOusryehmNudP\n",
              "2  0.299888  0.724743  0CoSDzoNIKCRs124s9uTVy\n",
              "3  0.333239  0.720351  0Gc6TVm52BwZD07Ki6tIvf\n",
              "4  0.206765  0.508934  0IuslXpMROHdEPvSl1fTQK"
            ]
          },
          "metadata": {
            "tags": []
          },
          "execution_count": 31
        }
      ]
    },
    {
      "cell_type": "code",
      "metadata": {
        "id": "Eu2r-uWB6D-E",
        "colab_type": "code",
        "colab": {}
      },
      "source": [
        "# save the encoded data as a .csv file    \n",
        "## Commented out so we don't run it again\n",
        "\n",
        "# encoded_data.to_csv(\"encoded_data.csv\", index=False)"
      ],
      "execution_count": 18,
      "outputs": []
    },
    {
      "cell_type": "markdown",
      "metadata": {
        "id": "4mC9mBWLCQHZ",
        "colab_type": "text"
      },
      "source": [
        "### Test out the pickled model"
      ]
    },
    {
      "cell_type": "code",
      "metadata": {
        "id": "qDI_UrrS6Zry",
        "colab_type": "code",
        "colab": {
          "base_uri": "https://localhost:8080/",
          "height": 204
        },
        "outputId": "ce87ac1d-dfee-499a-9df2-bfbce5dadbef"
      },
      "source": [
        "# test out reading it in.\n",
        "df1 = pd.read_csv(\"encoded_data\")\n",
        "df1.head()"
      ],
      "execution_count": 19,
      "outputs": [
        {
          "output_type": "execute_result",
          "data": {
            "text/html": [
              "<div>\n",
              "<style scoped>\n",
              "    .dataframe tbody tr th:only-of-type {\n",
              "        vertical-align: middle;\n",
              "    }\n",
              "\n",
              "    .dataframe tbody tr th {\n",
              "        vertical-align: top;\n",
              "    }\n",
              "\n",
              "    .dataframe thead th {\n",
              "        text-align: right;\n",
              "    }\n",
              "</style>\n",
              "<table border=\"1\" class=\"dataframe\">\n",
              "  <thead>\n",
              "    <tr style=\"text-align: right;\">\n",
              "      <th></th>\n",
              "      <th>x</th>\n",
              "      <th>y</th>\n",
              "      <th>track_id</th>\n",
              "    </tr>\n",
              "  </thead>\n",
              "  <tbody>\n",
              "    <tr>\n",
              "      <th>0</th>\n",
              "      <td>1.072640</td>\n",
              "      <td>0.684552</td>\n",
              "      <td>0BRjO6ga9RKCKjfDqeFgWV</td>\n",
              "    </tr>\n",
              "    <tr>\n",
              "      <th>1</th>\n",
              "      <td>1.081470</td>\n",
              "      <td>0.460850</td>\n",
              "      <td>0BjC1NfoEOOusryehmNudP</td>\n",
              "    </tr>\n",
              "    <tr>\n",
              "      <th>2</th>\n",
              "      <td>0.299888</td>\n",
              "      <td>0.724743</td>\n",
              "      <td>0CoSDzoNIKCRs124s9uTVy</td>\n",
              "    </tr>\n",
              "    <tr>\n",
              "      <th>3</th>\n",
              "      <td>0.333239</td>\n",
              "      <td>0.720351</td>\n",
              "      <td>0Gc6TVm52BwZD07Ki6tIvf</td>\n",
              "    </tr>\n",
              "    <tr>\n",
              "      <th>4</th>\n",
              "      <td>0.206765</td>\n",
              "      <td>0.508934</td>\n",
              "      <td>0IuslXpMROHdEPvSl1fTQK</td>\n",
              "    </tr>\n",
              "  </tbody>\n",
              "</table>\n",
              "</div>"
            ],
            "text/plain": [
              "          x         y                track_id\n",
              "0  1.072640  0.684552  0BRjO6ga9RKCKjfDqeFgWV\n",
              "1  1.081470  0.460850  0BjC1NfoEOOusryehmNudP\n",
              "2  0.299888  0.724743  0CoSDzoNIKCRs124s9uTVy\n",
              "3  0.333239  0.720351  0Gc6TVm52BwZD07Ki6tIvf\n",
              "4  0.206765  0.508934  0IuslXpMROHdEPvSl1fTQK"
            ]
          },
          "metadata": {
            "tags": []
          },
          "execution_count": 19
        }
      ]
    },
    {
      "cell_type": "code",
      "metadata": {
        "id": "KTS90bXu-Sdc",
        "colab_type": "code",
        "colab": {
          "base_uri": "https://localhost:8080/",
          "height": 34
        },
        "outputId": "46527ad6-f3bc-4eee-d9a4-56986ac3f7da"
      },
      "source": [
        "encoded_data_test[['x','y']].values"
      ],
      "execution_count": 45,
      "outputs": [
        {
          "output_type": "execute_result",
          "data": {
            "text/plain": [
              "array([[1.0726404 , 0.68455195]], dtype=float32)"
            ]
          },
          "metadata": {
            "tags": []
          },
          "execution_count": 45
        }
      ]
    },
    {
      "cell_type": "code",
      "metadata": {
        "id": "Yi26JNX9BiQh",
        "colab_type": "code",
        "colab": {}
      },
      "source": [
        "def get_e_dist(in_df):\n",
        "  return distance.euclidean(in_df[[0,1]], (test_x,test_y))"
      ],
      "execution_count": 52,
      "outputs": []
    },
    {
      "cell_type": "code",
      "metadata": {
        "id": "IuhBe7kU-Bnn",
        "colab_type": "code",
        "colab": {}
      },
      "source": [
        "encoded_data['e_distance'] = encoded_data.apply(get_e_dist, axis=1)"
      ],
      "execution_count": 53,
      "outputs": []
    },
    {
      "cell_type": "code",
      "metadata": {
        "id": "qUlj1cOXCKQE",
        "colab_type": "code",
        "colab": {
          "base_uri": "https://localhost:8080/",
          "height": 204
        },
        "outputId": "c11a1fa8-9d5c-41d8-9f3c-d1d5e0deb903"
      },
      "source": [
        "encoded_data.head()"
      ],
      "execution_count": 54,
      "outputs": [
        {
          "output_type": "execute_result",
          "data": {
            "text/html": [
              "<div>\n",
              "<style scoped>\n",
              "    .dataframe tbody tr th:only-of-type {\n",
              "        vertical-align: middle;\n",
              "    }\n",
              "\n",
              "    .dataframe tbody tr th {\n",
              "        vertical-align: top;\n",
              "    }\n",
              "\n",
              "    .dataframe thead th {\n",
              "        text-align: right;\n",
              "    }\n",
              "</style>\n",
              "<table border=\"1\" class=\"dataframe\">\n",
              "  <thead>\n",
              "    <tr style=\"text-align: right;\">\n",
              "      <th></th>\n",
              "      <th>x</th>\n",
              "      <th>y</th>\n",
              "      <th>track_id</th>\n",
              "      <th>e_distance</th>\n",
              "    </tr>\n",
              "  </thead>\n",
              "  <tbody>\n",
              "    <tr>\n",
              "      <th>0</th>\n",
              "      <td>1.072640</td>\n",
              "      <td>0.684552</td>\n",
              "      <td>0BRjO6ga9RKCKjfDqeFgWV</td>\n",
              "      <td>0.000000</td>\n",
              "    </tr>\n",
              "    <tr>\n",
              "      <th>1</th>\n",
              "      <td>1.081470</td>\n",
              "      <td>0.460850</td>\n",
              "      <td>0BjC1NfoEOOusryehmNudP</td>\n",
              "      <td>0.223876</td>\n",
              "    </tr>\n",
              "    <tr>\n",
              "      <th>2</th>\n",
              "      <td>0.299888</td>\n",
              "      <td>0.724743</td>\n",
              "      <td>0CoSDzoNIKCRs124s9uTVy</td>\n",
              "      <td>0.773797</td>\n",
              "    </tr>\n",
              "    <tr>\n",
              "      <th>3</th>\n",
              "      <td>0.333239</td>\n",
              "      <td>0.720351</td>\n",
              "      <td>0Gc6TVm52BwZD07Ki6tIvf</td>\n",
              "      <td>0.740267</td>\n",
              "    </tr>\n",
              "    <tr>\n",
              "      <th>4</th>\n",
              "      <td>0.206765</td>\n",
              "      <td>0.508934</td>\n",
              "      <td>0IuslXpMROHdEPvSl1fTQK</td>\n",
              "      <td>0.883505</td>\n",
              "    </tr>\n",
              "  </tbody>\n",
              "</table>\n",
              "</div>"
            ],
            "text/plain": [
              "          x         y                track_id  e_distance\n",
              "0  1.072640  0.684552  0BRjO6ga9RKCKjfDqeFgWV    0.000000\n",
              "1  1.081470  0.460850  0BjC1NfoEOOusryehmNudP    0.223876\n",
              "2  0.299888  0.724743  0CoSDzoNIKCRs124s9uTVy    0.773797\n",
              "3  0.333239  0.720351  0Gc6TVm52BwZD07Ki6tIvf    0.740267\n",
              "4  0.206765  0.508934  0IuslXpMROHdEPvSl1fTQK    0.883505"
            ]
          },
          "metadata": {
            "tags": []
          },
          "execution_count": 54
        }
      ]
    },
    {
      "cell_type": "markdown",
      "metadata": {
        "id": "tjAVWuBUCaI-",
        "colab_type": "text"
      },
      "source": [
        "#### Get the 5 smallest distances and show the visuals for the top 2"
      ]
    },
    {
      "cell_type": "code",
      "metadata": {
        "id": "Mrbz2JX7fVue",
        "colab_type": "code",
        "colab": {
          "base_uri": "https://localhost:8080/",
          "height": 119
        },
        "outputId": "f96f3633-8f31-4fd4-f24f-e7662a28998e"
      },
      "source": [
        "encoded_data['e_distance'].nsmallest(5)"
      ],
      "execution_count": 55,
      "outputs": [
        {
          "output_type": "execute_result",
          "data": {
            "text/plain": [
              "0         0.000000\n",
              "48095     0.001967\n",
              "38564     0.002626\n",
              "20664     0.004379\n",
              "102350    0.004379\n",
              "Name: e_distance, dtype: float64"
            ]
          },
          "metadata": {
            "tags": []
          },
          "execution_count": 55
        }
      ]
    },
    {
      "cell_type": "code",
      "metadata": {
        "id": "DXJ-2tj5gjfI",
        "colab_type": "code",
        "colab": {
          "base_uri": "https://localhost:8080/",
          "height": 68
        },
        "outputId": "6b7124db-4dc9-4b4f-8fc0-bfc4c938cfe1"
      },
      "source": [
        "print(df['track_name'][0])\n",
        "print(df['track_name'][48095])\n",
        "print(df['track_name'][38564])"
      ],
      "execution_count": 56,
      "outputs": [
        {
          "output_type": "stream",
          "text": [
            "C'est beau de faire un Show\n",
            "The Wire\n",
            "Dream\n"
          ],
          "name": "stdout"
        }
      ]
    },
    {
      "cell_type": "code",
      "metadata": {
        "id": "JlBaRAtpiI_C",
        "colab_type": "code",
        "colab": {
          "base_uri": "https://localhost:8080/",
          "height": 213
        },
        "outputId": "18bdf46d-f707-409a-bece-8515c146ac43"
      },
      "source": [
        "df.iloc[[0,48095,38564]]\n"
      ],
      "execution_count": 57,
      "outputs": [
        {
          "output_type": "execute_result",
          "data": {
            "text/html": [
              "<div>\n",
              "<style scoped>\n",
              "    .dataframe tbody tr th:only-of-type {\n",
              "        vertical-align: middle;\n",
              "    }\n",
              "\n",
              "    .dataframe tbody tr th {\n",
              "        vertical-align: top;\n",
              "    }\n",
              "\n",
              "    .dataframe thead th {\n",
              "        text-align: right;\n",
              "    }\n",
              "</style>\n",
              "<table border=\"1\" class=\"dataframe\">\n",
              "  <thead>\n",
              "    <tr style=\"text-align: right;\">\n",
              "      <th></th>\n",
              "      <th>genre</th>\n",
              "      <th>artist_name</th>\n",
              "      <th>track_name</th>\n",
              "      <th>track_id</th>\n",
              "      <th>popularity</th>\n",
              "      <th>acousticness</th>\n",
              "      <th>danceability</th>\n",
              "      <th>duration_ms</th>\n",
              "      <th>energy</th>\n",
              "      <th>instrumentalness</th>\n",
              "      <th>key</th>\n",
              "      <th>liveness</th>\n",
              "      <th>loudness</th>\n",
              "      <th>mode</th>\n",
              "      <th>speechiness</th>\n",
              "      <th>tempo</th>\n",
              "      <th>time_signature</th>\n",
              "      <th>valence</th>\n",
              "    </tr>\n",
              "  </thead>\n",
              "  <tbody>\n",
              "    <tr>\n",
              "      <th>0</th>\n",
              "      <td>Movie</td>\n",
              "      <td>Henri Salvador</td>\n",
              "      <td>C'est beau de faire un Show</td>\n",
              "      <td>0BRjO6ga9RKCKjfDqeFgWV</td>\n",
              "      <td>0</td>\n",
              "      <td>0.61100</td>\n",
              "      <td>0.389</td>\n",
              "      <td>99373</td>\n",
              "      <td>0.910</td>\n",
              "      <td>0.0000</td>\n",
              "      <td>C#</td>\n",
              "      <td>0.346</td>\n",
              "      <td>-1.828</td>\n",
              "      <td>Major</td>\n",
              "      <td>0.0525</td>\n",
              "      <td>166.969</td>\n",
              "      <td>4/4</td>\n",
              "      <td>0.814</td>\n",
              "    </tr>\n",
              "    <tr>\n",
              "      <th>48095</th>\n",
              "      <td>Blues</td>\n",
              "      <td>Shovels &amp; Rope</td>\n",
              "      <td>The Wire</td>\n",
              "      <td>6XYY2YLbbQ6oNaDTrk5DGU</td>\n",
              "      <td>41</td>\n",
              "      <td>0.00622</td>\n",
              "      <td>0.557</td>\n",
              "      <td>176890</td>\n",
              "      <td>0.554</td>\n",
              "      <td>0.0000</td>\n",
              "      <td>B</td>\n",
              "      <td>0.103</td>\n",
              "      <td>-6.506</td>\n",
              "      <td>Minor</td>\n",
              "      <td>0.0506</td>\n",
              "      <td>135.084</td>\n",
              "      <td>4/4</td>\n",
              "      <td>0.628</td>\n",
              "    </tr>\n",
              "    <tr>\n",
              "      <th>38564</th>\n",
              "      <td>Electronic</td>\n",
              "      <td>Moksi</td>\n",
              "      <td>Dream</td>\n",
              "      <td>2h4EfdqxQsoCEL7eKIdUGz</td>\n",
              "      <td>31</td>\n",
              "      <td>0.02050</td>\n",
              "      <td>0.829</td>\n",
              "      <td>170887</td>\n",
              "      <td>0.769</td>\n",
              "      <td>0.0663</td>\n",
              "      <td>B</td>\n",
              "      <td>0.152</td>\n",
              "      <td>-7.388</td>\n",
              "      <td>Major</td>\n",
              "      <td>0.0702</td>\n",
              "      <td>123.984</td>\n",
              "      <td>4/4</td>\n",
              "      <td>0.523</td>\n",
              "    </tr>\n",
              "  </tbody>\n",
              "</table>\n",
              "</div>"
            ],
            "text/plain": [
              "            genre     artist_name  ... time_signature valence\n",
              "0           Movie  Henri Salvador  ...            4/4   0.814\n",
              "48095       Blues  Shovels & Rope  ...            4/4   0.628\n",
              "38564  Electronic           Moksi  ...            4/4   0.523\n",
              "\n",
              "[3 rows x 18 columns]"
            ]
          },
          "metadata": {
            "tags": []
          },
          "execution_count": 57
        }
      ]
    },
    {
      "cell_type": "code",
      "metadata": {
        "id": "-ygt5fPVnhT-",
        "colab_type": "code",
        "colab": {}
      },
      "source": [
        "df_T = df_scaled.T"
      ],
      "execution_count": 58,
      "outputs": []
    },
    {
      "cell_type": "code",
      "metadata": {
        "id": "n65EB0ObnGip",
        "colab_type": "code",
        "colab": {
          "base_uri": "https://localhost:8080/",
          "height": 542
        },
        "outputId": "4c2e12ee-6daa-46e1-d19c-62fa1b742376"
      },
      "source": [
        "import plotly.express as px\n",
        "\n",
        "fig = px.bar_polar(df_T, r = 0,hover_name=headers)\n",
        "fig.show()"
      ],
      "execution_count": 59,
      "outputs": [
        {
          "output_type": "display_data",
          "data": {
            "text/html": [
              "<html>\n",
              "<head><meta charset=\"utf-8\" /></head>\n",
              "<body>\n",
              "    <div>\n",
              "            <script src=\"https://cdnjs.cloudflare.com/ajax/libs/mathjax/2.7.5/MathJax.js?config=TeX-AMS-MML_SVG\"></script><script type=\"text/javascript\">if (window.MathJax) {MathJax.Hub.Config({SVG: {font: \"STIX-Web\"}});}</script>\n",
              "                <script type=\"text/javascript\">window.PlotlyConfig = {MathJaxConfig: 'local'};</script>\n",
              "        <script src=\"https://cdn.plot.ly/plotly-latest.min.js\"></script>    \n",
              "            <div id=\"290ae3cd-54da-4baa-a3df-0257b60b9d08\" class=\"plotly-graph-div\" style=\"height:525px; width:100%;\"></div>\n",
              "            <script type=\"text/javascript\">\n",
              "                \n",
              "                    window.PLOTLYENV=window.PLOTLYENV || {};\n",
              "                    \n",
              "                if (document.getElementById(\"290ae3cd-54da-4baa-a3df-0257b60b9d08\")) {\n",
              "                    Plotly.newPlot(\n",
              "                        '290ae3cd-54da-4baa-a3df-0257b60b9d08',\n",
              "                        [{\"hoverlabel\": {\"namelength\": 0}, \"hovertemplate\": \"<b>%{hovertext}</b><br><br>0=%{r}\", \"hovertext\": [\"popularity\", \"acousticness\", \"danceability\", \"duration_ms\", \"energy\", \"instrumentalness\", \"liveness\", \"loudness\", \"speechiness\", \"tempo\", \"valence\"], \"legendgroup\": \"\", \"marker\": {\"color\": \"#636efa\"}, \"name\": \"\", \"r\": [0.0, 0.6134538152610441, 0.356292243321532, 0.015166689841860903, 0.9109091005552965, 0.0, 0.33961406803792676, 0.9008558566573549, 0.03207027942421676, 0.6427038828555834, 0.8140000000000001], \"showlegend\": false, \"subplot\": \"polar\", \"type\": \"barpolar\"}],\n",
              "                        {\"barmode\": \"relative\", \"legend\": {\"tracegroupgap\": 0}, \"margin\": {\"t\": 60}, \"polar\": {\"angularaxis\": {\"direction\": \"clockwise\", \"rotation\": 90}, \"domain\": {\"x\": [0.0, 1.0], \"y\": [0.0, 1.0]}}, \"template\": {\"data\": {\"bar\": [{\"error_x\": {\"color\": \"#2a3f5f\"}, \"error_y\": {\"color\": \"#2a3f5f\"}, \"marker\": {\"line\": {\"color\": \"#E5ECF6\", \"width\": 0.5}}, \"type\": \"bar\"}], \"barpolar\": [{\"marker\": {\"line\": {\"color\": \"#E5ECF6\", \"width\": 0.5}}, \"type\": \"barpolar\"}], \"carpet\": [{\"aaxis\": {\"endlinecolor\": \"#2a3f5f\", \"gridcolor\": \"white\", \"linecolor\": \"white\", \"minorgridcolor\": \"white\", \"startlinecolor\": \"#2a3f5f\"}, \"baxis\": {\"endlinecolor\": \"#2a3f5f\", \"gridcolor\": \"white\", \"linecolor\": \"white\", \"minorgridcolor\": \"white\", \"startlinecolor\": \"#2a3f5f\"}, \"type\": \"carpet\"}], \"choropleth\": [{\"colorbar\": {\"outlinewidth\": 0, \"ticks\": \"\"}, \"type\": \"choropleth\"}], \"contour\": [{\"colorbar\": {\"outlinewidth\": 0, \"ticks\": \"\"}, \"colorscale\": [[0.0, \"#0d0887\"], [0.1111111111111111, \"#46039f\"], [0.2222222222222222, \"#7201a8\"], [0.3333333333333333, \"#9c179e\"], [0.4444444444444444, \"#bd3786\"], [0.5555555555555556, \"#d8576b\"], [0.6666666666666666, \"#ed7953\"], [0.7777777777777778, \"#fb9f3a\"], [0.8888888888888888, \"#fdca26\"], [1.0, \"#f0f921\"]], \"type\": \"contour\"}], \"contourcarpet\": [{\"colorbar\": {\"outlinewidth\": 0, \"ticks\": \"\"}, \"type\": \"contourcarpet\"}], \"heatmap\": [{\"colorbar\": {\"outlinewidth\": 0, \"ticks\": \"\"}, \"colorscale\": [[0.0, \"#0d0887\"], [0.1111111111111111, \"#46039f\"], [0.2222222222222222, \"#7201a8\"], [0.3333333333333333, \"#9c179e\"], [0.4444444444444444, \"#bd3786\"], [0.5555555555555556, \"#d8576b\"], [0.6666666666666666, \"#ed7953\"], [0.7777777777777778, \"#fb9f3a\"], [0.8888888888888888, \"#fdca26\"], [1.0, \"#f0f921\"]], \"type\": \"heatmap\"}], \"heatmapgl\": [{\"colorbar\": {\"outlinewidth\": 0, \"ticks\": \"\"}, \"colorscale\": [[0.0, \"#0d0887\"], [0.1111111111111111, \"#46039f\"], [0.2222222222222222, \"#7201a8\"], [0.3333333333333333, \"#9c179e\"], [0.4444444444444444, \"#bd3786\"], [0.5555555555555556, \"#d8576b\"], [0.6666666666666666, \"#ed7953\"], [0.7777777777777778, \"#fb9f3a\"], [0.8888888888888888, \"#fdca26\"], [1.0, \"#f0f921\"]], \"type\": \"heatmapgl\"}], \"histogram\": [{\"marker\": {\"colorbar\": {\"outlinewidth\": 0, \"ticks\": \"\"}}, \"type\": \"histogram\"}], \"histogram2d\": [{\"colorbar\": {\"outlinewidth\": 0, \"ticks\": \"\"}, \"colorscale\": [[0.0, \"#0d0887\"], [0.1111111111111111, \"#46039f\"], [0.2222222222222222, \"#7201a8\"], [0.3333333333333333, \"#9c179e\"], [0.4444444444444444, \"#bd3786\"], [0.5555555555555556, \"#d8576b\"], [0.6666666666666666, \"#ed7953\"], [0.7777777777777778, \"#fb9f3a\"], [0.8888888888888888, \"#fdca26\"], [1.0, \"#f0f921\"]], \"type\": \"histogram2d\"}], \"histogram2dcontour\": [{\"colorbar\": {\"outlinewidth\": 0, \"ticks\": \"\"}, \"colorscale\": [[0.0, \"#0d0887\"], [0.1111111111111111, \"#46039f\"], [0.2222222222222222, \"#7201a8\"], [0.3333333333333333, \"#9c179e\"], [0.4444444444444444, \"#bd3786\"], [0.5555555555555556, \"#d8576b\"], [0.6666666666666666, \"#ed7953\"], [0.7777777777777778, \"#fb9f3a\"], [0.8888888888888888, \"#fdca26\"], [1.0, \"#f0f921\"]], \"type\": \"histogram2dcontour\"}], \"mesh3d\": [{\"colorbar\": {\"outlinewidth\": 0, \"ticks\": \"\"}, \"type\": \"mesh3d\"}], \"parcoords\": [{\"line\": {\"colorbar\": {\"outlinewidth\": 0, \"ticks\": \"\"}}, \"type\": \"parcoords\"}], \"pie\": [{\"automargin\": true, \"type\": \"pie\"}], \"scatter\": [{\"marker\": {\"colorbar\": {\"outlinewidth\": 0, \"ticks\": \"\"}}, \"type\": \"scatter\"}], \"scatter3d\": [{\"line\": {\"colorbar\": {\"outlinewidth\": 0, \"ticks\": \"\"}}, \"marker\": {\"colorbar\": {\"outlinewidth\": 0, \"ticks\": \"\"}}, \"type\": \"scatter3d\"}], \"scattercarpet\": [{\"marker\": {\"colorbar\": {\"outlinewidth\": 0, \"ticks\": \"\"}}, \"type\": \"scattercarpet\"}], \"scattergeo\": [{\"marker\": {\"colorbar\": {\"outlinewidth\": 0, \"ticks\": \"\"}}, \"type\": \"scattergeo\"}], \"scattergl\": [{\"marker\": {\"colorbar\": {\"outlinewidth\": 0, \"ticks\": \"\"}}, \"type\": \"scattergl\"}], \"scattermapbox\": [{\"marker\": {\"colorbar\": {\"outlinewidth\": 0, \"ticks\": \"\"}}, \"type\": \"scattermapbox\"}], \"scatterpolar\": [{\"marker\": {\"colorbar\": {\"outlinewidth\": 0, \"ticks\": \"\"}}, \"type\": \"scatterpolar\"}], \"scatterpolargl\": [{\"marker\": {\"colorbar\": {\"outlinewidth\": 0, \"ticks\": \"\"}}, \"type\": \"scatterpolargl\"}], \"scatterternary\": [{\"marker\": {\"colorbar\": {\"outlinewidth\": 0, \"ticks\": \"\"}}, \"type\": \"scatterternary\"}], \"surface\": [{\"colorbar\": {\"outlinewidth\": 0, \"ticks\": \"\"}, \"colorscale\": [[0.0, \"#0d0887\"], [0.1111111111111111, \"#46039f\"], [0.2222222222222222, \"#7201a8\"], [0.3333333333333333, \"#9c179e\"], [0.4444444444444444, \"#bd3786\"], [0.5555555555555556, \"#d8576b\"], [0.6666666666666666, \"#ed7953\"], [0.7777777777777778, \"#fb9f3a\"], [0.8888888888888888, \"#fdca26\"], [1.0, \"#f0f921\"]], \"type\": \"surface\"}], \"table\": [{\"cells\": {\"fill\": {\"color\": \"#EBF0F8\"}, \"line\": {\"color\": \"white\"}}, \"header\": {\"fill\": {\"color\": \"#C8D4E3\"}, \"line\": {\"color\": \"white\"}}, \"type\": \"table\"}]}, \"layout\": {\"annotationdefaults\": {\"arrowcolor\": \"#2a3f5f\", \"arrowhead\": 0, \"arrowwidth\": 1}, \"coloraxis\": {\"colorbar\": {\"outlinewidth\": 0, \"ticks\": \"\"}}, \"colorscale\": {\"diverging\": [[0, \"#8e0152\"], [0.1, \"#c51b7d\"], [0.2, \"#de77ae\"], [0.3, \"#f1b6da\"], [0.4, \"#fde0ef\"], [0.5, \"#f7f7f7\"], [0.6, \"#e6f5d0\"], [0.7, \"#b8e186\"], [0.8, \"#7fbc41\"], [0.9, \"#4d9221\"], [1, \"#276419\"]], \"sequential\": [[0.0, \"#0d0887\"], [0.1111111111111111, \"#46039f\"], [0.2222222222222222, \"#7201a8\"], [0.3333333333333333, \"#9c179e\"], [0.4444444444444444, \"#bd3786\"], [0.5555555555555556, \"#d8576b\"], [0.6666666666666666, \"#ed7953\"], [0.7777777777777778, \"#fb9f3a\"], [0.8888888888888888, \"#fdca26\"], [1.0, \"#f0f921\"]], \"sequentialminus\": [[0.0, \"#0d0887\"], [0.1111111111111111, \"#46039f\"], [0.2222222222222222, \"#7201a8\"], [0.3333333333333333, \"#9c179e\"], [0.4444444444444444, \"#bd3786\"], [0.5555555555555556, \"#d8576b\"], [0.6666666666666666, \"#ed7953\"], [0.7777777777777778, \"#fb9f3a\"], [0.8888888888888888, \"#fdca26\"], [1.0, \"#f0f921\"]]}, \"colorway\": [\"#636efa\", \"#EF553B\", \"#00cc96\", \"#ab63fa\", \"#FFA15A\", \"#19d3f3\", \"#FF6692\", \"#B6E880\", \"#FF97FF\", \"#FECB52\"], \"font\": {\"color\": \"#2a3f5f\"}, \"geo\": {\"bgcolor\": \"white\", \"lakecolor\": \"white\", \"landcolor\": \"#E5ECF6\", \"showlakes\": true, \"showland\": true, \"subunitcolor\": \"white\"}, \"hoverlabel\": {\"align\": \"left\"}, \"hovermode\": \"closest\", \"mapbox\": {\"style\": \"light\"}, \"paper_bgcolor\": \"white\", \"plot_bgcolor\": \"#E5ECF6\", \"polar\": {\"angularaxis\": {\"gridcolor\": \"white\", \"linecolor\": \"white\", \"ticks\": \"\"}, \"bgcolor\": \"#E5ECF6\", \"radialaxis\": {\"gridcolor\": \"white\", \"linecolor\": \"white\", \"ticks\": \"\"}}, \"scene\": {\"xaxis\": {\"backgroundcolor\": \"#E5ECF6\", \"gridcolor\": \"white\", \"gridwidth\": 2, \"linecolor\": \"white\", \"showbackground\": true, \"ticks\": \"\", \"zerolinecolor\": \"white\"}, \"yaxis\": {\"backgroundcolor\": \"#E5ECF6\", \"gridcolor\": \"white\", \"gridwidth\": 2, \"linecolor\": \"white\", \"showbackground\": true, \"ticks\": \"\", \"zerolinecolor\": \"white\"}, \"zaxis\": {\"backgroundcolor\": \"#E5ECF6\", \"gridcolor\": \"white\", \"gridwidth\": 2, \"linecolor\": \"white\", \"showbackground\": true, \"ticks\": \"\", \"zerolinecolor\": \"white\"}}, \"shapedefaults\": {\"line\": {\"color\": \"#2a3f5f\"}}, \"ternary\": {\"aaxis\": {\"gridcolor\": \"white\", \"linecolor\": \"white\", \"ticks\": \"\"}, \"baxis\": {\"gridcolor\": \"white\", \"linecolor\": \"white\", \"ticks\": \"\"}, \"bgcolor\": \"#E5ECF6\", \"caxis\": {\"gridcolor\": \"white\", \"linecolor\": \"white\", \"ticks\": \"\"}}, \"title\": {\"x\": 0.05}, \"xaxis\": {\"automargin\": true, \"gridcolor\": \"white\", \"linecolor\": \"white\", \"ticks\": \"\", \"title\": {\"standoff\": 15}, \"zerolinecolor\": \"white\", \"zerolinewidth\": 2}, \"yaxis\": {\"automargin\": true, \"gridcolor\": \"white\", \"linecolor\": \"white\", \"ticks\": \"\", \"title\": {\"standoff\": 15}, \"zerolinecolor\": \"white\", \"zerolinewidth\": 2}}}},\n",
              "                        {\"responsive\": true}\n",
              "                    ).then(function(){\n",
              "                            \n",
              "var gd = document.getElementById('290ae3cd-54da-4baa-a3df-0257b60b9d08');\n",
              "var x = new MutationObserver(function (mutations, observer) {{\n",
              "        var display = window.getComputedStyle(gd).display;\n",
              "        if (!display || display === 'none') {{\n",
              "            console.log([gd, 'removed!']);\n",
              "            Plotly.purge(gd);\n",
              "            observer.disconnect();\n",
              "        }}\n",
              "}});\n",
              "\n",
              "// Listen for the removal of the full notebook cells\n",
              "var notebookContainer = gd.closest('#notebook-container');\n",
              "if (notebookContainer) {{\n",
              "    x.observe(notebookContainer, {childList: true});\n",
              "}}\n",
              "\n",
              "// Listen for the clearing of the current output cell\n",
              "var outputEl = gd.closest('.output');\n",
              "if (outputEl) {{\n",
              "    x.observe(outputEl, {childList: true});\n",
              "}}\n",
              "\n",
              "                        })\n",
              "                };\n",
              "                \n",
              "            </script>\n",
              "        </div>\n",
              "</body>\n",
              "</html>"
            ]
          },
          "metadata": {
            "tags": []
          }
        }
      ]
    },
    {
      "cell_type": "code",
      "metadata": {
        "id": "_RXo4CCJosM0",
        "colab_type": "code",
        "colab": {
          "base_uri": "https://localhost:8080/",
          "height": 542
        },
        "outputId": "f4b587ef-6de2-49d7-c22e-b97dde263105"
      },
      "source": [
        "fig = px.bar_polar(df_T, r = 48095, hover_name=headers)\n",
        "fig.show()"
      ],
      "execution_count": 60,
      "outputs": [
        {
          "output_type": "display_data",
          "data": {
            "text/html": [
              "<html>\n",
              "<head><meta charset=\"utf-8\" /></head>\n",
              "<body>\n",
              "    <div>\n",
              "            <script src=\"https://cdnjs.cloudflare.com/ajax/libs/mathjax/2.7.5/MathJax.js?config=TeX-AMS-MML_SVG\"></script><script type=\"text/javascript\">if (window.MathJax) {MathJax.Hub.Config({SVG: {font: \"STIX-Web\"}});}</script>\n",
              "                <script type=\"text/javascript\">window.PlotlyConfig = {MathJaxConfig: 'local'};</script>\n",
              "        <script src=\"https://cdn.plot.ly/plotly-latest.min.js\"></script>    \n",
              "            <div id=\"27f886a3-abc6-40a8-972b-4684132eded5\" class=\"plotly-graph-div\" style=\"height:525px; width:100%;\"></div>\n",
              "            <script type=\"text/javascript\">\n",
              "                \n",
              "                    window.PLOTLYENV=window.PLOTLYENV || {};\n",
              "                    \n",
              "                if (document.getElementById(\"27f886a3-abc6-40a8-972b-4684132eded5\")) {\n",
              "                    Plotly.newPlot(\n",
              "                        '27f886a3-abc6-40a8-972b-4684132eded5',\n",
              "                        [{\"hoverlabel\": {\"namelength\": 0}, \"hovertemplate\": \"<b>%{hovertext}</b><br><br>48095=%{r}\", \"hovertext\": [\"popularity\", \"acousticness\", \"danceability\", \"duration_ms\", \"energy\", \"instrumentalness\", \"liveness\", \"loudness\", \"speechiness\", \"tempo\", \"valence\"], \"legendgroup\": \"\", \"marker\": {\"color\": \"#636efa\"}, \"name\": \"\", \"r\": [0.41000000000000003, 0.0062449799196787155, 0.536530415191503, 0.02916516930833783, 0.5545455027764827, 0.0, 0.09424131350156008, 0.8176189035782282, 0.030059271803556303, 0.49267376860966294, 0.628], \"showlegend\": false, \"subplot\": \"polar\", \"type\": \"barpolar\"}],\n",
              "                        {\"barmode\": \"relative\", \"legend\": {\"tracegroupgap\": 0}, \"margin\": {\"t\": 60}, \"polar\": {\"angularaxis\": {\"direction\": \"clockwise\", \"rotation\": 90}, \"domain\": {\"x\": [0.0, 1.0], \"y\": [0.0, 1.0]}}, \"template\": {\"data\": {\"bar\": [{\"error_x\": {\"color\": \"#2a3f5f\"}, \"error_y\": {\"color\": \"#2a3f5f\"}, \"marker\": {\"line\": {\"color\": \"#E5ECF6\", \"width\": 0.5}}, \"type\": \"bar\"}], \"barpolar\": [{\"marker\": {\"line\": {\"color\": \"#E5ECF6\", \"width\": 0.5}}, \"type\": \"barpolar\"}], \"carpet\": [{\"aaxis\": {\"endlinecolor\": \"#2a3f5f\", \"gridcolor\": \"white\", \"linecolor\": \"white\", \"minorgridcolor\": \"white\", \"startlinecolor\": \"#2a3f5f\"}, \"baxis\": {\"endlinecolor\": \"#2a3f5f\", \"gridcolor\": \"white\", \"linecolor\": \"white\", \"minorgridcolor\": \"white\", \"startlinecolor\": \"#2a3f5f\"}, \"type\": \"carpet\"}], \"choropleth\": [{\"colorbar\": {\"outlinewidth\": 0, \"ticks\": \"\"}, \"type\": \"choropleth\"}], \"contour\": [{\"colorbar\": {\"outlinewidth\": 0, \"ticks\": \"\"}, \"colorscale\": [[0.0, \"#0d0887\"], [0.1111111111111111, \"#46039f\"], [0.2222222222222222, \"#7201a8\"], [0.3333333333333333, \"#9c179e\"], [0.4444444444444444, \"#bd3786\"], [0.5555555555555556, \"#d8576b\"], [0.6666666666666666, \"#ed7953\"], [0.7777777777777778, \"#fb9f3a\"], [0.8888888888888888, \"#fdca26\"], [1.0, \"#f0f921\"]], \"type\": \"contour\"}], \"contourcarpet\": [{\"colorbar\": {\"outlinewidth\": 0, \"ticks\": \"\"}, \"type\": \"contourcarpet\"}], \"heatmap\": [{\"colorbar\": {\"outlinewidth\": 0, \"ticks\": \"\"}, \"colorscale\": [[0.0, \"#0d0887\"], [0.1111111111111111, \"#46039f\"], [0.2222222222222222, \"#7201a8\"], [0.3333333333333333, \"#9c179e\"], [0.4444444444444444, \"#bd3786\"], [0.5555555555555556, \"#d8576b\"], [0.6666666666666666, \"#ed7953\"], [0.7777777777777778, \"#fb9f3a\"], [0.8888888888888888, \"#fdca26\"], [1.0, \"#f0f921\"]], \"type\": \"heatmap\"}], \"heatmapgl\": [{\"colorbar\": {\"outlinewidth\": 0, \"ticks\": \"\"}, \"colorscale\": [[0.0, \"#0d0887\"], [0.1111111111111111, \"#46039f\"], [0.2222222222222222, \"#7201a8\"], [0.3333333333333333, \"#9c179e\"], [0.4444444444444444, \"#bd3786\"], [0.5555555555555556, \"#d8576b\"], [0.6666666666666666, \"#ed7953\"], [0.7777777777777778, \"#fb9f3a\"], [0.8888888888888888, \"#fdca26\"], [1.0, \"#f0f921\"]], \"type\": \"heatmapgl\"}], \"histogram\": [{\"marker\": {\"colorbar\": {\"outlinewidth\": 0, \"ticks\": \"\"}}, \"type\": \"histogram\"}], \"histogram2d\": [{\"colorbar\": {\"outlinewidth\": 0, \"ticks\": \"\"}, \"colorscale\": [[0.0, \"#0d0887\"], [0.1111111111111111, \"#46039f\"], [0.2222222222222222, \"#7201a8\"], [0.3333333333333333, \"#9c179e\"], [0.4444444444444444, \"#bd3786\"], [0.5555555555555556, \"#d8576b\"], [0.6666666666666666, \"#ed7953\"], [0.7777777777777778, \"#fb9f3a\"], [0.8888888888888888, \"#fdca26\"], [1.0, \"#f0f921\"]], \"type\": \"histogram2d\"}], \"histogram2dcontour\": [{\"colorbar\": {\"outlinewidth\": 0, \"ticks\": \"\"}, \"colorscale\": [[0.0, \"#0d0887\"], [0.1111111111111111, \"#46039f\"], [0.2222222222222222, \"#7201a8\"], [0.3333333333333333, \"#9c179e\"], [0.4444444444444444, \"#bd3786\"], [0.5555555555555556, \"#d8576b\"], [0.6666666666666666, \"#ed7953\"], [0.7777777777777778, \"#fb9f3a\"], [0.8888888888888888, \"#fdca26\"], [1.0, \"#f0f921\"]], \"type\": \"histogram2dcontour\"}], \"mesh3d\": [{\"colorbar\": {\"outlinewidth\": 0, \"ticks\": \"\"}, \"type\": \"mesh3d\"}], \"parcoords\": [{\"line\": {\"colorbar\": {\"outlinewidth\": 0, \"ticks\": \"\"}}, \"type\": \"parcoords\"}], \"pie\": [{\"automargin\": true, \"type\": \"pie\"}], \"scatter\": [{\"marker\": {\"colorbar\": {\"outlinewidth\": 0, \"ticks\": \"\"}}, \"type\": \"scatter\"}], \"scatter3d\": [{\"line\": {\"colorbar\": {\"outlinewidth\": 0, \"ticks\": \"\"}}, \"marker\": {\"colorbar\": {\"outlinewidth\": 0, \"ticks\": \"\"}}, \"type\": \"scatter3d\"}], \"scattercarpet\": [{\"marker\": {\"colorbar\": {\"outlinewidth\": 0, \"ticks\": \"\"}}, \"type\": \"scattercarpet\"}], \"scattergeo\": [{\"marker\": {\"colorbar\": {\"outlinewidth\": 0, \"ticks\": \"\"}}, \"type\": \"scattergeo\"}], \"scattergl\": [{\"marker\": {\"colorbar\": {\"outlinewidth\": 0, \"ticks\": \"\"}}, \"type\": \"scattergl\"}], \"scattermapbox\": [{\"marker\": {\"colorbar\": {\"outlinewidth\": 0, \"ticks\": \"\"}}, \"type\": \"scattermapbox\"}], \"scatterpolar\": [{\"marker\": {\"colorbar\": {\"outlinewidth\": 0, \"ticks\": \"\"}}, \"type\": \"scatterpolar\"}], \"scatterpolargl\": [{\"marker\": {\"colorbar\": {\"outlinewidth\": 0, \"ticks\": \"\"}}, \"type\": \"scatterpolargl\"}], \"scatterternary\": [{\"marker\": {\"colorbar\": {\"outlinewidth\": 0, \"ticks\": \"\"}}, \"type\": \"scatterternary\"}], \"surface\": [{\"colorbar\": {\"outlinewidth\": 0, \"ticks\": \"\"}, \"colorscale\": [[0.0, \"#0d0887\"], [0.1111111111111111, \"#46039f\"], [0.2222222222222222, \"#7201a8\"], [0.3333333333333333, \"#9c179e\"], [0.4444444444444444, \"#bd3786\"], [0.5555555555555556, \"#d8576b\"], [0.6666666666666666, \"#ed7953\"], [0.7777777777777778, \"#fb9f3a\"], [0.8888888888888888, \"#fdca26\"], [1.0, \"#f0f921\"]], \"type\": \"surface\"}], \"table\": [{\"cells\": {\"fill\": {\"color\": \"#EBF0F8\"}, \"line\": {\"color\": \"white\"}}, \"header\": {\"fill\": {\"color\": \"#C8D4E3\"}, \"line\": {\"color\": \"white\"}}, \"type\": \"table\"}]}, \"layout\": {\"annotationdefaults\": {\"arrowcolor\": \"#2a3f5f\", \"arrowhead\": 0, \"arrowwidth\": 1}, \"coloraxis\": {\"colorbar\": {\"outlinewidth\": 0, \"ticks\": \"\"}}, \"colorscale\": {\"diverging\": [[0, \"#8e0152\"], [0.1, \"#c51b7d\"], [0.2, \"#de77ae\"], [0.3, \"#f1b6da\"], [0.4, \"#fde0ef\"], [0.5, \"#f7f7f7\"], [0.6, \"#e6f5d0\"], [0.7, \"#b8e186\"], [0.8, \"#7fbc41\"], [0.9, \"#4d9221\"], [1, \"#276419\"]], \"sequential\": [[0.0, \"#0d0887\"], [0.1111111111111111, \"#46039f\"], [0.2222222222222222, \"#7201a8\"], [0.3333333333333333, \"#9c179e\"], [0.4444444444444444, \"#bd3786\"], [0.5555555555555556, \"#d8576b\"], [0.6666666666666666, \"#ed7953\"], [0.7777777777777778, \"#fb9f3a\"], [0.8888888888888888, \"#fdca26\"], [1.0, \"#f0f921\"]], \"sequentialminus\": [[0.0, \"#0d0887\"], [0.1111111111111111, \"#46039f\"], [0.2222222222222222, \"#7201a8\"], [0.3333333333333333, \"#9c179e\"], [0.4444444444444444, \"#bd3786\"], [0.5555555555555556, \"#d8576b\"], [0.6666666666666666, \"#ed7953\"], [0.7777777777777778, \"#fb9f3a\"], [0.8888888888888888, \"#fdca26\"], [1.0, \"#f0f921\"]]}, \"colorway\": [\"#636efa\", \"#EF553B\", \"#00cc96\", \"#ab63fa\", \"#FFA15A\", \"#19d3f3\", \"#FF6692\", \"#B6E880\", \"#FF97FF\", \"#FECB52\"], \"font\": {\"color\": \"#2a3f5f\"}, \"geo\": {\"bgcolor\": \"white\", \"lakecolor\": \"white\", \"landcolor\": \"#E5ECF6\", \"showlakes\": true, \"showland\": true, \"subunitcolor\": \"white\"}, \"hoverlabel\": {\"align\": \"left\"}, \"hovermode\": \"closest\", \"mapbox\": {\"style\": \"light\"}, \"paper_bgcolor\": \"white\", \"plot_bgcolor\": \"#E5ECF6\", \"polar\": {\"angularaxis\": {\"gridcolor\": \"white\", \"linecolor\": \"white\", \"ticks\": \"\"}, \"bgcolor\": \"#E5ECF6\", \"radialaxis\": {\"gridcolor\": \"white\", \"linecolor\": \"white\", \"ticks\": \"\"}}, \"scene\": {\"xaxis\": {\"backgroundcolor\": \"#E5ECF6\", \"gridcolor\": \"white\", \"gridwidth\": 2, \"linecolor\": \"white\", \"showbackground\": true, \"ticks\": \"\", \"zerolinecolor\": \"white\"}, \"yaxis\": {\"backgroundcolor\": \"#E5ECF6\", \"gridcolor\": \"white\", \"gridwidth\": 2, \"linecolor\": \"white\", \"showbackground\": true, \"ticks\": \"\", \"zerolinecolor\": \"white\"}, \"zaxis\": {\"backgroundcolor\": \"#E5ECF6\", \"gridcolor\": \"white\", \"gridwidth\": 2, \"linecolor\": \"white\", \"showbackground\": true, \"ticks\": \"\", \"zerolinecolor\": \"white\"}}, \"shapedefaults\": {\"line\": {\"color\": \"#2a3f5f\"}}, \"ternary\": {\"aaxis\": {\"gridcolor\": \"white\", \"linecolor\": \"white\", \"ticks\": \"\"}, \"baxis\": {\"gridcolor\": \"white\", \"linecolor\": \"white\", \"ticks\": \"\"}, \"bgcolor\": \"#E5ECF6\", \"caxis\": {\"gridcolor\": \"white\", \"linecolor\": \"white\", \"ticks\": \"\"}}, \"title\": {\"x\": 0.05}, \"xaxis\": {\"automargin\": true, \"gridcolor\": \"white\", \"linecolor\": \"white\", \"ticks\": \"\", \"title\": {\"standoff\": 15}, \"zerolinecolor\": \"white\", \"zerolinewidth\": 2}, \"yaxis\": {\"automargin\": true, \"gridcolor\": \"white\", \"linecolor\": \"white\", \"ticks\": \"\", \"title\": {\"standoff\": 15}, \"zerolinecolor\": \"white\", \"zerolinewidth\": 2}}}},\n",
              "                        {\"responsive\": true}\n",
              "                    ).then(function(){\n",
              "                            \n",
              "var gd = document.getElementById('27f886a3-abc6-40a8-972b-4684132eded5');\n",
              "var x = new MutationObserver(function (mutations, observer) {{\n",
              "        var display = window.getComputedStyle(gd).display;\n",
              "        if (!display || display === 'none') {{\n",
              "            console.log([gd, 'removed!']);\n",
              "            Plotly.purge(gd);\n",
              "            observer.disconnect();\n",
              "        }}\n",
              "}});\n",
              "\n",
              "// Listen for the removal of the full notebook cells\n",
              "var notebookContainer = gd.closest('#notebook-container');\n",
              "if (notebookContainer) {{\n",
              "    x.observe(notebookContainer, {childList: true});\n",
              "}}\n",
              "\n",
              "// Listen for the clearing of the current output cell\n",
              "var outputEl = gd.closest('.output');\n",
              "if (outputEl) {{\n",
              "    x.observe(outputEl, {childList: true});\n",
              "}}\n",
              "\n",
              "                        })\n",
              "                };\n",
              "                \n",
              "            </script>\n",
              "        </div>\n",
              "</body>\n",
              "</html>"
            ]
          },
          "metadata": {
            "tags": []
          }
        }
      ]
    },
    {
      "cell_type": "markdown",
      "metadata": {
        "id": "4sstmnhVCjSs",
        "colab_type": "text"
      },
      "source": [
        "## Build a Function for DS Unit 3 to use"
      ]
    },
    {
      "cell_type": "code",
      "metadata": {
        "id": "Ivv-LMfYEzii",
        "colab_type": "code",
        "colab": {}
      },
      "source": [
        "# test\n",
        "song_at = [[0,0.611,0.389,99373,0.910,0.000,0.3460,-1.828,0.0525,166.969,0.814]]"
      ],
      "execution_count": 70,
      "outputs": []
    },
    {
      "cell_type": "code",
      "metadata": {
        "id": "-iJigLGWMcH9",
        "colab_type": "code",
        "colab": {}
      },
      "source": [
        "### Read in the CSV ###\n",
        "database = pd.read_csv('encoded_data.csv')"
      ],
      "execution_count": 101,
      "outputs": []
    },
    {
      "cell_type": "code",
      "metadata": {
        "id": "YXdFyjTkDVyU",
        "colab_type": "code",
        "colab": {}
      },
      "source": [
        "def predict(song_attributes, database):\n",
        "  \"\"\"\n",
        "  Need to pass in a variable that is an array with the below song attributes \n",
        "  in order.\n",
        "  [[popularity, acousticness, danceability, duration_ms, energy, instrumentalness,\n",
        "  liveness, loudness, speechiness, tempo, valence]]\n",
        "  \"\"\"\n",
        "\n",
        "  import pandas as pd\n",
        "\n",
        "  df =  pd.DataFrame(song_attributes)\n",
        "\n",
        "  ### Scale Input ###\n",
        "\n",
        "  # import the pickled scaler model\n",
        "  pickle_filename_1 = 'scaler_model.pkl'\n",
        "  scaler_pkl = open(pickle_filename_1, 'rb')\n",
        "  scaler = pickle.load(scaler_pkl) \n",
        "\n",
        "   # scale the input data\n",
        "  input_scaled = scaler.transform(df)\n",
        "\n",
        "  ### Encode Input ###\n",
        "\n",
        "  # Loading the pickled autoencoder model\n",
        "  pickle_filename = 'autoencoder_model.pkl'\n",
        "    \n",
        "  autoencoder_pkl = open(pickle_filename, 'rb')\n",
        "  autoencoder = pickle.load(autoencoder_pkl)\n",
        "  # encode the input data and set to variable\n",
        "  input_x_y = (autoencoder.predict(input_scaled)[0][0], \n",
        "               autoencoder.predict(input_scaled)[0][1])\n",
        "\n",
        "  # ### Read in the CSV ###\n",
        "  # database = pd.read_csv('encoded_data')\n",
        "\n",
        "  ### Get distances ###\n",
        "  def get_e_dist(my_df):\n",
        "    return distance.euclidean(my_df[[0,1]], input_x_y)\n",
        "\n",
        "  database['e_distance'] = database.apply(get_e_dist, axis=1)\n",
        "\n",
        "  five_smallest = database[['e_distance','track_id']].nsmallest(5, columns='e_distance', keep='all')\n",
        "\n",
        "  five_closest = five_smallest['track_id']\n",
        "\n",
        "  return five_closest.to_json()"
      ],
      "execution_count": 143,
      "outputs": []
    },
    {
      "cell_type": "code",
      "metadata": {
        "id": "YtX25futFIbK",
        "colab_type": "code",
        "colab": {
          "base_uri": "https://localhost:8080/",
          "height": 34
        },
        "outputId": "e5384fb6-f582-4024-d724-afe1dc6c0995"
      },
      "source": [
        "test = predict(song_at, database)\n",
        "test"
      ],
      "execution_count": 144,
      "outputs": [
        {
          "output_type": "execute_result",
          "data": {
            "text/plain": [
              "'{\"20794\":\"1vdN00jfVssgwJBMwmSAoT\",\"201520\":\"5cYCcpCxouijqsKgtCMnWx\",\"148670\":\"4eoRzZzyJ229aP2amYCbmn\",\"205761\":\"3zn6JHO9WqECBdKIHwzVwO\",\"147290\":\"1QlTNF43OyKK9BorIRsJ8o\"}'"
            ]
          },
          "metadata": {
            "tags": []
          },
          "execution_count": 144
        }
      ]
    }
  ]
}