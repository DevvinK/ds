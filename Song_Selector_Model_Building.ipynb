{
  "nbformat": 4,
  "nbformat_minor": 0,
  "metadata": {
    "colab": {
      "name": "Song Selector Model Building",
      "provenance": [],
      "mount_file_id": "1renATL9nK7zlOqSJEDYTm1QwWx_rR92D",
      "authorship_tag": "ABX9TyPmzOi0rEl6vloh+ftlw1GN",
      "include_colab_link": true
    },
    "kernelspec": {
      "name": "python3",
      "display_name": "Python 3"
    },
    "accelerator": "GPU"
  },
  "cells": [
    {
      "cell_type": "markdown",
      "metadata": {
        "id": "view-in-github",
        "colab_type": "text"
      },
      "source": [
        "<a href=\"https://colab.research.google.com/github/bw-spotify2/ds/blob/master/Song_Selector_Model_Building.ipynb\" target=\"_parent\"><img src=\"https://colab.research.google.com/assets/colab-badge.svg\" alt=\"Open In Colab\"/></a>"
      ]
    },
    {
      "cell_type": "code",
      "metadata": {
        "id": "rtqee1org69e",
        "colab_type": "code",
        "colab": {
          "base_uri": "https://localhost:8080/",
          "height": 617
        },
        "outputId": "9292fac9-ece9-4f1f-eb19-43e9d9254ca9"
      },
      "source": [
        "import pandas as pd\n",
        "\n",
        "df = pd.read_csv('/content/drive/My Drive/Lambda/Unit 4/Sprint 4/SpotifyFeatures.csv')\n",
        "df.sample(10)"
      ],
      "execution_count": null,
      "outputs": [
        {
          "output_type": "execute_result",
          "data": {
            "text/html": [
              "<div>\n",
              "<style scoped>\n",
              "    .dataframe tbody tr th:only-of-type {\n",
              "        vertical-align: middle;\n",
              "    }\n",
              "\n",
              "    .dataframe tbody tr th {\n",
              "        vertical-align: top;\n",
              "    }\n",
              "\n",
              "    .dataframe thead th {\n",
              "        text-align: right;\n",
              "    }\n",
              "</style>\n",
              "<table border=\"1\" class=\"dataframe\">\n",
              "  <thead>\n",
              "    <tr style=\"text-align: right;\">\n",
              "      <th></th>\n",
              "      <th>genre</th>\n",
              "      <th>artist_name</th>\n",
              "      <th>track_name</th>\n",
              "      <th>track_id</th>\n",
              "      <th>popularity</th>\n",
              "      <th>acousticness</th>\n",
              "      <th>danceability</th>\n",
              "      <th>duration_ms</th>\n",
              "      <th>energy</th>\n",
              "      <th>instrumentalness</th>\n",
              "      <th>key</th>\n",
              "      <th>liveness</th>\n",
              "      <th>loudness</th>\n",
              "      <th>mode</th>\n",
              "      <th>speechiness</th>\n",
              "      <th>tempo</th>\n",
              "      <th>time_signature</th>\n",
              "      <th>valence</th>\n",
              "    </tr>\n",
              "  </thead>\n",
              "  <tbody>\n",
              "    <tr>\n",
              "      <th>14414</th>\n",
              "      <td>Dance</td>\n",
              "      <td>KREAM</td>\n",
              "      <td>Deep End (feat. JHart) - Eden Prince Remix</td>\n",
              "      <td>3K4ywyPCdpF9evoL7Z3z1b</td>\n",
              "      <td>72</td>\n",
              "      <td>0.015400</td>\n",
              "      <td>0.677</td>\n",
              "      <td>208096</td>\n",
              "      <td>0.8480</td>\n",
              "      <td>0.001110</td>\n",
              "      <td>G</td>\n",
              "      <td>0.2770</td>\n",
              "      <td>-6.140</td>\n",
              "      <td>Minor</td>\n",
              "      <td>0.0741</td>\n",
              "      <td>125.068</td>\n",
              "      <td>4/4</td>\n",
              "      <td>0.4690</td>\n",
              "    </tr>\n",
              "    <tr>\n",
              "      <th>21695</th>\n",
              "      <td>Dance</td>\n",
              "      <td>Trey Songz</td>\n",
              "      <td>Unusual - feat. Drake</td>\n",
              "      <td>51q0vXgCI2CW9x4K8SdfXS</td>\n",
              "      <td>46</td>\n",
              "      <td>0.182000</td>\n",
              "      <td>0.591</td>\n",
              "      <td>212347</td>\n",
              "      <td>0.6580</td>\n",
              "      <td>0.000000</td>\n",
              "      <td>C</td>\n",
              "      <td>0.6150</td>\n",
              "      <td>-5.881</td>\n",
              "      <td>Minor</td>\n",
              "      <td>0.1950</td>\n",
              "      <td>81.933</td>\n",
              "      <td>4/4</td>\n",
              "      <td>0.6230</td>\n",
              "    </tr>\n",
              "    <tr>\n",
              "      <th>230008</th>\n",
              "      <td>Soul</td>\n",
              "      <td>HONNE</td>\n",
              "      <td>Treat You Right</td>\n",
              "      <td>0TrCJBaSXFSaO622CbGV03</td>\n",
              "      <td>37</td>\n",
              "      <td>0.002550</td>\n",
              "      <td>0.602</td>\n",
              "      <td>242243</td>\n",
              "      <td>0.6850</td>\n",
              "      <td>0.000072</td>\n",
              "      <td>G</td>\n",
              "      <td>0.2650</td>\n",
              "      <td>-5.992</td>\n",
              "      <td>Major</td>\n",
              "      <td>0.0402</td>\n",
              "      <td>99.998</td>\n",
              "      <td>4/4</td>\n",
              "      <td>0.3890</td>\n",
              "    </tr>\n",
              "    <tr>\n",
              "      <th>29863</th>\n",
              "      <td>Anime</td>\n",
              "      <td>Ikimonogakari</td>\n",
              "      <td>Kimagure Romantic</td>\n",
              "      <td>46jFfrQdRnKSb4uuPDQSne</td>\n",
              "      <td>33</td>\n",
              "      <td>0.111000</td>\n",
              "      <td>0.484</td>\n",
              "      <td>242880</td>\n",
              "      <td>0.8860</td>\n",
              "      <td>0.000000</td>\n",
              "      <td>D</td>\n",
              "      <td>0.3150</td>\n",
              "      <td>-2.544</td>\n",
              "      <td>Major</td>\n",
              "      <td>0.0542</td>\n",
              "      <td>170.134</td>\n",
              "      <td>4/4</td>\n",
              "      <td>0.6990</td>\n",
              "    </tr>\n",
              "    <tr>\n",
              "      <th>218731</th>\n",
              "      <td>World</td>\n",
              "      <td>Shakuhachi Sakano</td>\n",
              "      <td>Brainwave Connections</td>\n",
              "      <td>3vn9qbBDIXhVh15kjQCVtn</td>\n",
              "      <td>4</td>\n",
              "      <td>0.858000</td>\n",
              "      <td>0.169</td>\n",
              "      <td>225875</td>\n",
              "      <td>0.0295</td>\n",
              "      <td>0.826000</td>\n",
              "      <td>C</td>\n",
              "      <td>0.1050</td>\n",
              "      <td>-29.656</td>\n",
              "      <td>Major</td>\n",
              "      <td>0.0522</td>\n",
              "      <td>128.966</td>\n",
              "      <td>4/4</td>\n",
              "      <td>0.0336</td>\n",
              "    </tr>\n",
              "    <tr>\n",
              "      <th>111595</th>\n",
              "      <td>Pop</td>\n",
              "      <td>Nine Days</td>\n",
              "      <td>Absolutely (Story of a Girl) - Radio Mix</td>\n",
              "      <td>3mNecsYFb6LQg7822DPXCP</td>\n",
              "      <td>66</td>\n",
              "      <td>0.000891</td>\n",
              "      <td>0.481</td>\n",
              "      <td>189333</td>\n",
              "      <td>0.9400</td>\n",
              "      <td>0.000000</td>\n",
              "      <td>G</td>\n",
              "      <td>0.0939</td>\n",
              "      <td>-5.204</td>\n",
              "      <td>Major</td>\n",
              "      <td>0.0660</td>\n",
              "      <td>96.493</td>\n",
              "      <td>4/4</td>\n",
              "      <td>0.6600</td>\n",
              "    </tr>\n",
              "    <tr>\n",
              "      <th>11130</th>\n",
              "      <td>Alternative</td>\n",
              "      <td>Brand Nubian</td>\n",
              "      <td>Slow Down</td>\n",
              "      <td>6i4Gu9ogL4kClgBzj3NZ6g</td>\n",
              "      <td>49</td>\n",
              "      <td>0.079800</td>\n",
              "      <td>0.731</td>\n",
              "      <td>303040</td>\n",
              "      <td>0.8570</td>\n",
              "      <td>0.000009</td>\n",
              "      <td>A</td>\n",
              "      <td>0.0772</td>\n",
              "      <td>-13.358</td>\n",
              "      <td>Major</td>\n",
              "      <td>0.1900</td>\n",
              "      <td>95.879</td>\n",
              "      <td>4/4</td>\n",
              "      <td>0.6910</td>\n",
              "    </tr>\n",
              "    <tr>\n",
              "      <th>106067</th>\n",
              "      <td>Opera</td>\n",
              "      <td>Gioachino Rossini</td>\n",
              "      <td>Rossini: Il barbiere di Siviglia, Act 1 Scene ...</td>\n",
              "      <td>7vQllMpGPF5chmLHcJDk6T</td>\n",
              "      <td>3</td>\n",
              "      <td>0.958000</td>\n",
              "      <td>0.480</td>\n",
              "      <td>488133</td>\n",
              "      <td>0.1250</td>\n",
              "      <td>0.000072</td>\n",
              "      <td>G</td>\n",
              "      <td>0.2570</td>\n",
              "      <td>-21.825</td>\n",
              "      <td>Major</td>\n",
              "      <td>0.0520</td>\n",
              "      <td>106.478</td>\n",
              "      <td>4/4</td>\n",
              "      <td>0.3140</td>\n",
              "    </tr>\n",
              "    <tr>\n",
              "      <th>222648</th>\n",
              "      <td>Rock</td>\n",
              "      <td>Chase Rice</td>\n",
              "      <td>Ride (feat. Macy Maloy)</td>\n",
              "      <td>1CoOHJAHtKEDnUBrp3nKAB</td>\n",
              "      <td>65</td>\n",
              "      <td>0.037400</td>\n",
              "      <td>0.666</td>\n",
              "      <td>241240</td>\n",
              "      <td>0.6940</td>\n",
              "      <td>0.000000</td>\n",
              "      <td>A#</td>\n",
              "      <td>0.1240</td>\n",
              "      <td>-7.184</td>\n",
              "      <td>Major</td>\n",
              "      <td>0.0333</td>\n",
              "      <td>115.070</td>\n",
              "      <td>4/4</td>\n",
              "      <td>0.3540</td>\n",
              "    </tr>\n",
              "    <tr>\n",
              "      <th>134362</th>\n",
              "      <td>Reggae</td>\n",
              "      <td>Katastro</td>\n",
              "      <td>Voices</td>\n",
              "      <td>76eyiBTmKPg3rAvpCUeKO2</td>\n",
              "      <td>28</td>\n",
              "      <td>0.246000</td>\n",
              "      <td>0.832</td>\n",
              "      <td>153226</td>\n",
              "      <td>0.7070</td>\n",
              "      <td>0.000925</td>\n",
              "      <td>G</td>\n",
              "      <td>0.1750</td>\n",
              "      <td>-6.969</td>\n",
              "      <td>Major</td>\n",
              "      <td>0.0381</td>\n",
              "      <td>94.010</td>\n",
              "      <td>4/4</td>\n",
              "      <td>0.3500</td>\n",
              "    </tr>\n",
              "  </tbody>\n",
              "</table>\n",
              "</div>"
            ],
            "text/plain": [
              "              genre        artist_name  ... time_signature valence\n",
              "14414         Dance              KREAM  ...            4/4  0.4690\n",
              "21695         Dance         Trey Songz  ...            4/4  0.6230\n",
              "230008         Soul              HONNE  ...            4/4  0.3890\n",
              "29863         Anime      Ikimonogakari  ...            4/4  0.6990\n",
              "218731        World  Shakuhachi Sakano  ...            4/4  0.0336\n",
              "111595          Pop          Nine Days  ...            4/4  0.6600\n",
              "11130   Alternative       Brand Nubian  ...            4/4  0.6910\n",
              "106067        Opera  Gioachino Rossini  ...            4/4  0.3140\n",
              "222648         Rock         Chase Rice  ...            4/4  0.3540\n",
              "134362       Reggae           Katastro  ...            4/4  0.3500\n",
              "\n",
              "[10 rows x 18 columns]"
            ]
          },
          "metadata": {
            "tags": []
          },
          "execution_count": 1
        }
      ]
    },
    {
      "cell_type": "code",
      "metadata": {
        "id": "umS4a1jXl3n4",
        "colab_type": "code",
        "colab": {
          "base_uri": "https://localhost:8080/",
          "height": 187
        },
        "outputId": "04b8b37c-b067-49cd-971d-328683b51974"
      },
      "source": [
        "!pip install spotipy --upgrade\n",
        "import spotipy\n",
        "from spotipy.oauth2 import SpotifyClientCredentials\n",
        "import pandas as pd\n",
        "import time \n",
        "\n",
        "client_id = '14f59f665a094868921bdd76e420d7c0'\n",
        "client_secret = '5e16ddb0f2ed45a69949330bbd34351a'\n",
        "username = 'mahoryu'\n",
        "\n",
        "client_credentials_manager = SpotifyClientCredentials(client_id, client_secret)\n",
        "sp = spotipy.Spotify(client_credentials_manager=client_credentials_manager)"
      ],
      "execution_count": null,
      "outputs": [
        {
          "output_type": "stream",
          "text": [
            "Collecting spotipy\n",
            "  Downloading https://files.pythonhosted.org/packages/b2/67/ea788ae3d7e3aad0b0ef72a4f5b6c24c1dbb3db83fd57efc221f86b4fe87/spotipy-2.12.0-py3-none-any.whl\n",
            "Requirement already satisfied, skipping upgrade: six>=1.10.0 in /usr/local/lib/python3.6/dist-packages (from spotipy) (1.12.0)\n",
            "Requirement already satisfied, skipping upgrade: requests>=2.20.0 in /usr/local/lib/python3.6/dist-packages (from spotipy) (2.23.0)\n",
            "Requirement already satisfied, skipping upgrade: certifi>=2017.4.17 in /usr/local/lib/python3.6/dist-packages (from requests>=2.20.0->spotipy) (2020.4.5.2)\n",
            "Requirement already satisfied, skipping upgrade: chardet<4,>=3.0.2 in /usr/local/lib/python3.6/dist-packages (from requests>=2.20.0->spotipy) (3.0.4)\n",
            "Requirement already satisfied, skipping upgrade: idna<3,>=2.5 in /usr/local/lib/python3.6/dist-packages (from requests>=2.20.0->spotipy) (2.9)\n",
            "Requirement already satisfied, skipping upgrade: urllib3!=1.25.0,!=1.25.1,<1.26,>=1.21.1 in /usr/local/lib/python3.6/dist-packages (from requests>=2.20.0->spotipy) (1.24.3)\n",
            "Installing collected packages: spotipy\n",
            "Successfully installed spotipy-2.12.0\n"
          ],
          "name": "stdout"
        }
      ]
    },
    {
      "cell_type": "code",
      "metadata": {
        "id": "KIpgYiMBE-CP",
        "colab_type": "code",
        "colab": {}
      },
      "source": [
        "def getTrackFeatures(X):\n",
        "  X = X.copy()\n",
        "\n",
        "  for i in range(len(X['track_id'])):\n",
        "    meta = sp.track(X['track_id'][i])\n",
        "    features = sp.audio_features(X['track_id'][i])\n",
        "\n",
        "    X['mode'][i] = features[0]['mode']\n",
        "    X['key'][i] = features[0]['key']\n",
        "    X['time_signature'][i] = features[0]['time_signature']\n",
        "\n",
        "  return X"
      ],
      "execution_count": null,
      "outputs": []
    },
    {
      "cell_type": "code",
      "metadata": {
        "id": "Q94U2dt6L1T9",
        "colab_type": "code",
        "colab": {
          "base_uri": "https://localhost:8080/",
          "height": 34
        },
        "outputId": "c8557467-1b44-41a1-8232-52b675e7124a"
      },
      "source": [
        "df_test = df[:500]\n",
        "df_test.shape"
      ],
      "execution_count": null,
      "outputs": [
        {
          "output_type": "execute_result",
          "data": {
            "text/plain": [
              "(500, 18)"
            ]
          },
          "metadata": {
            "tags": []
          },
          "execution_count": 15
        }
      ]
    },
    {
      "cell_type": "code",
      "metadata": {
        "id": "V9wn-ofuEXoF",
        "colab_type": "code",
        "colab": {
          "base_uri": "https://localhost:8080/",
          "height": 261
        },
        "outputId": "ebde2e60-bb68-4781-8298-ebb9a02eb5b5"
      },
      "source": [
        "df_new = getTrackFeatures(df_test)"
      ],
      "execution_count": null,
      "outputs": [
        {
          "output_type": "stream",
          "text": [
            "/usr/local/lib/python3.6/dist-packages/ipykernel_launcher.py:8: SettingWithCopyWarning: \n",
            "A value is trying to be set on a copy of a slice from a DataFrame\n",
            "\n",
            "See the caveats in the documentation: https://pandas.pydata.org/pandas-docs/stable/user_guide/indexing.html#returning-a-view-versus-a-copy\n",
            "  \n",
            "/usr/local/lib/python3.6/dist-packages/ipykernel_launcher.py:9: SettingWithCopyWarning: \n",
            "A value is trying to be set on a copy of a slice from a DataFrame\n",
            "\n",
            "See the caveats in the documentation: https://pandas.pydata.org/pandas-docs/stable/user_guide/indexing.html#returning-a-view-versus-a-copy\n",
            "  if __name__ == '__main__':\n",
            "/usr/local/lib/python3.6/dist-packages/ipykernel_launcher.py:10: SettingWithCopyWarning: \n",
            "A value is trying to be set on a copy of a slice from a DataFrame\n",
            "\n",
            "See the caveats in the documentation: https://pandas.pydata.org/pandas-docs/stable/user_guide/indexing.html#returning-a-view-versus-a-copy\n",
            "  # Remove the CWD from sys.path while we load stuff.\n"
          ],
          "name": "stderr"
        }
      ]
    },
    {
      "cell_type": "code",
      "metadata": {
        "id": "f-TkOd5gIEer",
        "colab_type": "code",
        "colab": {
          "base_uri": "https://localhost:8080/",
          "height": 191
        },
        "outputId": "d9e01d58-4000-401f-bdc1-6a124127ca36"
      },
      "source": [
        "df_new.head()"
      ],
      "execution_count": null,
      "outputs": [
        {
          "output_type": "execute_result",
          "data": {
            "text/html": [
              "<div>\n",
              "<style scoped>\n",
              "    .dataframe tbody tr th:only-of-type {\n",
              "        vertical-align: middle;\n",
              "    }\n",
              "\n",
              "    .dataframe tbody tr th {\n",
              "        vertical-align: top;\n",
              "    }\n",
              "\n",
              "    .dataframe thead th {\n",
              "        text-align: right;\n",
              "    }\n",
              "</style>\n",
              "<table border=\"1\" class=\"dataframe\">\n",
              "  <thead>\n",
              "    <tr style=\"text-align: right;\">\n",
              "      <th></th>\n",
              "      <th>genre</th>\n",
              "      <th>artist_name</th>\n",
              "      <th>track_name</th>\n",
              "      <th>track_id</th>\n",
              "      <th>popularity</th>\n",
              "      <th>acousticness</th>\n",
              "      <th>danceability</th>\n",
              "      <th>duration_ms</th>\n",
              "      <th>energy</th>\n",
              "      <th>instrumentalness</th>\n",
              "      <th>key</th>\n",
              "      <th>liveness</th>\n",
              "      <th>loudness</th>\n",
              "      <th>mode</th>\n",
              "      <th>speechiness</th>\n",
              "      <th>tempo</th>\n",
              "      <th>time_signature</th>\n",
              "      <th>valence</th>\n",
              "    </tr>\n",
              "  </thead>\n",
              "  <tbody>\n",
              "    <tr>\n",
              "      <th>0</th>\n",
              "      <td>Movie</td>\n",
              "      <td>Henri Salvador</td>\n",
              "      <td>C'est beau de faire un Show</td>\n",
              "      <td>0BRjO6ga9RKCKjfDqeFgWV</td>\n",
              "      <td>0</td>\n",
              "      <td>0.611</td>\n",
              "      <td>0.389</td>\n",
              "      <td>99373</td>\n",
              "      <td>0.910</td>\n",
              "      <td>0.000</td>\n",
              "      <td>1</td>\n",
              "      <td>0.3460</td>\n",
              "      <td>-1.828</td>\n",
              "      <td>1</td>\n",
              "      <td>0.0525</td>\n",
              "      <td>166.969</td>\n",
              "      <td>4</td>\n",
              "      <td>0.814</td>\n",
              "    </tr>\n",
              "    <tr>\n",
              "      <th>1</th>\n",
              "      <td>Movie</td>\n",
              "      <td>Martin &amp; les fées</td>\n",
              "      <td>Perdu d'avance (par Gad Elmaleh)</td>\n",
              "      <td>0BjC1NfoEOOusryehmNudP</td>\n",
              "      <td>1</td>\n",
              "      <td>0.246</td>\n",
              "      <td>0.590</td>\n",
              "      <td>137373</td>\n",
              "      <td>0.737</td>\n",
              "      <td>0.000</td>\n",
              "      <td>6</td>\n",
              "      <td>0.1510</td>\n",
              "      <td>-5.559</td>\n",
              "      <td>0</td>\n",
              "      <td>0.0868</td>\n",
              "      <td>174.003</td>\n",
              "      <td>4</td>\n",
              "      <td>0.816</td>\n",
              "    </tr>\n",
              "    <tr>\n",
              "      <th>2</th>\n",
              "      <td>Movie</td>\n",
              "      <td>Joseph Williams</td>\n",
              "      <td>Don't Let Me Be Lonely Tonight</td>\n",
              "      <td>0CoSDzoNIKCRs124s9uTVy</td>\n",
              "      <td>3</td>\n",
              "      <td>0.952</td>\n",
              "      <td>0.663</td>\n",
              "      <td>170267</td>\n",
              "      <td>0.131</td>\n",
              "      <td>0.000</td>\n",
              "      <td>0</td>\n",
              "      <td>0.1030</td>\n",
              "      <td>-13.879</td>\n",
              "      <td>0</td>\n",
              "      <td>0.0362</td>\n",
              "      <td>99.488</td>\n",
              "      <td>5</td>\n",
              "      <td>0.368</td>\n",
              "    </tr>\n",
              "    <tr>\n",
              "      <th>3</th>\n",
              "      <td>Movie</td>\n",
              "      <td>Henri Salvador</td>\n",
              "      <td>Dis-moi Monsieur Gordon Cooper</td>\n",
              "      <td>0Gc6TVm52BwZD07Ki6tIvf</td>\n",
              "      <td>0</td>\n",
              "      <td>0.703</td>\n",
              "      <td>0.240</td>\n",
              "      <td>152427</td>\n",
              "      <td>0.326</td>\n",
              "      <td>0.000</td>\n",
              "      <td>1</td>\n",
              "      <td>0.0985</td>\n",
              "      <td>-12.178</td>\n",
              "      <td>1</td>\n",
              "      <td>0.0395</td>\n",
              "      <td>171.758</td>\n",
              "      <td>4</td>\n",
              "      <td>0.227</td>\n",
              "    </tr>\n",
              "    <tr>\n",
              "      <th>4</th>\n",
              "      <td>Movie</td>\n",
              "      <td>Fabien Nataf</td>\n",
              "      <td>Ouverture</td>\n",
              "      <td>0IuslXpMROHdEPvSl1fTQK</td>\n",
              "      <td>4</td>\n",
              "      <td>0.950</td>\n",
              "      <td>0.331</td>\n",
              "      <td>82625</td>\n",
              "      <td>0.225</td>\n",
              "      <td>0.123</td>\n",
              "      <td>5</td>\n",
              "      <td>0.2020</td>\n",
              "      <td>-21.150</td>\n",
              "      <td>1</td>\n",
              "      <td>0.0456</td>\n",
              "      <td>140.576</td>\n",
              "      <td>4</td>\n",
              "      <td>0.390</td>\n",
              "    </tr>\n",
              "  </tbody>\n",
              "</table>\n",
              "</div>"
            ],
            "text/plain": [
              "   genre        artist_name  ... time_signature valence\n",
              "0  Movie     Henri Salvador  ...              4   0.814\n",
              "1  Movie  Martin & les fées  ...              4   0.816\n",
              "2  Movie    Joseph Williams  ...              5   0.368\n",
              "3  Movie     Henri Salvador  ...              4   0.227\n",
              "4  Movie       Fabien Nataf  ...              4   0.390\n",
              "\n",
              "[5 rows x 18 columns]"
            ]
          },
          "metadata": {
            "tags": []
          },
          "execution_count": 19
        }
      ]
    },
    {
      "cell_type": "code",
      "metadata": {
        "id": "5rUWYSDNNhz7",
        "colab_type": "code",
        "colab": {}
      },
      "source": [
        "headers = ['popularity','acousticness','danceability','duration_ms','energy','instrumentalness','key','liveness','loudness','mode','speechiness','tempo','time_signature','valence']\n",
        "df_new = df_new[headers]"
      ],
      "execution_count": null,
      "outputs": []
    },
    {
      "cell_type": "code",
      "metadata": {
        "id": "wtbbJDcEN80U",
        "colab_type": "code",
        "colab": {
          "base_uri": "https://localhost:8080/",
          "height": 33
        },
        "outputId": "4c913ec9-209e-4540-aa38-ec3025704ed1"
      },
      "source": [
        "df_new.shape"
      ],
      "execution_count": null,
      "outputs": [
        {
          "output_type": "execute_result",
          "data": {
            "text/plain": [
              "(500, 14)"
            ]
          },
          "metadata": {
            "tags": []
          },
          "execution_count": 25
        }
      ]
    },
    {
      "cell_type": "code",
      "metadata": {
        "id": "vhbd0GflNQNz",
        "colab_type": "code",
        "colab": {
          "base_uri": "https://localhost:8080/",
          "height": 33
        },
        "outputId": "52ef63b7-aff7-40d2-d5e3-7fef61664b33"
      },
      "source": [
        "from keras.models import Model\n",
        "from keras.layers import Input, Dense\n",
        "from keras import regularizers\n",
        "from sklearn.preprocessing import MinMaxScaler\n",
        "import pandas as pd"
      ],
      "execution_count": null,
      "outputs": [
        {
          "output_type": "stream",
          "text": [
            "Using TensorFlow backend.\n"
          ],
          "name": "stderr"
        }
      ]
    },
    {
      "cell_type": "code",
      "metadata": {
        "id": "KV7ntMqdNcnq",
        "colab_type": "code",
        "colab": {}
      },
      "source": [
        "# Normalise\n",
        "scaler = MinMaxScaler()\n",
        "data_scaled = scaler.fit_transform(df_new)"
      ],
      "execution_count": null,
      "outputs": []
    },
    {
      "cell_type": "code",
      "metadata": {
        "id": "-qwL_gFsOFw1",
        "colab_type": "code",
        "colab": {
          "base_uri": "https://localhost:8080/",
          "height": 191
        },
        "outputId": "6508309f-92d2-4eb3-e231-5647dbb694da"
      },
      "source": [
        "df_scaled = pd.DataFrame(data_scaled,columns=headers)\n",
        "df_scaled.head()"
      ],
      "execution_count": null,
      "outputs": [
        {
          "output_type": "execute_result",
          "data": {
            "text/html": [
              "<div>\n",
              "<style scoped>\n",
              "    .dataframe tbody tr th:only-of-type {\n",
              "        vertical-align: middle;\n",
              "    }\n",
              "\n",
              "    .dataframe tbody tr th {\n",
              "        vertical-align: top;\n",
              "    }\n",
              "\n",
              "    .dataframe thead th {\n",
              "        text-align: right;\n",
              "    }\n",
              "</style>\n",
              "<table border=\"1\" class=\"dataframe\">\n",
              "  <thead>\n",
              "    <tr style=\"text-align: right;\">\n",
              "      <th></th>\n",
              "      <th>popularity</th>\n",
              "      <th>acousticness</th>\n",
              "      <th>danceability</th>\n",
              "      <th>duration_ms</th>\n",
              "      <th>energy</th>\n",
              "      <th>instrumentalness</th>\n",
              "      <th>key</th>\n",
              "      <th>liveness</th>\n",
              "      <th>loudness</th>\n",
              "      <th>mode</th>\n",
              "      <th>speechiness</th>\n",
              "      <th>tempo</th>\n",
              "      <th>time_signature</th>\n",
              "      <th>valence</th>\n",
              "    </tr>\n",
              "  </thead>\n",
              "  <tbody>\n",
              "    <tr>\n",
              "      <th>0</th>\n",
              "      <td>0.000000</td>\n",
              "      <td>0.613844</td>\n",
              "      <td>0.364176</td>\n",
              "      <td>0.022303</td>\n",
              "      <td>0.932270</td>\n",
              "      <td>0.000</td>\n",
              "      <td>0.090909</td>\n",
              "      <td>0.335112</td>\n",
              "      <td>1.000000</td>\n",
              "      <td>1.0</td>\n",
              "      <td>0.031243</td>\n",
              "      <td>0.777809</td>\n",
              "      <td>0.75</td>\n",
              "      <td>0.836588</td>\n",
              "    </tr>\n",
              "    <tr>\n",
              "      <th>1</th>\n",
              "      <td>0.013158</td>\n",
              "      <td>0.246796</td>\n",
              "      <td>0.607606</td>\n",
              "      <td>0.032821</td>\n",
              "      <td>0.754736</td>\n",
              "      <td>0.000</td>\n",
              "      <td>0.545455</td>\n",
              "      <td>0.127001</td>\n",
              "      <td>0.840868</td>\n",
              "      <td>0.0</td>\n",
              "      <td>0.067818</td>\n",
              "      <td>0.818418</td>\n",
              "      <td>0.75</td>\n",
              "      <td>0.838643</td>\n",
              "    </tr>\n",
              "    <tr>\n",
              "      <th>2</th>\n",
              "      <td>0.039474</td>\n",
              "      <td>0.956759</td>\n",
              "      <td>0.696016</td>\n",
              "      <td>0.041927</td>\n",
              "      <td>0.132853</td>\n",
              "      <td>0.000</td>\n",
              "      <td>0.000000</td>\n",
              "      <td>0.075774</td>\n",
              "      <td>0.486010</td>\n",
              "      <td>0.0</td>\n",
              "      <td>0.013862</td>\n",
              "      <td>0.388220</td>\n",
              "      <td>1.00</td>\n",
              "      <td>0.378212</td>\n",
              "    </tr>\n",
              "    <tr>\n",
              "      <th>3</th>\n",
              "      <td>0.000000</td>\n",
              "      <td>0.706361</td>\n",
              "      <td>0.183723</td>\n",
              "      <td>0.036988</td>\n",
              "      <td>0.332964</td>\n",
              "      <td>0.000</td>\n",
              "      <td>0.090909</td>\n",
              "      <td>0.070971</td>\n",
              "      <td>0.558560</td>\n",
              "      <td>1.0</td>\n",
              "      <td>0.017381</td>\n",
              "      <td>0.805457</td>\n",
              "      <td>0.75</td>\n",
              "      <td>0.233299</td>\n",
              "    </tr>\n",
              "    <tr>\n",
              "      <th>4</th>\n",
              "      <td>0.052632</td>\n",
              "      <td>0.954747</td>\n",
              "      <td>0.293932</td>\n",
              "      <td>0.017667</td>\n",
              "      <td>0.229317</td>\n",
              "      <td>0.125</td>\n",
              "      <td>0.454545</td>\n",
              "      <td>0.181430</td>\n",
              "      <td>0.175894</td>\n",
              "      <td>1.0</td>\n",
              "      <td>0.023886</td>\n",
              "      <td>0.625434</td>\n",
              "      <td>0.75</td>\n",
              "      <td>0.400822</td>\n",
              "    </tr>\n",
              "  </tbody>\n",
              "</table>\n",
              "</div>"
            ],
            "text/plain": [
              "   popularity  acousticness  danceability  ...     tempo  time_signature   valence\n",
              "0    0.000000      0.613844      0.364176  ...  0.777809            0.75  0.836588\n",
              "1    0.013158      0.246796      0.607606  ...  0.818418            0.75  0.838643\n",
              "2    0.039474      0.956759      0.696016  ...  0.388220            1.00  0.378212\n",
              "3    0.000000      0.706361      0.183723  ...  0.805457            0.75  0.233299\n",
              "4    0.052632      0.954747      0.293932  ...  0.625434            0.75  0.400822\n",
              "\n",
              "[5 rows x 14 columns]"
            ]
          },
          "metadata": {
            "tags": []
          },
          "execution_count": 49
        }
      ]
    },
    {
      "cell_type": "code",
      "metadata": {
        "id": "c9HkvN9iOwj9",
        "colab_type": "code",
        "colab": {
          "base_uri": "https://localhost:8080/",
          "height": 375
        },
        "outputId": "f5a38e7a-c3ce-4668-fdea-04549a013214"
      },
      "source": [
        "# Fixed dimensions\n",
        "input_dim = df_new.shape[1]  # 14\n",
        "\n",
        "# Number of neurons in each Layer [14, 7, 4, 2, ...] of encoders\n",
        "input_layer = Input(shape=(input_dim, ))\n",
        "encoder_layer_1 = Dense(7, activation=\"relu\", activity_regularizer=regularizers.l1(10e-5))(input_layer)\n",
        "encoder_layer_2 = Dense(4, activation=\"relu\")(encoder_layer_1)\n",
        "encoder_layer_3 = Dense(2, activation=\"relu\")(encoder_layer_2)\n",
        "\n",
        "# Crear encoder model\n",
        "encoder = Model(inputs=input_layer, outputs=encoder_layer_3)\n",
        "\n",
        "decoder_1 = Dense(4, activation='relu')(encoder_layer_3)\n",
        "decoder_2 = Dense(7, activation='relu')(decoder_1)\n",
        "decoder_output = Dense(14, activation = 'softmax')(decoder_2)\n",
        "\n",
        "autoencoder = Model(input_layer, decoder_output)\n",
        "\n",
        "autoencoder.summary()"
      ],
      "execution_count": null,
      "outputs": [
        {
          "output_type": "stream",
          "text": [
            "Model: \"model_15\"\n",
            "_________________________________________________________________\n",
            "Layer (type)                 Output Shape              Param #   \n",
            "=================================================================\n",
            "input_10 (InputLayer)        (None, 14)                0         \n",
            "_________________________________________________________________\n",
            "dense_38 (Dense)             (None, 7)                 105       \n",
            "_________________________________________________________________\n",
            "dense_39 (Dense)             (None, 4)                 32        \n",
            "_________________________________________________________________\n",
            "dense_40 (Dense)             (None, 2)                 10        \n",
            "_________________________________________________________________\n",
            "dense_41 (Dense)             (None, 4)                 12        \n",
            "_________________________________________________________________\n",
            "dense_42 (Dense)             (None, 7)                 35        \n",
            "_________________________________________________________________\n",
            "dense_43 (Dense)             (None, 14)                112       \n",
            "=================================================================\n",
            "Total params: 306\n",
            "Trainable params: 306\n",
            "Non-trainable params: 0\n",
            "_________________________________________________________________\n"
          ],
          "name": "stdout"
        }
      ]
    },
    {
      "cell_type": "code",
      "metadata": {
        "id": "hfuSytVTUiWi",
        "colab_type": "code",
        "colab": {
          "base_uri": "https://localhost:8080/",
          "height": 1000
        },
        "outputId": "8fb7809f-7d1f-4bbb-f911-b891480c3ec3"
      },
      "source": [
        "\n",
        "autoencoder.compile(optimizer='nadam',\n",
        "                    loss='mean_squared_error',\n",
        "                    metrics=['mae'])\n",
        "\n",
        "autoencoder.fit(df_scaled, df_scaled,\n",
        "                epochs=100,\n",
        "                batch_size=32)\n",
        "                # shuffle=True,\n",
        "                # validation_data=(x_test, x_test),\n",
        "                # verbose = 1,\n",
        "                # callbacks=[stop, tensorboard])"
      ],
      "execution_count": null,
      "outputs": [
        {
          "output_type": "stream",
          "text": [
            "Epoch 1/100\n",
            "500/500 [==============================] - 0s 594us/step - loss: 0.2360 - mae: 0.3689\n",
            "Epoch 2/100\n",
            "500/500 [==============================] - 0s 185us/step - loss: 0.2321 - mae: 0.3659\n",
            "Epoch 3/100\n",
            "500/500 [==============================] - 0s 196us/step - loss: 0.2272 - mae: 0.3614\n",
            "Epoch 4/100\n",
            "500/500 [==============================] - 0s 202us/step - loss: 0.2190 - mae: 0.3553\n",
            "Epoch 5/100\n",
            "500/500 [==============================] - 0s 191us/step - loss: 0.2132 - mae: 0.3543\n",
            "Epoch 6/100\n",
            "500/500 [==============================] - 0s 191us/step - loss: 0.2111 - mae: 0.3552\n",
            "Epoch 7/100\n",
            "500/500 [==============================] - 0s 197us/step - loss: 0.2097 - mae: 0.3548\n",
            "Epoch 8/100\n",
            "500/500 [==============================] - 0s 184us/step - loss: 0.2085 - mae: 0.3541\n",
            "Epoch 9/100\n",
            "500/500 [==============================] - 0s 193us/step - loss: 0.2073 - mae: 0.3530\n",
            "Epoch 10/100\n",
            "500/500 [==============================] - 0s 191us/step - loss: 0.2063 - mae: 0.3520\n",
            "Epoch 11/100\n",
            "500/500 [==============================] - 0s 206us/step - loss: 0.2054 - mae: 0.3508\n",
            "Epoch 12/100\n",
            "500/500 [==============================] - 0s 193us/step - loss: 0.2046 - mae: 0.3496\n",
            "Epoch 13/100\n",
            "500/500 [==============================] - 0s 213us/step - loss: 0.2039 - mae: 0.3486\n",
            "Epoch 14/100\n",
            "500/500 [==============================] - 0s 196us/step - loss: 0.2034 - mae: 0.3479\n",
            "Epoch 15/100\n",
            "500/500 [==============================] - 0s 203us/step - loss: 0.2029 - mae: 0.3471\n",
            "Epoch 16/100\n",
            "500/500 [==============================] - 0s 191us/step - loss: 0.2025 - mae: 0.3464\n",
            "Epoch 17/100\n",
            "500/500 [==============================] - 0s 194us/step - loss: 0.2021 - mae: 0.3459\n",
            "Epoch 18/100\n",
            "500/500 [==============================] - 0s 190us/step - loss: 0.2018 - mae: 0.3454\n",
            "Epoch 19/100\n",
            "500/500 [==============================] - 0s 197us/step - loss: 0.2016 - mae: 0.3450\n",
            "Epoch 20/100\n",
            "500/500 [==============================] - 0s 195us/step - loss: 0.2013 - mae: 0.3446\n",
            "Epoch 21/100\n",
            "500/500 [==============================] - 0s 208us/step - loss: 0.2011 - mae: 0.3444\n",
            "Epoch 22/100\n",
            "500/500 [==============================] - 0s 193us/step - loss: 0.2010 - mae: 0.3441\n",
            "Epoch 23/100\n",
            "500/500 [==============================] - 0s 207us/step - loss: 0.2008 - mae: 0.3439\n",
            "Epoch 24/100\n",
            "500/500 [==============================] - 0s 198us/step - loss: 0.2007 - mae: 0.3438\n",
            "Epoch 25/100\n",
            "500/500 [==============================] - 0s 193us/step - loss: 0.2006 - mae: 0.3436\n",
            "Epoch 26/100\n",
            "500/500 [==============================] - 0s 194us/step - loss: 0.2004 - mae: 0.3435\n",
            "Epoch 27/100\n",
            "500/500 [==============================] - 0s 196us/step - loss: 0.2004 - mae: 0.3434\n",
            "Epoch 28/100\n",
            "500/500 [==============================] - 0s 184us/step - loss: 0.2002 - mae: 0.3433\n",
            "Epoch 29/100\n",
            "500/500 [==============================] - 0s 191us/step - loss: 0.2002 - mae: 0.3432\n",
            "Epoch 30/100\n",
            "500/500 [==============================] - 0s 201us/step - loss: 0.2001 - mae: 0.3431\n",
            "Epoch 31/100\n",
            "500/500 [==============================] - 0s 206us/step - loss: 0.2001 - mae: 0.3429\n",
            "Epoch 32/100\n",
            "500/500 [==============================] - 0s 179us/step - loss: 0.1999 - mae: 0.3428\n",
            "Epoch 33/100\n",
            "500/500 [==============================] - 0s 209us/step - loss: 0.1999 - mae: 0.3427\n",
            "Epoch 34/100\n",
            "500/500 [==============================] - 0s 195us/step - loss: 0.1998 - mae: 0.3426\n",
            "Epoch 35/100\n",
            "500/500 [==============================] - 0s 194us/step - loss: 0.1998 - mae: 0.3427\n",
            "Epoch 36/100\n",
            "500/500 [==============================] - 0s 199us/step - loss: 0.1997 - mae: 0.3426\n",
            "Epoch 37/100\n",
            "500/500 [==============================] - 0s 198us/step - loss: 0.1997 - mae: 0.3425\n",
            "Epoch 38/100\n",
            "500/500 [==============================] - 0s 204us/step - loss: 0.1996 - mae: 0.3425\n",
            "Epoch 39/100\n",
            "500/500 [==============================] - 0s 186us/step - loss: 0.1996 - mae: 0.3424\n",
            "Epoch 40/100\n",
            "500/500 [==============================] - 0s 194us/step - loss: 0.1996 - mae: 0.3424\n",
            "Epoch 41/100\n",
            "500/500 [==============================] - 0s 225us/step - loss: 0.1995 - mae: 0.3423\n",
            "Epoch 42/100\n",
            "500/500 [==============================] - 0s 186us/step - loss: 0.1995 - mae: 0.3423\n",
            "Epoch 43/100\n",
            "500/500 [==============================] - 0s 197us/step - loss: 0.1995 - mae: 0.3423\n",
            "Epoch 44/100\n",
            "500/500 [==============================] - 0s 197us/step - loss: 0.1994 - mae: 0.3423\n",
            "Epoch 45/100\n",
            "500/500 [==============================] - 0s 190us/step - loss: 0.1993 - mae: 0.3422\n",
            "Epoch 46/100\n",
            "500/500 [==============================] - 0s 195us/step - loss: 0.1993 - mae: 0.3423\n",
            "Epoch 47/100\n",
            "500/500 [==============================] - 0s 198us/step - loss: 0.1993 - mae: 0.3421\n",
            "Epoch 48/100\n",
            "500/500 [==============================] - 0s 198us/step - loss: 0.1993 - mae: 0.3421\n",
            "Epoch 49/100\n",
            "500/500 [==============================] - 0s 188us/step - loss: 0.1992 - mae: 0.3421\n",
            "Epoch 50/100\n",
            "500/500 [==============================] - 0s 196us/step - loss: 0.1993 - mae: 0.3421\n",
            "Epoch 51/100\n",
            "500/500 [==============================] - 0s 209us/step - loss: 0.1992 - mae: 0.3421\n",
            "Epoch 52/100\n",
            "500/500 [==============================] - 0s 200us/step - loss: 0.1991 - mae: 0.3421\n",
            "Epoch 53/100\n",
            "500/500 [==============================] - 0s 197us/step - loss: 0.1991 - mae: 0.3420\n",
            "Epoch 54/100\n",
            "500/500 [==============================] - 0s 189us/step - loss: 0.1990 - mae: 0.3421\n",
            "Epoch 55/100\n",
            "500/500 [==============================] - 0s 201us/step - loss: 0.1990 - mae: 0.3420\n",
            "Epoch 56/100\n",
            "500/500 [==============================] - 0s 187us/step - loss: 0.1990 - mae: 0.3420\n",
            "Epoch 57/100\n",
            "500/500 [==============================] - 0s 185us/step - loss: 0.1989 - mae: 0.3419\n",
            "Epoch 58/100\n",
            "500/500 [==============================] - 0s 195us/step - loss: 0.1989 - mae: 0.3419\n",
            "Epoch 59/100\n",
            "500/500 [==============================] - 0s 197us/step - loss: 0.1988 - mae: 0.3419\n",
            "Epoch 60/100\n",
            "500/500 [==============================] - 0s 193us/step - loss: 0.1989 - mae: 0.3419\n",
            "Epoch 61/100\n",
            "500/500 [==============================] - 0s 209us/step - loss: 0.1987 - mae: 0.3419\n",
            "Epoch 62/100\n",
            "500/500 [==============================] - 0s 186us/step - loss: 0.1986 - mae: 0.3418\n",
            "Epoch 63/100\n",
            "500/500 [==============================] - 0s 218us/step - loss: 0.1986 - mae: 0.3418\n",
            "Epoch 64/100\n",
            "500/500 [==============================] - 0s 191us/step - loss: 0.1985 - mae: 0.3418\n",
            "Epoch 65/100\n",
            "500/500 [==============================] - 0s 201us/step - loss: 0.1985 - mae: 0.3418\n",
            "Epoch 66/100\n",
            "500/500 [==============================] - 0s 198us/step - loss: 0.1985 - mae: 0.3417\n",
            "Epoch 67/100\n",
            "500/500 [==============================] - 0s 184us/step - loss: 0.1984 - mae: 0.3417\n",
            "Epoch 68/100\n",
            "500/500 [==============================] - 0s 201us/step - loss: 0.1984 - mae: 0.3417\n",
            "Epoch 69/100\n",
            "500/500 [==============================] - 0s 191us/step - loss: 0.1983 - mae: 0.3418\n",
            "Epoch 70/100\n",
            "500/500 [==============================] - 0s 193us/step - loss: 0.1982 - mae: 0.3417\n",
            "Epoch 71/100\n",
            "500/500 [==============================] - 0s 216us/step - loss: 0.1983 - mae: 0.3417\n",
            "Epoch 72/100\n",
            "500/500 [==============================] - 0s 186us/step - loss: 0.1982 - mae: 0.3417\n",
            "Epoch 73/100\n",
            "500/500 [==============================] - 0s 193us/step - loss: 0.1981 - mae: 0.3417\n",
            "Epoch 74/100\n",
            "500/500 [==============================] - 0s 205us/step - loss: 0.1980 - mae: 0.3416\n",
            "Epoch 75/100\n",
            "500/500 [==============================] - 0s 188us/step - loss: 0.1981 - mae: 0.3416\n",
            "Epoch 76/100\n",
            "500/500 [==============================] - 0s 200us/step - loss: 0.1980 - mae: 0.3416\n",
            "Epoch 77/100\n",
            "500/500 [==============================] - 0s 201us/step - loss: 0.1979 - mae: 0.3416\n",
            "Epoch 78/100\n",
            "500/500 [==============================] - 0s 190us/step - loss: 0.1979 - mae: 0.3415\n",
            "Epoch 79/100\n",
            "500/500 [==============================] - 0s 192us/step - loss: 0.1978 - mae: 0.3415\n",
            "Epoch 80/100\n",
            "500/500 [==============================] - 0s 216us/step - loss: 0.1977 - mae: 0.3416\n",
            "Epoch 81/100\n",
            "500/500 [==============================] - 0s 231us/step - loss: 0.1978 - mae: 0.3415\n",
            "Epoch 82/100\n",
            "500/500 [==============================] - 0s 193us/step - loss: 0.1977 - mae: 0.3415\n",
            "Epoch 83/100\n",
            "500/500 [==============================] - 0s 202us/step - loss: 0.1977 - mae: 0.3415\n",
            "Epoch 84/100\n",
            "500/500 [==============================] - 0s 187us/step - loss: 0.1976 - mae: 0.3415\n",
            "Epoch 85/100\n",
            "500/500 [==============================] - 0s 193us/step - loss: 0.1975 - mae: 0.3415\n",
            "Epoch 86/100\n",
            "500/500 [==============================] - 0s 193us/step - loss: 0.1974 - mae: 0.3414\n",
            "Epoch 87/100\n",
            "500/500 [==============================] - 0s 188us/step - loss: 0.1974 - mae: 0.3414\n",
            "Epoch 88/100\n",
            "500/500 [==============================] - 0s 191us/step - loss: 0.1973 - mae: 0.3414\n",
            "Epoch 89/100\n",
            "500/500 [==============================] - 0s 202us/step - loss: 0.1972 - mae: 0.3414\n",
            "Epoch 90/100\n",
            "500/500 [==============================] - 0s 189us/step - loss: 0.1971 - mae: 0.3414\n",
            "Epoch 91/100\n",
            "500/500 [==============================] - 0s 208us/step - loss: 0.1970 - mae: 0.3414\n",
            "Epoch 92/100\n",
            "500/500 [==============================] - 0s 198us/step - loss: 0.1971 - mae: 0.3413\n",
            "Epoch 93/100\n",
            "500/500 [==============================] - 0s 199us/step - loss: 0.1968 - mae: 0.3414\n",
            "Epoch 94/100\n",
            "500/500 [==============================] - 0s 191us/step - loss: 0.1968 - mae: 0.3414\n",
            "Epoch 95/100\n",
            "500/500 [==============================] - 0s 190us/step - loss: 0.1968 - mae: 0.3413\n",
            "Epoch 96/100\n",
            "500/500 [==============================] - 0s 194us/step - loss: 0.1965 - mae: 0.3413\n",
            "Epoch 97/100\n",
            "500/500 [==============================] - 0s 194us/step - loss: 0.1965 - mae: 0.3413\n",
            "Epoch 98/100\n",
            "500/500 [==============================] - 0s 203us/step - loss: 0.1964 - mae: 0.3413\n",
            "Epoch 99/100\n",
            "500/500 [==============================] - 0s 202us/step - loss: 0.1963 - mae: 0.3413\n",
            "Epoch 100/100\n",
            "500/500 [==============================] - 0s 197us/step - loss: 0.1963 - mae: 0.3412\n"
          ],
          "name": "stdout"
        },
        {
          "output_type": "execute_result",
          "data": {
            "text/plain": [
              "<keras.callbacks.callbacks.History at 0x7f288a1cdcc0>"
            ]
          },
          "metadata": {
            "tags": []
          },
          "execution_count": 71
        }
      ]
    },
    {
      "cell_type": "code",
      "metadata": {
        "id": "4_6L7UvXPEKY",
        "colab_type": "code",
        "colab": {
          "base_uri": "https://localhost:8080/",
          "height": 198
        },
        "outputId": "7763b166-0a39-44a5-ee52-b4478b00e322"
      },
      "source": [
        "\n",
        "# Use the model to predict the factors which sum up the information of interest rates.\n",
        "encoded_data = pd.DataFrame(encoder.predict(data_scaled))\n",
        "encoded_data.columns = ['x', 'y']\n",
        "encoded_data.head()"
      ],
      "execution_count": null,
      "outputs": [
        {
          "output_type": "execute_result",
          "data": {
            "text/html": [
              "<div>\n",
              "<style scoped>\n",
              "    .dataframe tbody tr th:only-of-type {\n",
              "        vertical-align: middle;\n",
              "    }\n",
              "\n",
              "    .dataframe tbody tr th {\n",
              "        vertical-align: top;\n",
              "    }\n",
              "\n",
              "    .dataframe thead th {\n",
              "        text-align: right;\n",
              "    }\n",
              "</style>\n",
              "<table border=\"1\" class=\"dataframe\">\n",
              "  <thead>\n",
              "    <tr style=\"text-align: right;\">\n",
              "      <th></th>\n",
              "      <th>x</th>\n",
              "      <th>y</th>\n",
              "    </tr>\n",
              "  </thead>\n",
              "  <tbody>\n",
              "    <tr>\n",
              "      <th>0</th>\n",
              "      <td>2.939129</td>\n",
              "      <td>1.748975</td>\n",
              "    </tr>\n",
              "    <tr>\n",
              "      <th>1</th>\n",
              "      <td>1.269577</td>\n",
              "      <td>1.530359</td>\n",
              "    </tr>\n",
              "    <tr>\n",
              "      <th>2</th>\n",
              "      <td>1.006620</td>\n",
              "      <td>1.220819</td>\n",
              "    </tr>\n",
              "    <tr>\n",
              "      <th>3</th>\n",
              "      <td>3.210500</td>\n",
              "      <td>1.766507</td>\n",
              "    </tr>\n",
              "    <tr>\n",
              "      <th>4</th>\n",
              "      <td>1.731930</td>\n",
              "      <td>0.000000</td>\n",
              "    </tr>\n",
              "  </tbody>\n",
              "</table>\n",
              "</div>"
            ],
            "text/plain": [
              "          x         y\n",
              "0  2.939129  1.748975\n",
              "1  1.269577  1.530359\n",
              "2  1.006620  1.220819\n",
              "3  3.210500  1.766507\n",
              "4  1.731930  0.000000"
            ]
          },
          "metadata": {
            "tags": []
          },
          "execution_count": 72
        }
      ]
    },
    {
      "cell_type": "code",
      "metadata": {
        "id": "A5dj5gzZPbZO",
        "colab_type": "code",
        "colab": {
          "base_uri": "https://localhost:8080/",
          "height": 297
        },
        "outputId": "a53f28d4-db87-40bd-d935-b76b361d2118"
      },
      "source": [
        "encoded_data.plot.scatter('x','y')"
      ],
      "execution_count": null,
      "outputs": [
        {
          "output_type": "execute_result",
          "data": {
            "text/plain": [
              "<matplotlib.axes._subplots.AxesSubplot at 0x7f28877615f8>"
            ]
          },
          "metadata": {
            "tags": []
          },
          "execution_count": 73
        },
        {
          "output_type": "display_data",
          "data": {
            "image/png": "[encoded data removed]",
            "text/plain": [
              "<Figure size 432x288 with 1 Axes>"
            ]
          },
          "metadata": {
            "tags": [],
            "needs_background": "light"
          }
        }
      ]
    },
    {
      "cell_type": "code",
      "metadata": {
        "id": "tEgdoI73aGzD",
        "colab_type": "code",
        "colab": {
          "base_uri": "https://localhost:8080/",
          "height": 48
        },
        "outputId": "a311f718-3171-45e1-da9d-00675ee7ba67"
      },
      "source": [
        "from scipy.spatial import distance\n",
        "a = (1, 2, 3)\n",
        "b = (4, 5, 6)\n",
        "dst = distance.euclidean(a, b)"
      ],
      "execution_count": null,
      "outputs": [
        {
          "output_type": "execute_result",
          "data": {
            "text/plain": [
              "5.196152422706632"
            ]
          },
          "metadata": {
            "tags": []
          },
          "execution_count": 75
        }
      ]
    },
    {
      "cell_type": "code",
      "metadata": {
        "id": "FYAX7_zzb0ow",
        "colab_type": "code",
        "colab": {
          "base_uri": "https://localhost:8080/",
          "height": 289
        },
        "outputId": "a6bad7d6-462e-47f1-92d9-a85756131881"
      },
      "source": [
        "for i in range(len(encoded_data['x'])):\n",
        "  encoded_data['e_distance'][i] = distance.euclidean((encoded_data['x'][i],encoded_data['y'][i]),(2.939129,1.748975))\n",
        "encoded_data.head()"
      ],
      "execution_count": null,
      "outputs": [
        {
          "output_type": "stream",
          "text": [
            "/usr/local/lib/python3.6/dist-packages/ipykernel_launcher.py:2: SettingWithCopyWarning: \n",
            "A value is trying to be set on a copy of a slice from a DataFrame\n",
            "\n",
            "See the caveats in the documentation: https://pandas.pydata.org/pandas-docs/stable/user_guide/indexing.html#returning-a-view-versus-a-copy\n",
            "  \n"
          ],
          "name": "stderr"
        },
        {
          "output_type": "execute_result",
          "data": {
            "text/html": [
              "<div>\n",
              "<style scoped>\n",
              "    .dataframe tbody tr th:only-of-type {\n",
              "        vertical-align: middle;\n",
              "    }\n",
              "\n",
              "    .dataframe tbody tr th {\n",
              "        vertical-align: top;\n",
              "    }\n",
              "\n",
              "    .dataframe thead th {\n",
              "        text-align: right;\n",
              "    }\n",
              "</style>\n",
              "<table border=\"1\" class=\"dataframe\">\n",
              "  <thead>\n",
              "    <tr style=\"text-align: right;\">\n",
              "      <th></th>\n",
              "      <th>x</th>\n",
              "      <th>y</th>\n",
              "      <th>e_distance</th>\n",
              "    </tr>\n",
              "  </thead>\n",
              "  <tbody>\n",
              "    <tr>\n",
              "      <th>0</th>\n",
              "      <td>2.939129</td>\n",
              "      <td>1.748975</td>\n",
              "      <td>4.052917e-07</td>\n",
              "    </tr>\n",
              "    <tr>\n",
              "      <th>1</th>\n",
              "      <td>1.269577</td>\n",
              "      <td>1.530359</td>\n",
              "      <td>1.683805e+00</td>\n",
              "    </tr>\n",
              "    <tr>\n",
              "      <th>2</th>\n",
              "      <td>1.006620</td>\n",
              "      <td>1.220819</td>\n",
              "      <td>2.003382e+00</td>\n",
              "    </tr>\n",
              "    <tr>\n",
              "      <th>3</th>\n",
              "      <td>3.210500</td>\n",
              "      <td>1.766507</td>\n",
              "      <td>2.719365e-01</td>\n",
              "    </tr>\n",
              "    <tr>\n",
              "      <th>4</th>\n",
              "      <td>1.731930</td>\n",
              "      <td>0.000000</td>\n",
              "      <td>2.125146e+00</td>\n",
              "    </tr>\n",
              "  </tbody>\n",
              "</table>\n",
              "</div>"
            ],
            "text/plain": [
              "          x         y    e_distance\n",
              "0  2.939129  1.748975  4.052917e-07\n",
              "1  1.269577  1.530359  1.683805e+00\n",
              "2  1.006620  1.220819  2.003382e+00\n",
              "3  3.210500  1.766507  2.719365e-01\n",
              "4  1.731930  0.000000  2.125146e+00"
            ]
          },
          "metadata": {
            "tags": []
          },
          "execution_count": 110
        }
      ]
    },
    {
      "cell_type": "code",
      "metadata": {
        "id": "Mrbz2JX7fVue",
        "colab_type": "code",
        "colab": {
          "base_uri": "https://localhost:8080/",
          "height": 119
        },
        "outputId": "5c31f32d-d511-4f5f-d00d-d50c828644d0"
      },
      "source": [
        "encoded_data['e_distance'].nsmallest(5)"
      ],
      "execution_count": null,
      "outputs": [
        {
          "output_type": "execute_result",
          "data": {
            "text/plain": [
              "0      4.052917e-07\n",
              "464    3.401462e-04\n",
              "244    1.047523e-03\n",
              "30     4.350866e-03\n",
              "266    5.536097e-03\n",
              "Name: e_distance, dtype: float64"
            ]
          },
          "metadata": {
            "tags": []
          },
          "execution_count": 135
        }
      ]
    },
    {
      "cell_type": "code",
      "metadata": {
        "id": "DXJ-2tj5gjfI",
        "colab_type": "code",
        "colab": {
          "base_uri": "https://localhost:8080/",
          "height": 68
        },
        "outputId": "2fc6333b-ba13-4509-d1b8-f776e6625502"
      },
      "source": [
        "print(df['track_name'][0])\n",
        "print(df['track_name'][464])\n",
        "print(df['track_name'][30])"
      ],
      "execution_count": null,
      "outputs": [
        {
          "output_type": "stream",
          "text": [
            "C'est beau de faire un Show\n",
            "Je n'ai pas su te prendre te comprendre\n",
            "A ty się śmiejesz ze mnie\n"
          ],
          "name": "stdout"
        }
      ]
    },
    {
      "cell_type": "code",
      "metadata": {
        "id": "tmJoEooOhr7T",
        "colab_type": "code",
        "colab": {
          "base_uri": "https://localhost:8080/",
          "height": 272
        },
        "outputId": "d08dab77-1c32-4c57-ead3-f821f6166485"
      },
      "source": [
        "df.head()"
      ],
      "execution_count": null,
      "outputs": [
        {
          "output_type": "execute_result",
          "data": {
            "text/html": [
              "<div>\n",
              "<style scoped>\n",
              "    .dataframe tbody tr th:only-of-type {\n",
              "        vertical-align: middle;\n",
              "    }\n",
              "\n",
              "    .dataframe tbody tr th {\n",
              "        vertical-align: top;\n",
              "    }\n",
              "\n",
              "    .dataframe thead th {\n",
              "        text-align: right;\n",
              "    }\n",
              "</style>\n",
              "<table border=\"1\" class=\"dataframe\">\n",
              "  <thead>\n",
              "    <tr style=\"text-align: right;\">\n",
              "      <th></th>\n",
              "      <th>genre</th>\n",
              "      <th>artist_name</th>\n",
              "      <th>track_name</th>\n",
              "      <th>track_id</th>\n",
              "      <th>popularity</th>\n",
              "      <th>acousticness</th>\n",
              "      <th>danceability</th>\n",
              "      <th>duration_ms</th>\n",
              "      <th>energy</th>\n",
              "      <th>instrumentalness</th>\n",
              "      <th>key</th>\n",
              "      <th>liveness</th>\n",
              "      <th>loudness</th>\n",
              "      <th>mode</th>\n",
              "      <th>speechiness</th>\n",
              "      <th>tempo</th>\n",
              "      <th>time_signature</th>\n",
              "      <th>valence</th>\n",
              "    </tr>\n",
              "  </thead>\n",
              "  <tbody>\n",
              "    <tr>\n",
              "      <th>0</th>\n",
              "      <td>Movie</td>\n",
              "      <td>Henri Salvador</td>\n",
              "      <td>C'est beau de faire un Show</td>\n",
              "      <td>0BRjO6ga9RKCKjfDqeFgWV</td>\n",
              "      <td>0</td>\n",
              "      <td>0.611</td>\n",
              "      <td>0.389</td>\n",
              "      <td>99373</td>\n",
              "      <td>0.910</td>\n",
              "      <td>0.000</td>\n",
              "      <td>C#</td>\n",
              "      <td>0.3460</td>\n",
              "      <td>-1.828</td>\n",
              "      <td>Major</td>\n",
              "      <td>0.0525</td>\n",
              "      <td>166.969</td>\n",
              "      <td>4/4</td>\n",
              "      <td>0.814</td>\n",
              "    </tr>\n",
              "    <tr>\n",
              "      <th>1</th>\n",
              "      <td>Movie</td>\n",
              "      <td>Martin &amp; les fées</td>\n",
              "      <td>Perdu d'avance (par Gad Elmaleh)</td>\n",
              "      <td>0BjC1NfoEOOusryehmNudP</td>\n",
              "      <td>1</td>\n",
              "      <td>0.246</td>\n",
              "      <td>0.590</td>\n",
              "      <td>137373</td>\n",
              "      <td>0.737</td>\n",
              "      <td>0.000</td>\n",
              "      <td>F#</td>\n",
              "      <td>0.1510</td>\n",
              "      <td>-5.559</td>\n",
              "      <td>Minor</td>\n",
              "      <td>0.0868</td>\n",
              "      <td>174.003</td>\n",
              "      <td>4/4</td>\n",
              "      <td>0.816</td>\n",
              "    </tr>\n",
              "    <tr>\n",
              "      <th>2</th>\n",
              "      <td>Movie</td>\n",
              "      <td>Joseph Williams</td>\n",
              "      <td>Don't Let Me Be Lonely Tonight</td>\n",
              "      <td>0CoSDzoNIKCRs124s9uTVy</td>\n",
              "      <td>3</td>\n",
              "      <td>0.952</td>\n",
              "      <td>0.663</td>\n",
              "      <td>170267</td>\n",
              "      <td>0.131</td>\n",
              "      <td>0.000</td>\n",
              "      <td>C</td>\n",
              "      <td>0.1030</td>\n",
              "      <td>-13.879</td>\n",
              "      <td>Minor</td>\n",
              "      <td>0.0362</td>\n",
              "      <td>99.488</td>\n",
              "      <td>5/4</td>\n",
              "      <td>0.368</td>\n",
              "    </tr>\n",
              "    <tr>\n",
              "      <th>3</th>\n",
              "      <td>Movie</td>\n",
              "      <td>Henri Salvador</td>\n",
              "      <td>Dis-moi Monsieur Gordon Cooper</td>\n",
              "      <td>0Gc6TVm52BwZD07Ki6tIvf</td>\n",
              "      <td>0</td>\n",
              "      <td>0.703</td>\n",
              "      <td>0.240</td>\n",
              "      <td>152427</td>\n",
              "      <td>0.326</td>\n",
              "      <td>0.000</td>\n",
              "      <td>C#</td>\n",
              "      <td>0.0985</td>\n",
              "      <td>-12.178</td>\n",
              "      <td>Major</td>\n",
              "      <td>0.0395</td>\n",
              "      <td>171.758</td>\n",
              "      <td>4/4</td>\n",
              "      <td>0.227</td>\n",
              "    </tr>\n",
              "    <tr>\n",
              "      <th>4</th>\n",
              "      <td>Movie</td>\n",
              "      <td>Fabien Nataf</td>\n",
              "      <td>Ouverture</td>\n",
              "      <td>0IuslXpMROHdEPvSl1fTQK</td>\n",
              "      <td>4</td>\n",
              "      <td>0.950</td>\n",
              "      <td>0.331</td>\n",
              "      <td>82625</td>\n",
              "      <td>0.225</td>\n",
              "      <td>0.123</td>\n",
              "      <td>F</td>\n",
              "      <td>0.2020</td>\n",
              "      <td>-21.150</td>\n",
              "      <td>Major</td>\n",
              "      <td>0.0456</td>\n",
              "      <td>140.576</td>\n",
              "      <td>4/4</td>\n",
              "      <td>0.390</td>\n",
              "    </tr>\n",
              "  </tbody>\n",
              "</table>\n",
              "</div>"
            ],
            "text/plain": [
              "   genre        artist_name  ... time_signature valence\n",
              "0  Movie     Henri Salvador  ...            4/4   0.814\n",
              "1  Movie  Martin & les fées  ...            4/4   0.816\n",
              "2  Movie    Joseph Williams  ...            5/4   0.368\n",
              "3  Movie     Henri Salvador  ...            4/4   0.227\n",
              "4  Movie       Fabien Nataf  ...            4/4   0.390\n",
              "\n",
              "[5 rows x 18 columns]"
            ]
          },
          "metadata": {
            "tags": []
          },
          "execution_count": 124
        }
      ]
    },
    {
      "cell_type": "code",
      "metadata": {
        "id": "JlBaRAtpiI_C",
        "colab_type": "code",
        "colab": {
          "base_uri": "https://localhost:8080/",
          "height": 114
        },
        "outputId": "ee392ef0-fffd-4cc2-830a-5bb2840a736a"
      },
      "source": [
        "df.iloc[464:465]\n"
      ],
      "execution_count": null,
      "outputs": [
        {
          "output_type": "execute_result",
          "data": {
            "text/html": [
              "<div>\n",
              "<style scoped>\n",
              "    .dataframe tbody tr th:only-of-type {\n",
              "        vertical-align: middle;\n",
              "    }\n",
              "\n",
              "    .dataframe tbody tr th {\n",
              "        vertical-align: top;\n",
              "    }\n",
              "\n",
              "    .dataframe thead th {\n",
              "        text-align: right;\n",
              "    }\n",
              "</style>\n",
              "<table border=\"1\" class=\"dataframe\">\n",
              "  <thead>\n",
              "    <tr style=\"text-align: right;\">\n",
              "      <th></th>\n",
              "      <th>genre</th>\n",
              "      <th>artist_name</th>\n",
              "      <th>track_name</th>\n",
              "      <th>track_id</th>\n",
              "      <th>popularity</th>\n",
              "      <th>acousticness</th>\n",
              "      <th>danceability</th>\n",
              "      <th>duration_ms</th>\n",
              "      <th>energy</th>\n",
              "      <th>instrumentalness</th>\n",
              "      <th>key</th>\n",
              "      <th>liveness</th>\n",
              "      <th>loudness</th>\n",
              "      <th>mode</th>\n",
              "      <th>speechiness</th>\n",
              "      <th>tempo</th>\n",
              "      <th>time_signature</th>\n",
              "      <th>valence</th>\n",
              "    </tr>\n",
              "  </thead>\n",
              "  <tbody>\n",
              "    <tr>\n",
              "      <th>464</th>\n",
              "      <td>Movie</td>\n",
              "      <td>Bernard Minet</td>\n",
              "      <td>Je n'ai pas su te prendre te comprendre</td>\n",
              "      <td>44omvGaxtWafrOl2Z0YKy0</td>\n",
              "      <td>1</td>\n",
              "      <td>0.326</td>\n",
              "      <td>0.695</td>\n",
              "      <td>241027</td>\n",
              "      <td>0.967</td>\n",
              "      <td>0.00681</td>\n",
              "      <td>C</td>\n",
              "      <td>0.298</td>\n",
              "      <td>-6.243</td>\n",
              "      <td>Major</td>\n",
              "      <td>0.0338</td>\n",
              "      <td>129.984</td>\n",
              "      <td>4/4</td>\n",
              "      <td>0.962</td>\n",
              "    </tr>\n",
              "  </tbody>\n",
              "</table>\n",
              "</div>"
            ],
            "text/plain": [
              "     genre    artist_name  ... time_signature valence\n",
              "464  Movie  Bernard Minet  ...            4/4   0.962\n",
              "\n",
              "[1 rows x 18 columns]"
            ]
          },
          "metadata": {
            "tags": []
          },
          "execution_count": 133
        }
      ]
    },
    {
      "cell_type": "code",
      "metadata": {
        "id": "tMp-7RAGjXAq",
        "colab_type": "code",
        "colab": {
          "base_uri": "https://localhost:8080/",
          "height": 97
        },
        "outputId": "e3a18ac8-e69b-4098-90f5-34fa2197577a"
      },
      "source": [
        "df.iloc[0:1]"
      ],
      "execution_count": null,
      "outputs": [
        {
          "output_type": "execute_result",
          "data": {
            "text/html": [
              "<div>\n",
              "<style scoped>\n",
              "    .dataframe tbody tr th:only-of-type {\n",
              "        vertical-align: middle;\n",
              "    }\n",
              "\n",
              "    .dataframe tbody tr th {\n",
              "        vertical-align: top;\n",
              "    }\n",
              "\n",
              "    .dataframe thead th {\n",
              "        text-align: right;\n",
              "    }\n",
              "</style>\n",
              "<table border=\"1\" class=\"dataframe\">\n",
              "  <thead>\n",
              "    <tr style=\"text-align: right;\">\n",
              "      <th></th>\n",
              "      <th>genre</th>\n",
              "      <th>artist_name</th>\n",
              "      <th>track_name</th>\n",
              "      <th>track_id</th>\n",
              "      <th>popularity</th>\n",
              "      <th>acousticness</th>\n",
              "      <th>danceability</th>\n",
              "      <th>duration_ms</th>\n",
              "      <th>energy</th>\n",
              "      <th>instrumentalness</th>\n",
              "      <th>key</th>\n",
              "      <th>liveness</th>\n",
              "      <th>loudness</th>\n",
              "      <th>mode</th>\n",
              "      <th>speechiness</th>\n",
              "      <th>tempo</th>\n",
              "      <th>time_signature</th>\n",
              "      <th>valence</th>\n",
              "    </tr>\n",
              "  </thead>\n",
              "  <tbody>\n",
              "    <tr>\n",
              "      <th>0</th>\n",
              "      <td>Movie</td>\n",
              "      <td>Henri Salvador</td>\n",
              "      <td>C'est beau de faire un Show</td>\n",
              "      <td>0BRjO6ga9RKCKjfDqeFgWV</td>\n",
              "      <td>0</td>\n",
              "      <td>0.611</td>\n",
              "      <td>0.389</td>\n",
              "      <td>99373</td>\n",
              "      <td>0.91</td>\n",
              "      <td>0.0</td>\n",
              "      <td>C#</td>\n",
              "      <td>0.346</td>\n",
              "      <td>-1.828</td>\n",
              "      <td>Major</td>\n",
              "      <td>0.0525</td>\n",
              "      <td>166.969</td>\n",
              "      <td>4/4</td>\n",
              "      <td>0.814</td>\n",
              "    </tr>\n",
              "  </tbody>\n",
              "</table>\n",
              "</div>"
            ],
            "text/plain": [
              "   genre     artist_name  ... time_signature valence\n",
              "0  Movie  Henri Salvador  ...            4/4   0.814\n",
              "\n",
              "[1 rows x 18 columns]"
            ]
          },
          "metadata": {
            "tags": []
          },
          "execution_count": 134
        }
      ]
    },
    {
      "cell_type": "code",
      "metadata": {
        "id": "pIAtRTamnViK",
        "colab_type": "code",
        "colab": {}
      },
      "source": [
        "import plotly.express as px\n",
        "df = px.data.wind()\n",
        "fig = px.scatter_polar(df, r=\"frequency\", theta=\"direction\",\n",
        "                       color=\"strength\", symbol=\"strength\", size=\"frequency\",\n",
        "                       color_discrete_sequence=px.colors.sequential.Plasma_r)\n",
        "fig.show()"
      ],
      "execution_count": null,
      "outputs": []
    },
    {
      "cell_type": "code",
      "metadata": {
        "id": "-ygt5fPVnhT-",
        "colab_type": "code",
        "colab": {}
      },
      "source": [
        "df_T = df_scaled.T"
      ],
      "execution_count": null,
      "outputs": []
    },
    {
      "cell_type": "code",
      "metadata": {
        "id": "n65EB0ObnGip",
        "colab_type": "code",
        "colab": {
          "base_uri": "https://localhost:8080/",
          "height": 542
        },
        "outputId": "341677a1-6326-4c0a-d738-945407c062a1"
      },
      "source": [
        "import plotly.express as px\n",
        "\n",
        "fig = px.bar_polar(df_T, r = 0,hover_name=headers)\n",
        "fig.show()"
      ],
      "execution_count": null,
      "outputs": [
        {
          "output_type": "display_data",
          "data": {
            "text/html": [
              "<html>\n",
              "<head><meta charset=\"utf-8\" /></head>\n",
              "<body>\n",
              "    <div>\n",
              "            <script src=\"https://cdnjs.cloudflare.com/ajax/libs/mathjax/2.7.5/MathJax.js?config=TeX-AMS-MML_SVG\"></script><script type=\"text/javascript\">if (window.MathJax) {MathJax.Hub.Config({SVG: {font: \"STIX-Web\"}});}</script>\n",
              "                <script type=\"text/javascript\">window.PlotlyConfig = {MathJaxConfig: 'local'};</script>\n",
              "        <script src=\"https://cdn.plot.ly/plotly-latest.min.js\"></script>    \n",
              "            <div id=\"0da3320b-56ed-4a41-812e-063754da7dd6\" class=\"plotly-graph-div\" style=\"height:525px; width:100%;\"></div>\n",
              "            <script type=\"text/javascript\">\n",
              "                \n",
              "                    window.PLOTLYENV=window.PLOTLYENV || {};\n",
              "                    \n",
              "                if (document.getElementById(\"0da3320b-56ed-4a41-812e-063754da7dd6\")) {\n",
              "                    Plotly.newPlot(\n",
              "                        '0da3320b-56ed-4a41-812e-063754da7dd6',\n",
              "                        [{\"hoverlabel\": {\"namelength\": 0}, \"hovertemplate\": \"<b>%{hovertext}</b><br><br>0=%{r}\", \"hovertext\": [\"popularity\", \"acousticness\", \"danceability\", \"duration_ms\", \"energy\", \"instrumentalness\", \"key\", \"liveness\", \"loudness\", \"mode\", \"speechiness\", \"tempo\", \"time_signature\", \"valence\"], \"legendgroup\": \"\", \"marker\": {\"color\": \"#636efa\"}, \"name\": \"\", \"r\": [0.0, 0.6138444798867277, 0.3641758507932663, 0.022302901262197007, 0.9322701804076103, 0.0, 0.09090909090909091, 0.33511205976520814, 1.0, 1.0, 0.031243335465984224, 0.7778085687398607, 0.75, 0.8365878725590956], \"showlegend\": false, \"subplot\": \"polar\", \"type\": \"barpolar\"}],\n",
              "                        {\"barmode\": \"relative\", \"legend\": {\"tracegroupgap\": 0}, \"margin\": {\"t\": 60}, \"polar\": {\"angularaxis\": {\"direction\": \"clockwise\", \"rotation\": 90}, \"domain\": {\"x\": [0.0, 1.0], \"y\": [0.0, 1.0]}}, \"template\": {\"data\": {\"bar\": [{\"error_x\": {\"color\": \"#2a3f5f\"}, \"error_y\": {\"color\": \"#2a3f5f\"}, \"marker\": {\"line\": {\"color\": \"#E5ECF6\", \"width\": 0.5}}, \"type\": \"bar\"}], \"barpolar\": [{\"marker\": {\"line\": {\"color\": \"#E5ECF6\", \"width\": 0.5}}, \"type\": \"barpolar\"}], \"carpet\": [{\"aaxis\": {\"endlinecolor\": \"#2a3f5f\", \"gridcolor\": \"white\", \"linecolor\": \"white\", \"minorgridcolor\": \"white\", \"startlinecolor\": \"#2a3f5f\"}, \"baxis\": {\"endlinecolor\": \"#2a3f5f\", \"gridcolor\": \"white\", \"linecolor\": \"white\", \"minorgridcolor\": \"white\", \"startlinecolor\": \"#2a3f5f\"}, \"type\": \"carpet\"}], \"choropleth\": [{\"colorbar\": {\"outlinewidth\": 0, \"ticks\": \"\"}, \"type\": \"choropleth\"}], \"contour\": [{\"colorbar\": {\"outlinewidth\": 0, \"ticks\": \"\"}, \"colorscale\": [[0.0, \"#0d0887\"], [0.1111111111111111, \"#46039f\"], [0.2222222222222222, \"#7201a8\"], [0.3333333333333333, \"#9c179e\"], [0.4444444444444444, \"#bd3786\"], [0.5555555555555556, \"#d8576b\"], [0.6666666666666666, \"#ed7953\"], [0.7777777777777778, \"#fb9f3a\"], [0.8888888888888888, \"#fdca26\"], [1.0, \"#f0f921\"]], \"type\": \"contour\"}], \"contourcarpet\": [{\"colorbar\": {\"outlinewidth\": 0, \"ticks\": \"\"}, \"type\": \"contourcarpet\"}], \"heatmap\": [{\"colorbar\": {\"outlinewidth\": 0, \"ticks\": \"\"}, \"colorscale\": [[0.0, \"#0d0887\"], [0.1111111111111111, \"#46039f\"], [0.2222222222222222, \"#7201a8\"], [0.3333333333333333, \"#9c179e\"], [0.4444444444444444, \"#bd3786\"], [0.5555555555555556, \"#d8576b\"], [0.6666666666666666, \"#ed7953\"], [0.7777777777777778, \"#fb9f3a\"], [0.8888888888888888, \"#fdca26\"], [1.0, \"#f0f921\"]], \"type\": \"heatmap\"}], \"heatmapgl\": [{\"colorbar\": {\"outlinewidth\": 0, \"ticks\": \"\"}, \"colorscale\": [[0.0, \"#0d0887\"], [0.1111111111111111, \"#46039f\"], [0.2222222222222222, \"#7201a8\"], [0.3333333333333333, \"#9c179e\"], [0.4444444444444444, \"#bd3786\"], [0.5555555555555556, \"#d8576b\"], [0.6666666666666666, \"#ed7953\"], [0.7777777777777778, \"#fb9f3a\"], [0.8888888888888888, \"#fdca26\"], [1.0, \"#f0f921\"]], \"type\": \"heatmapgl\"}], \"histogram\": [{\"marker\": {\"colorbar\": {\"outlinewidth\": 0, \"ticks\": \"\"}}, \"type\": \"histogram\"}], \"histogram2d\": [{\"colorbar\": {\"outlinewidth\": 0, \"ticks\": \"\"}, \"colorscale\": [[0.0, \"#0d0887\"], [0.1111111111111111, \"#46039f\"], [0.2222222222222222, \"#7201a8\"], [0.3333333333333333, \"#9c179e\"], [0.4444444444444444, \"#bd3786\"], [0.5555555555555556, \"#d8576b\"], [0.6666666666666666, \"#ed7953\"], [0.7777777777777778, \"#fb9f3a\"], [0.8888888888888888, \"#fdca26\"], [1.0, \"#f0f921\"]], \"type\": \"histogram2d\"}], \"histogram2dcontour\": [{\"colorbar\": {\"outlinewidth\": 0, \"ticks\": \"\"}, \"colorscale\": [[0.0, \"#0d0887\"], [0.1111111111111111, \"#46039f\"], [0.2222222222222222, \"#7201a8\"], [0.3333333333333333, \"#9c179e\"], [0.4444444444444444, \"#bd3786\"], [0.5555555555555556, \"#d8576b\"], [0.6666666666666666, \"#ed7953\"], [0.7777777777777778, \"#fb9f3a\"], [0.8888888888888888, \"#fdca26\"], [1.0, \"#f0f921\"]], \"type\": \"histogram2dcontour\"}], \"mesh3d\": [{\"colorbar\": {\"outlinewidth\": 0, \"ticks\": \"\"}, \"type\": \"mesh3d\"}], \"parcoords\": [{\"line\": {\"colorbar\": {\"outlinewidth\": 0, \"ticks\": \"\"}}, \"type\": \"parcoords\"}], \"pie\": [{\"automargin\": true, \"type\": \"pie\"}], \"scatter\": [{\"marker\": {\"colorbar\": {\"outlinewidth\": 0, \"ticks\": \"\"}}, \"type\": \"scatter\"}], \"scatter3d\": [{\"line\": {\"colorbar\": {\"outlinewidth\": 0, \"ticks\": \"\"}}, \"marker\": {\"colorbar\": {\"outlinewidth\": 0, \"ticks\": \"\"}}, \"type\": \"scatter3d\"}], \"scattercarpet\": [{\"marker\": {\"colorbar\": {\"outlinewidth\": 0, \"ticks\": \"\"}}, \"type\": \"scattercarpet\"}], \"scattergeo\": [{\"marker\": {\"colorbar\": {\"outlinewidth\": 0, \"ticks\": \"\"}}, \"type\": \"scattergeo\"}], \"scattergl\": [{\"marker\": {\"colorbar\": {\"outlinewidth\": 0, \"ticks\": \"\"}}, \"type\": \"scattergl\"}], \"scattermapbox\": [{\"marker\": {\"colorbar\": {\"outlinewidth\": 0, \"ticks\": \"\"}}, \"type\": \"scattermapbox\"}], \"scatterpolar\": [{\"marker\": {\"colorbar\": {\"outlinewidth\": 0, \"ticks\": \"\"}}, \"type\": \"scatterpolar\"}], \"scatterpolargl\": [{\"marker\": {\"colorbar\": {\"outlinewidth\": 0, \"ticks\": \"\"}}, \"type\": \"scatterpolargl\"}], \"scatterternary\": [{\"marker\": {\"colorbar\": {\"outlinewidth\": 0, \"ticks\": \"\"}}, \"type\": \"scatterternary\"}], \"surface\": [{\"colorbar\": {\"outlinewidth\": 0, \"ticks\": \"\"}, \"colorscale\": [[0.0, \"#0d0887\"], [0.1111111111111111, \"#46039f\"], [0.2222222222222222, \"#7201a8\"], [0.3333333333333333, \"#9c179e\"], [0.4444444444444444, \"#bd3786\"], [0.5555555555555556, \"#d8576b\"], [0.6666666666666666, \"#ed7953\"], [0.7777777777777778, \"#fb9f3a\"], [0.8888888888888888, \"#fdca26\"], [1.0, \"#f0f921\"]], \"type\": \"surface\"}], \"table\": [{\"cells\": {\"fill\": {\"color\": \"#EBF0F8\"}, \"line\": {\"color\": \"white\"}}, \"header\": {\"fill\": {\"color\": \"#C8D4E3\"}, \"line\": {\"color\": \"white\"}}, \"type\": \"table\"}]}, \"layout\": {\"annotationdefaults\": {\"arrowcolor\": \"#2a3f5f\", \"arrowhead\": 0, \"arrowwidth\": 1}, \"coloraxis\": {\"colorbar\": {\"outlinewidth\": 0, \"ticks\": \"\"}}, \"colorscale\": {\"diverging\": [[0, \"#8e0152\"], [0.1, \"#c51b7d\"], [0.2, \"#de77ae\"], [0.3, \"#f1b6da\"], [0.4, \"#fde0ef\"], [0.5, \"#f7f7f7\"], [0.6, \"#e6f5d0\"], [0.7, \"#b8e186\"], [0.8, \"#7fbc41\"], [0.9, \"#4d9221\"], [1, \"#276419\"]], \"sequential\": [[0.0, \"#0d0887\"], [0.1111111111111111, \"#46039f\"], [0.2222222222222222, \"#7201a8\"], [0.3333333333333333, \"#9c179e\"], [0.4444444444444444, \"#bd3786\"], [0.5555555555555556, \"#d8576b\"], [0.6666666666666666, \"#ed7953\"], [0.7777777777777778, \"#fb9f3a\"], [0.8888888888888888, \"#fdca26\"], [1.0, \"#f0f921\"]], \"sequentialminus\": [[0.0, \"#0d0887\"], [0.1111111111111111, \"#46039f\"], [0.2222222222222222, \"#7201a8\"], [0.3333333333333333, \"#9c179e\"], [0.4444444444444444, \"#bd3786\"], [0.5555555555555556, \"#d8576b\"], [0.6666666666666666, \"#ed7953\"], [0.7777777777777778, \"#fb9f3a\"], [0.8888888888888888, \"#fdca26\"], [1.0, \"#f0f921\"]]}, \"colorway\": [\"#636efa\", \"#EF553B\", \"#00cc96\", \"#ab63fa\", \"#FFA15A\", \"#19d3f3\", \"#FF6692\", \"#B6E880\", \"#FF97FF\", \"#FECB52\"], \"font\": {\"color\": \"#2a3f5f\"}, \"geo\": {\"bgcolor\": \"white\", \"lakecolor\": \"white\", \"landcolor\": \"#E5ECF6\", \"showlakes\": true, \"showland\": true, \"subunitcolor\": \"white\"}, \"hoverlabel\": {\"align\": \"left\"}, \"hovermode\": \"closest\", \"mapbox\": {\"style\": \"light\"}, \"paper_bgcolor\": \"white\", \"plot_bgcolor\": \"#E5ECF6\", \"polar\": {\"angularaxis\": {\"gridcolor\": \"white\", \"linecolor\": \"white\", \"ticks\": \"\"}, \"bgcolor\": \"#E5ECF6\", \"radialaxis\": {\"gridcolor\": \"white\", \"linecolor\": \"white\", \"ticks\": \"\"}}, \"scene\": {\"xaxis\": {\"backgroundcolor\": \"#E5ECF6\", \"gridcolor\": \"white\", \"gridwidth\": 2, \"linecolor\": \"white\", \"showbackground\": true, \"ticks\": \"\", \"zerolinecolor\": \"white\"}, \"yaxis\": {\"backgroundcolor\": \"#E5ECF6\", \"gridcolor\": \"white\", \"gridwidth\": 2, \"linecolor\": \"white\", \"showbackground\": true, \"ticks\": \"\", \"zerolinecolor\": \"white\"}, \"zaxis\": {\"backgroundcolor\": \"#E5ECF6\", \"gridcolor\": \"white\", \"gridwidth\": 2, \"linecolor\": \"white\", \"showbackground\": true, \"ticks\": \"\", \"zerolinecolor\": \"white\"}}, \"shapedefaults\": {\"line\": {\"color\": \"#2a3f5f\"}}, \"ternary\": {\"aaxis\": {\"gridcolor\": \"white\", \"linecolor\": \"white\", \"ticks\": \"\"}, \"baxis\": {\"gridcolor\": \"white\", \"linecolor\": \"white\", \"ticks\": \"\"}, \"bgcolor\": \"#E5ECF6\", \"caxis\": {\"gridcolor\": \"white\", \"linecolor\": \"white\", \"ticks\": \"\"}}, \"title\": {\"x\": 0.05}, \"xaxis\": {\"automargin\": true, \"gridcolor\": \"white\", \"linecolor\": \"white\", \"ticks\": \"\", \"title\": {\"standoff\": 15}, \"zerolinecolor\": \"white\", \"zerolinewidth\": 2}, \"yaxis\": {\"automargin\": true, \"gridcolor\": \"white\", \"linecolor\": \"white\", \"ticks\": \"\", \"title\": {\"standoff\": 15}, \"zerolinecolor\": \"white\", \"zerolinewidth\": 2}}}},\n",
              "                        {\"responsive\": true}\n",
              "                    ).then(function(){\n",
              "                            \n",
              "var gd = document.getElementById('0da3320b-56ed-4a41-812e-063754da7dd6');\n",
              "var x = new MutationObserver(function (mutations, observer) {{\n",
              "        var display = window.getComputedStyle(gd).display;\n",
              "        if (!display || display === 'none') {{\n",
              "            console.log([gd, 'removed!']);\n",
              "            Plotly.purge(gd);\n",
              "            observer.disconnect();\n",
              "        }}\n",
              "}});\n",
              "\n",
              "// Listen for the removal of the full notebook cells\n",
              "var notebookContainer = gd.closest('#notebook-container');\n",
              "if (notebookContainer) {{\n",
              "    x.observe(notebookContainer, {childList: true});\n",
              "}}\n",
              "\n",
              "// Listen for the clearing of the current output cell\n",
              "var outputEl = gd.closest('.output');\n",
              "if (outputEl) {{\n",
              "    x.observe(outputEl, {childList: true});\n",
              "}}\n",
              "\n",
              "                        })\n",
              "                };\n",
              "                \n",
              "            </script>\n",
              "        </div>\n",
              "</body>\n",
              "</html>"
            ]
          },
          "metadata": {
            "tags": []
          }
        }
      ]
    },
    {
      "cell_type": "code",
      "metadata": {
        "id": "_RXo4CCJosM0",
        "colab_type": "code",
        "colab": {
          "base_uri": "https://localhost:8080/",
          "height": 542
        },
        "outputId": "1efa44d7-b71d-458e-dceb-4864a036222b"
      },
      "source": [
        "fig = px.bar_polar(df_T, r = 464, hover_name=headers)\n",
        "fig.show()"
      ],
      "execution_count": null,
      "outputs": [
        {
          "output_type": "display_data",
          "data": {
            "text/html": [
              "<html>\n",
              "<head><meta charset=\"utf-8\" /></head>\n",
              "<body>\n",
              "    <div>\n",
              "            <script src=\"https://cdnjs.cloudflare.com/ajax/libs/mathjax/2.7.5/MathJax.js?config=TeX-AMS-MML_SVG\"></script><script type=\"text/javascript\">if (window.MathJax) {MathJax.Hub.Config({SVG: {font: \"STIX-Web\"}});}</script>\n",
              "                <script type=\"text/javascript\">window.PlotlyConfig = {MathJaxConfig: 'local'};</script>\n",
              "        <script src=\"https://cdn.plot.ly/plotly-latest.min.js\"></script>    \n",
              "            <div id=\"f82b1edd-cdc8-4352-bd53-430ff698ff3c\" class=\"plotly-graph-div\" style=\"height:525px; width:100%;\"></div>\n",
              "            <script type=\"text/javascript\">\n",
              "                \n",
              "                    window.PLOTLYENV=window.PLOTLYENV || {};\n",
              "                    \n",
              "                if (document.getElementById(\"f82b1edd-cdc8-4352-bd53-430ff698ff3c\")) {\n",
              "                    Plotly.newPlot(\n",
              "                        'f82b1edd-cdc8-4352-bd53-430ff698ff3c',\n",
              "                        [{\"hoverlabel\": {\"namelength\": 0}, \"hovertemplate\": \"<b>%{hovertext}</b><br><br>464=%{r}\", \"hovertext\": [\"popularity\", \"acousticness\", \"danceability\", \"duration_ms\", \"energy\", \"instrumentalness\", \"key\", \"liveness\", \"loudness\", \"mode\", \"speechiness\", \"tempo\", \"time_signature\", \"valence\"], \"legendgroup\": \"\", \"marker\": {\"color\": \"#636efa\"}, \"name\": \"\", \"r\": [0.013157894736842105, 0.3272446798026585, 0.7347704977594768, 0.06151324685433401, 0.9907641155101288, 0.0069207317073170715, 0.0, 0.28388473852721446, 0.8116949586283375, 1.0, 0.011303049690765624, 0.5642828688709146, 0.75, 0.9886947584789312], \"showlegend\": false, \"subplot\": \"polar\", \"type\": \"barpolar\"}],\n",
              "                        {\"barmode\": \"relative\", \"legend\": {\"tracegroupgap\": 0}, \"margin\": {\"t\": 60}, \"polar\": {\"angularaxis\": {\"direction\": \"clockwise\", \"rotation\": 90}, \"domain\": {\"x\": [0.0, 1.0], \"y\": [0.0, 1.0]}}, \"template\": {\"data\": {\"bar\": [{\"error_x\": {\"color\": \"#2a3f5f\"}, \"error_y\": {\"color\": \"#2a3f5f\"}, \"marker\": {\"line\": {\"color\": \"#E5ECF6\", \"width\": 0.5}}, \"type\": \"bar\"}], \"barpolar\": [{\"marker\": {\"line\": {\"color\": \"#E5ECF6\", \"width\": 0.5}}, \"type\": \"barpolar\"}], \"carpet\": [{\"aaxis\": {\"endlinecolor\": \"#2a3f5f\", \"gridcolor\": \"white\", \"linecolor\": \"white\", \"minorgridcolor\": \"white\", \"startlinecolor\": \"#2a3f5f\"}, \"baxis\": {\"endlinecolor\": \"#2a3f5f\", \"gridcolor\": \"white\", \"linecolor\": \"white\", \"minorgridcolor\": \"white\", \"startlinecolor\": \"#2a3f5f\"}, \"type\": \"carpet\"}], \"choropleth\": [{\"colorbar\": {\"outlinewidth\": 0, \"ticks\": \"\"}, \"type\": \"choropleth\"}], \"contour\": [{\"colorbar\": {\"outlinewidth\": 0, \"ticks\": \"\"}, \"colorscale\": [[0.0, \"#0d0887\"], [0.1111111111111111, \"#46039f\"], [0.2222222222222222, \"#7201a8\"], [0.3333333333333333, \"#9c179e\"], [0.4444444444444444, \"#bd3786\"], [0.5555555555555556, \"#d8576b\"], [0.6666666666666666, \"#ed7953\"], [0.7777777777777778, \"#fb9f3a\"], [0.8888888888888888, \"#fdca26\"], [1.0, \"#f0f921\"]], \"type\": \"contour\"}], \"contourcarpet\": [{\"colorbar\": {\"outlinewidth\": 0, \"ticks\": \"\"}, \"type\": \"contourcarpet\"}], \"heatmap\": [{\"colorbar\": {\"outlinewidth\": 0, \"ticks\": \"\"}, \"colorscale\": [[0.0, \"#0d0887\"], [0.1111111111111111, \"#46039f\"], [0.2222222222222222, \"#7201a8\"], [0.3333333333333333, \"#9c179e\"], [0.4444444444444444, \"#bd3786\"], [0.5555555555555556, \"#d8576b\"], [0.6666666666666666, \"#ed7953\"], [0.7777777777777778, \"#fb9f3a\"], [0.8888888888888888, \"#fdca26\"], [1.0, \"#f0f921\"]], \"type\": \"heatmap\"}], \"heatmapgl\": [{\"colorbar\": {\"outlinewidth\": 0, \"ticks\": \"\"}, \"colorscale\": [[0.0, \"#0d0887\"], [0.1111111111111111, \"#46039f\"], [0.2222222222222222, \"#7201a8\"], [0.3333333333333333, \"#9c179e\"], [0.4444444444444444, \"#bd3786\"], [0.5555555555555556, \"#d8576b\"], [0.6666666666666666, \"#ed7953\"], [0.7777777777777778, \"#fb9f3a\"], [0.8888888888888888, \"#fdca26\"], [1.0, \"#f0f921\"]], \"type\": \"heatmapgl\"}], \"histogram\": [{\"marker\": {\"colorbar\": {\"outlinewidth\": 0, \"ticks\": \"\"}}, \"type\": \"histogram\"}], \"histogram2d\": [{\"colorbar\": {\"outlinewidth\": 0, \"ticks\": \"\"}, \"colorscale\": [[0.0, \"#0d0887\"], [0.1111111111111111, \"#46039f\"], [0.2222222222222222, \"#7201a8\"], [0.3333333333333333, \"#9c179e\"], [0.4444444444444444, \"#bd3786\"], [0.5555555555555556, \"#d8576b\"], [0.6666666666666666, \"#ed7953\"], [0.7777777777777778, \"#fb9f3a\"], [0.8888888888888888, \"#fdca26\"], [1.0, \"#f0f921\"]], \"type\": \"histogram2d\"}], \"histogram2dcontour\": [{\"colorbar\": {\"outlinewidth\": 0, \"ticks\": \"\"}, \"colorscale\": [[0.0, \"#0d0887\"], [0.1111111111111111, \"#46039f\"], [0.2222222222222222, \"#7201a8\"], [0.3333333333333333, \"#9c179e\"], [0.4444444444444444, \"#bd3786\"], [0.5555555555555556, \"#d8576b\"], [0.6666666666666666, \"#ed7953\"], [0.7777777777777778, \"#fb9f3a\"], [0.8888888888888888, \"#fdca26\"], [1.0, \"#f0f921\"]], \"type\": \"histogram2dcontour\"}], \"mesh3d\": [{\"colorbar\": {\"outlinewidth\": 0, \"ticks\": \"\"}, \"type\": \"mesh3d\"}], \"parcoords\": [{\"line\": {\"colorbar\": {\"outlinewidth\": 0, \"ticks\": \"\"}}, \"type\": \"parcoords\"}], \"pie\": [{\"automargin\": true, \"type\": \"pie\"}], \"scatter\": [{\"marker\": {\"colorbar\": {\"outlinewidth\": 0, \"ticks\": \"\"}}, \"type\": \"scatter\"}], \"scatter3d\": [{\"line\": {\"colorbar\": {\"outlinewidth\": 0, \"ticks\": \"\"}}, \"marker\": {\"colorbar\": {\"outlinewidth\": 0, \"ticks\": \"\"}}, \"type\": \"scatter3d\"}], \"scattercarpet\": [{\"marker\": {\"colorbar\": {\"outlinewidth\": 0, \"ticks\": \"\"}}, \"type\": \"scattercarpet\"}], \"scattergeo\": [{\"marker\": {\"colorbar\": {\"outlinewidth\": 0, \"ticks\": \"\"}}, \"type\": \"scattergeo\"}], \"scattergl\": [{\"marker\": {\"colorbar\": {\"outlinewidth\": 0, \"ticks\": \"\"}}, \"type\": \"scattergl\"}], \"scattermapbox\": [{\"marker\": {\"colorbar\": {\"outlinewidth\": 0, \"ticks\": \"\"}}, \"type\": \"scattermapbox\"}], \"scatterpolar\": [{\"marker\": {\"colorbar\": {\"outlinewidth\": 0, \"ticks\": \"\"}}, \"type\": \"scatterpolar\"}], \"scatterpolargl\": [{\"marker\": {\"colorbar\": {\"outlinewidth\": 0, \"ticks\": \"\"}}, \"type\": \"scatterpolargl\"}], \"scatterternary\": [{\"marker\": {\"colorbar\": {\"outlinewidth\": 0, \"ticks\": \"\"}}, \"type\": \"scatterternary\"}], \"surface\": [{\"colorbar\": {\"outlinewidth\": 0, \"ticks\": \"\"}, \"colorscale\": [[0.0, \"#0d0887\"], [0.1111111111111111, \"#46039f\"], [0.2222222222222222, \"#7201a8\"], [0.3333333333333333, \"#9c179e\"], [0.4444444444444444, \"#bd3786\"], [0.5555555555555556, \"#d8576b\"], [0.6666666666666666, \"#ed7953\"], [0.7777777777777778, \"#fb9f3a\"], [0.8888888888888888, \"#fdca26\"], [1.0, \"#f0f921\"]], \"type\": \"surface\"}], \"table\": [{\"cells\": {\"fill\": {\"color\": \"#EBF0F8\"}, \"line\": {\"color\": \"white\"}}, \"header\": {\"fill\": {\"color\": \"#C8D4E3\"}, \"line\": {\"color\": \"white\"}}, \"type\": \"table\"}]}, \"layout\": {\"annotationdefaults\": {\"arrowcolor\": \"#2a3f5f\", \"arrowhead\": 0, \"arrowwidth\": 1}, \"coloraxis\": {\"colorbar\": {\"outlinewidth\": 0, \"ticks\": \"\"}}, \"colorscale\": {\"diverging\": [[0, \"#8e0152\"], [0.1, \"#c51b7d\"], [0.2, \"#de77ae\"], [0.3, \"#f1b6da\"], [0.4, \"#fde0ef\"], [0.5, \"#f7f7f7\"], [0.6, \"#e6f5d0\"], [0.7, \"#b8e186\"], [0.8, \"#7fbc41\"], [0.9, \"#4d9221\"], [1, \"#276419\"]], \"sequential\": [[0.0, \"#0d0887\"], [0.1111111111111111, \"#46039f\"], [0.2222222222222222, \"#7201a8\"], [0.3333333333333333, \"#9c179e\"], [0.4444444444444444, \"#bd3786\"], [0.5555555555555556, \"#d8576b\"], [0.6666666666666666, \"#ed7953\"], [0.7777777777777778, \"#fb9f3a\"], [0.8888888888888888, \"#fdca26\"], [1.0, \"#f0f921\"]], \"sequentialminus\": [[0.0, \"#0d0887\"], [0.1111111111111111, \"#46039f\"], [0.2222222222222222, \"#7201a8\"], [0.3333333333333333, \"#9c179e\"], [0.4444444444444444, \"#bd3786\"], [0.5555555555555556, \"#d8576b\"], [0.6666666666666666, \"#ed7953\"], [0.7777777777777778, \"#fb9f3a\"], [0.8888888888888888, \"#fdca26\"], [1.0, \"#f0f921\"]]}, \"colorway\": [\"#636efa\", \"#EF553B\", \"#00cc96\", \"#ab63fa\", \"#FFA15A\", \"#19d3f3\", \"#FF6692\", \"#B6E880\", \"#FF97FF\", \"#FECB52\"], \"font\": {\"color\": \"#2a3f5f\"}, \"geo\": {\"bgcolor\": \"white\", \"lakecolor\": \"white\", \"landcolor\": \"#E5ECF6\", \"showlakes\": true, \"showland\": true, \"subunitcolor\": \"white\"}, \"hoverlabel\": {\"align\": \"left\"}, \"hovermode\": \"closest\", \"mapbox\": {\"style\": \"light\"}, \"paper_bgcolor\": \"white\", \"plot_bgcolor\": \"#E5ECF6\", \"polar\": {\"angularaxis\": {\"gridcolor\": \"white\", \"linecolor\": \"white\", \"ticks\": \"\"}, \"bgcolor\": \"#E5ECF6\", \"radialaxis\": {\"gridcolor\": \"white\", \"linecolor\": \"white\", \"ticks\": \"\"}}, \"scene\": {\"xaxis\": {\"backgroundcolor\": \"#E5ECF6\", \"gridcolor\": \"white\", \"gridwidth\": 2, \"linecolor\": \"white\", \"showbackground\": true, \"ticks\": \"\", \"zerolinecolor\": \"white\"}, \"yaxis\": {\"backgroundcolor\": \"#E5ECF6\", \"gridcolor\": \"white\", \"gridwidth\": 2, \"linecolor\": \"white\", \"showbackground\": true, \"ticks\": \"\", \"zerolinecolor\": \"white\"}, \"zaxis\": {\"backgroundcolor\": \"#E5ECF6\", \"gridcolor\": \"white\", \"gridwidth\": 2, \"linecolor\": \"white\", \"showbackground\": true, \"ticks\": \"\", \"zerolinecolor\": \"white\"}}, \"shapedefaults\": {\"line\": {\"color\": \"#2a3f5f\"}}, \"ternary\": {\"aaxis\": {\"gridcolor\": \"white\", \"linecolor\": \"white\", \"ticks\": \"\"}, \"baxis\": {\"gridcolor\": \"white\", \"linecolor\": \"white\", \"ticks\": \"\"}, \"bgcolor\": \"#E5ECF6\", \"caxis\": {\"gridcolor\": \"white\", \"linecolor\": \"white\", \"ticks\": \"\"}}, \"title\": {\"x\": 0.05}, \"xaxis\": {\"automargin\": true, \"gridcolor\": \"white\", \"linecolor\": \"white\", \"ticks\": \"\", \"title\": {\"standoff\": 15}, \"zerolinecolor\": \"white\", \"zerolinewidth\": 2}, \"yaxis\": {\"automargin\": true, \"gridcolor\": \"white\", \"linecolor\": \"white\", \"ticks\": \"\", \"title\": {\"standoff\": 15}, \"zerolinecolor\": \"white\", \"zerolinewidth\": 2}}}},\n",
              "                        {\"responsive\": true}\n",
              "                    ).then(function(){\n",
              "                            \n",
              "var gd = document.getElementById('f82b1edd-cdc8-4352-bd53-430ff698ff3c');\n",
              "var x = new MutationObserver(function (mutations, observer) {{\n",
              "        var display = window.getComputedStyle(gd).display;\n",
              "        if (!display || display === 'none') {{\n",
              "            console.log([gd, 'removed!']);\n",
              "            Plotly.purge(gd);\n",
              "            observer.disconnect();\n",
              "        }}\n",
              "}});\n",
              "\n",
              "// Listen for the removal of the full notebook cells\n",
              "var notebookContainer = gd.closest('#notebook-container');\n",
              "if (notebookContainer) {{\n",
              "    x.observe(notebookContainer, {childList: true});\n",
              "}}\n",
              "\n",
              "// Listen for the clearing of the current output cell\n",
              "var outputEl = gd.closest('.output');\n",
              "if (outputEl) {{\n",
              "    x.observe(outputEl, {childList: true});\n",
              "}}\n",
              "\n",
              "                        })\n",
              "                };\n",
              "                \n",
              "            </script>\n",
              "        </div>\n",
              "</body>\n",
              "</html>"
            ]
          },
          "metadata": {
            "tags": []
          }
        }
      ]
    }
  ]
}